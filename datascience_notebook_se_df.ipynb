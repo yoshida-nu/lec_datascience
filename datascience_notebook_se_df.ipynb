{
 "cells": [
  {
   "cell_type": "markdown",
   "metadata": {
    "id": "2ymTsyyhzpvt"
   },
   "source": [
    "# 事前準備：共通コードの実行\n",
    "このノートブックに接続したら，まずは以下の2つの共通コード（コードAとコードB）を実行する．\n",
    "これらの共通コードを実行しないと，それ以降のコードが実行できないので注意する．\n",
    "また，コードAとコードBは，ノートブックに接続するたび毎回実行すること（ノートブックに接続中は，何度も実行する必要はない）．  \n",
    "\n",
    "共通コードの詳細についての説明は割愛するので，コードの内容の理解は必須とはしない（実行結果を見やすくするための「おまじない」と考えればよい）．  "
   ]
  },
  {
   "cell_type": "code",
   "execution_count": null,
   "metadata": {
    "colab": {
     "base_uri": "https://localhost:8080/"
    },
    "executionInfo": {
     "elapsed": 18690,
     "status": "ok",
     "timestamp": 1715991945042,
     "user": {
      "displayName": "Takahiro YOSHIDA",
      "userId": "00096252480874798687"
     },
     "user_tz": -540
    },
    "id": "3pAqkx-zbIU2",
    "outputId": "f44879d9-8842-40eb-ba41-312077f7c7c9"
   },
   "outputs": [],
   "source": [
    "# コードA：日本語化ライブラリ導入\n",
    "! pip install japanize-matplotlib | tail -n 1"
   ]
  },
  {
   "cell_type": "code",
   "execution_count": 3,
   "metadata": {
    "executionInfo": {
     "elapsed": 2534,
     "status": "ok",
     "timestamp": 1715991961417,
     "user": {
      "displayName": "Takahiro YOSHIDA",
      "userId": "00096252480874798687"
     },
     "user_tz": -540
    },
    "id": "SOfPe7UybRuo"
   },
   "outputs": [],
   "source": [
    "# コードB：共通事前処理\n",
    "\n",
    "#B1:余分なワーニングを非表示にする\n",
    "import warnings\n",
    "warnings.filterwarnings('ignore')\n",
    "\n",
    "#必要ライブラリのimport\n",
    "import pandas as pd\n",
    "import numpy as np\n",
    "import matplotlib.pyplot as plt\n",
    "import japanize_matplotlib #matplotlib日本語化対応\n",
    "import seaborn as sns\n",
    "\n",
    "#B2:データフレーム表示用関数\n",
    "from IPython.display import display\n",
    "\n",
    "#B3:表示オプション調整\n",
    "np.set_printoptions(suppress = True, precision = 3) #numpyの浮動小数点の表示精度\n",
    "pd.options.display.float_format = '{:.3f}'.format #pandasでの浮動小数点の表示精度\n",
    "pd.set_option('display.max_columns', None) #データフレームですべての列データを表示\n",
    "\n",
    "#B4:グラフのデフォルトフォント指定\n",
    "plt.rcParams['font.size'] = 14\n",
    "\n",
    "#乱数の種\n",
    "random_seed = 123"
   ]
  },
  {
   "cell_type": "markdown",
   "metadata": {
    "id": "8D8sUDhst7aI"
   },
   "source": [
    "## コードAの補足\n",
    "このコードは，Pythonのパッケージを管理するためのシステムである`pip`を使用して，japanize-matplotlibというライブラリをインストールし，その出力の最後の1行だけを表示する．\n",
    "  \n",
    "*  `! pip install japanize-matplotlib`: `pip`の`install`コマンドを使って，japanize-matplotlibパッケージをインストールする．japanize-matplotlibは，Matplotlibライブラリで日本語の文字表示を可能にするためのパッケージである．\n",
    "*  `| tail -n 1`: Unix/Linuxの`tail`コマンドを使って，インストールプロセスの出力のうち最後の1行のみを表示する．パイプ`|`によって，`install`コマンドの出力が`tail`コマンドの入力となる．`-n 1`オプションは，末尾から1行だけを取得することを指定している．  \n",
    "  \n",
    "このコードは，Jupyter NotebookやGoogle ColaboratoryのようなPythonのインタラクティブな実行環境で使用されることが多い．`!`をコマンドの前に付けることで，Python環境内からシステムのコマンドを実行することができる．この場合，japanize-matplotlibのインストールが成功したかどうか，または関連する最後のメッセージを確認するために使われています．"
   ]
  },
  {
   "cell_type": "markdown",
   "metadata": {
    "id": "sIlFVjxLuxM5"
   },
   "source": [
    "## コードBの補足\n",
    "### B1:余分なワーニングを非表示にする\n",
    "この部分のコードで，コード実行後に表示される警告メッセージを非表示にしている．具体的には，Pythonの標準ライブラリである`warnings`モジュールの`filterwarnings`関数を使用する．`warnings`モジュールは、開発者（プログラマ）に警告（非致命的なエラーなど）を発するためのモジュールである．  \n",
    "  \n",
    "*  `import warnings`: `warnings`モジュールをインポートする．\n",
    "*  `warnings.filterwarnings('ignore')`: `filterwarnings`関数を使って，発生する警告を非表示にする（無視する）．\n",
    "\n",
    "この処理は，特定の警告が表示されることがわかっており，それによる出力が実行結果の可読性を損なう場合などに使われる（本講義でもこの目的で使っている）．ただし，警告メッセージはコードに潜在的な問題があることを知らせる重要な手がかりを提供するので，慎重に使用する必要がある．\n",
    "\n",
    "### B2:データフレーム表示用関数\n",
    "この部分のコードで，`IPython.display`モジュールから`display`関数をインポートしている．`IPython.display`モジュールは，IPython環境（Jupyter NotebookやGoogle Colaboratoryを含む）内でリッチなウェブベースのコンテンツを表示するためのツール群を提供する．\n",
    "\n",
    "`display`関数は，様々な形式のデータやメディアを豊かに表示するために使われる。．例えば，HTML，画像，DataFrame等の表示が含まれる．この関数を使用することで，標準の出力よりも見やすい表示にできる．\n",
    "\n",
    "### B3:表示オプション調整\n",
    "この部分のコードで，NumPyとPandasを使用する際の小数点以下の桁数表示を設定している．\n",
    "\n",
    "*  `np.set_printoptions(suppress = True, precision = 3)`:\n",
    "    *  `suppress = True`: 指数表記（例: `1e-4`）を使用しない．\n",
    "    *  `precision = 3`: 表示する小数点以下の桁数を3桁に設定する．\n",
    "    *  これにより，NumPyの配列の各要素が小数点以下3桁までの精度で表示される．\n",
    "*  `pd.options.display.float_format = '{:.3f}'.format`:\n",
    "    * PandasのDataFrameやSeries内のデータ型がfloatの数値に対するフォーマットを設定する．\n",
    "    * `'{:.3f}'.format`: 小数点以下3桁までの精度で表示するように設定している．\n",
    "*  `pd.set_option('display.max_columns', None)`:\n",
    "    *  `pd.set_option`: DataFrameの表示行数や列数などが指定できる．\n",
    "    *  `display.max_columns`: 表示する最大のカラム数を指定する．\n",
    "    *  `display.max_columns`の後ろに`None`を設定することで，DataFrameの列数の制限をなくし，利用可能なすべての列を表示することができる．\n",
    "\n",
    "\n",
    "### B4:グラフのデフォルトフォント指定\n",
    "この部分のコードで，matplotlibのグラフにおける文字サイズを設定している．`plt.rcParams`には，matplotlibのデフォルト設定が格納されている辞書型のデータ（辞書）である．この辞書を通じて，グラフの様々な視覚的要素（文字サイズ，線の太さ，色など）のデフォルト値を設定できる．\n",
    "  \n",
    "`plt.rcParams['font.size'] = 14`で，グラフ内のテキスト（タイトル，軸ラベル，凡例など）のデフォルトの文字サイズを14ポイントに設定している．\n",
    "\n",
    "\n",
    "\n",
    "\n",
    "\n",
    "\n"
   ]
  },
  {
   "cell_type": "markdown",
   "metadata": {},
   "source": [
    "# Seriesの基本操作\n",
    "Seriesは複数の値を要素として持ち，各要素には「インデックス」を割り当てることができる．  \n",
    "Series定義の書式:\n",
    "`pd.Series(値を要素に持つリスト, index=インデックスのリスト)`  \n",
    "※`pd`は`pandas`のこと\n",
    "\n",
    "\n",
    "|基本操作の書式|内容|\n",
    "|:--|:--|\n",
    "|`se.index`|Seriesのインデックス|\n",
    "|`se['インデックス名']`|インデックスによる要素指定|\n",
    "|`se.unique()`|重複排除結果を返すメソッド|\n",
    "|`se.value_counts()`|要素の値ごとのデータ数を集計するメソッド |\n",
    "|`se.sort_values(ascending=[True or False])`|要素を並べ替えるメソッド（`True`で昇順（デフォルト），`False`で降順）|\n",
    "|`se.map(関数名)`|各データに関数を適用するメソッド|\n",
    "|`se 演算子 値`|各要素と値の演算結果を返す|\n",
    "|`se[条件式]`|条件式による検索結果を返す|\n",
    "\n",
    "\n",
    "※表内の「`se`」は任意のSeries（オブジェクト）"
   ]
  },
  {
   "cell_type": "markdown",
   "metadata": {},
   "source": [
    "## Seriesの定義"
   ]
  },
  {
   "cell_type": "code",
   "execution_count": null,
   "metadata": {},
   "outputs": [
    {
     "name": "stdout",
     "output_type": "stream",
     "text": [
      "工藤    90\n",
      "浅木    70\n",
      "松田    70\n",
      "瀬川    80\n",
      "dtype: int64\n"
     ]
    }
   ],
   "source": [
    "score = pd.Series([90, 70, 70, 80], index = ['工藤', '浅木', '松田', '瀬川']) #Seriesの定義\n",
    "print(score)"
   ]
  },
  {
   "cell_type": "markdown",
   "metadata": {},
   "source": [
    "## インデックスの参照と要素指定"
   ]
  },
  {
   "cell_type": "code",
   "execution_count": null,
   "metadata": {},
   "outputs": [
    {
     "name": "stdout",
     "output_type": "stream",
     "text": [
      "Index(['工藤', '浅木', '松田', '瀬川'], dtype='object')\n",
      "70\n"
     ]
    }
   ],
   "source": [
    "score = pd.Series([90, 70, 70, 80], index = ['工藤', '浅木', '松田', '瀬川']) #Seriesの定義\n",
    "print(score.index) #インデックスの参照\n",
    "print(score['松田']) #インデックスによる要素指定"
   ]
  },
  {
   "cell_type": "markdown",
   "metadata": {},
   "source": [
    "## 重複排除"
   ]
  },
  {
   "cell_type": "code",
   "execution_count": null,
   "metadata": {},
   "outputs": [
    {
     "name": "stdout",
     "output_type": "stream",
     "text": [
      "[90 70 80]\n"
     ]
    }
   ],
   "source": [
    "score = pd.Series([90, 70, 70, 80], index = ['工藤', '浅木', '松田', '瀬川']) #Seriesの定義\n",
    "print(score.unique()) #重複排除結果表示"
   ]
  },
  {
   "cell_type": "markdown",
   "metadata": {},
   "source": [
    "### 参考\n",
    "*  以下のコードの実行結果は，`score` シリーズオブジェクトの `unique` メソッド自体を表している\n",
    "*  `unique` メソッドが実際に呼び出されているわけではなく，そのメソッドオブジェクト自体が`print`関数の引数となって表示されている\n",
    "*  メソッド名の後ろに括弧がない場合，実際にメソッドが呼び出されるのではなく，オブジェクト自身が指定されていることになる\n",
    "*  Pythonでは，取り扱われるすべてのデータ（関数，クラス，メソッド等）がオブジェクトとなるので，`変数.unique`はオブジェクトとなり，`print(変数.unique)`を実行すると`unique`メソッドオブジェクト自身が表示されることになる\n",
    "*  また，すべてのメソッドは`method`クラスのオブジェクトなので，他のメソッドでも同様の実行結果となる\n",
    "*  メソッドを呼び出す場合には，必ず`()`を記述する\n",
    "*  この`()`は演算子の一つで「呼び出し演算子」と呼ぶ"
   ]
  },
  {
   "cell_type": "code",
   "execution_count": 8,
   "metadata": {},
   "outputs": [
    {
     "name": "stdout",
     "output_type": "stream",
     "text": [
      "<bound method Series.unique of 工藤    90\n",
      "浅木    70\n",
      "松田    70\n",
      "瀬川    80\n",
      "dtype: int64>\n",
      "<class 'method'>\n",
      "<class 'numpy.ndarray'>\n"
     ]
    }
   ],
   "source": [
    "score = pd.Series([90, 70, 70, 80], index = ['工藤', '浅木', '松田', '瀬川']) #Seriesの定義\n",
    "print(score.unique) #括弧を入れてない\n",
    "print(type(score.unique))\n",
    "print(type(score.unique()))"
   ]
  },
  {
   "cell_type": "markdown",
   "metadata": {},
   "source": [
    "## データ数の集計"
   ]
  },
  {
   "cell_type": "code",
   "execution_count": 4,
   "metadata": {},
   "outputs": [
    {
     "name": "stdout",
     "output_type": "stream",
     "text": [
      "70    2\n",
      "90    1\n",
      "80    1\n",
      "Name: count, dtype: int64\n"
     ]
    }
   ],
   "source": [
    "score = pd.Series([90, 70, 70, 80], index = ['工藤', '浅木', '松田', '瀬川']) #Seriesの定義\n",
    "print(score.value_counts()) #データ数の集計結果表示"
   ]
  },
  {
   "cell_type": "markdown",
   "metadata": {},
   "source": [
    "## 並べ替え（ソート）"
   ]
  },
  {
   "cell_type": "code",
   "execution_count": 5,
   "metadata": {},
   "outputs": [
    {
     "name": "stdout",
     "output_type": "stream",
     "text": [
      "浅木    70\n",
      "松田    70\n",
      "瀬川    80\n",
      "工藤    90\n",
      "dtype: int64\n"
     ]
    }
   ],
   "source": [
    "score = pd.Series([90, 70, 70, 80], index = ['工藤', '浅木', '松田', '瀬川']) #Seriesの定義\n",
    "print(score.sort_values()) #並べ替えた結果を表示"
   ]
  },
  {
   "cell_type": "markdown",
   "metadata": {},
   "source": [
    "## 演算処理"
   ]
  },
  {
   "cell_type": "code",
   "execution_count": 6,
   "metadata": {},
   "outputs": [
    {
     "name": "stdout",
     "output_type": "stream",
     "text": [
      "工藤     True\n",
      "浅木    False\n",
      "松田    False\n",
      "瀬川     True\n",
      "dtype: bool\n"
     ]
    }
   ],
   "source": [
    "score = pd.Series([90, 70, 70, 80], index = ['工藤', '浅木', '松田', '瀬川']) #Seriesの定義\n",
    "print(score >= 80) #演算結果を表示（要素の値が80以上であればTrue）"
   ]
  },
  {
   "cell_type": "code",
   "execution_count": 7,
   "metadata": {},
   "outputs": [
    {
     "name": "stdout",
     "output_type": "stream",
     "text": [
      "工藤    95\n",
      "浅木    75\n",
      "松田    75\n",
      "瀬川    85\n",
      "dtype: int64\n"
     ]
    }
   ],
   "source": [
    "score = pd.Series([90, 70, 70, 80], index = ['工藤', '浅木', '松田', '瀬川']) #Seriesの定義\n",
    "print(score + 5) #演算結果を表示（要素の値に+5する）"
   ]
  },
  {
   "cell_type": "markdown",
   "metadata": {},
   "source": [
    "## 検索"
   ]
  },
  {
   "cell_type": "code",
   "execution_count": 9,
   "metadata": {},
   "outputs": [
    {
     "name": "stdout",
     "output_type": "stream",
     "text": [
      "工藤    90\n",
      "瀬川    80\n",
      "dtype: int64\n"
     ]
    }
   ],
   "source": [
    "score = pd.Series([90, 70, 70, 80], index = ['工藤', '浅木', '松田', '瀬川']) #Seriesの定義\n",
    "print(score[score >= 80]) #条件式による検索結果を表示（80以上の要素を表示）"
   ]
  },
  {
   "cell_type": "markdown",
   "metadata": {},
   "source": [
    "# DataFrameの基本操作\n",
    "DataFrameは表形式（行列形式）の形で値を持ち，各行に対してindex（インデックス）を，各列に対してcolumns（列名）を割り当てることができる．したがって，indexとcolumnsの組で一つの要素を指定できる．\n",
    "  \n",
    "DataFrame定義の書式:  \n",
    "`pd.DataFrame(リストを要素に持つリスト, index=インデックスのリスト, columns=列名のリスト)`  \n",
    "※`pd`は`pandas`のこと\n",
    "\n",
    "\n",
    "|基本操作の書式|内容|\n",
    "|:--|:--|\n",
    "|`df.index`|DataFrameのインデックス|\n",
    "|`df.columns`|DataFrameの列名|\n",
    "|`df.shape`|DataFrameの行数と列数|\n",
    "|`df.head()`|DataFrameの先頭の数行を返すメソッド|\n",
    "|`df.tail()`|DataFrameの末尾の数行を返すメソッド|\n",
    "|`df[列名のリスト]`|特定の列を返す|\n",
    "|`df.loc[インデックスのリスト]`|特定の行の返す|\n",
    "|`df[条件式]`|条件式による検索結果を返す|\n",
    "|`df.loc[インデックスのリスト, 列名のリスト]`|指定した行と列に対応する要素を返す|\n",
    "|`df.loc[インデックス] = ～`|行の追加・更新|\n",
    "|`df['列名'] = ～`|列の追加・更新|\n",
    "|`df.drop(インデックスのリスト, axis = 0)`|指定した行を削除するメソッド|\n",
    "|`df.drop(列名のリスト, axis = 1)`|指定した列を削除するメソッド|\n",
    "|`df.T`|行と列を入れ替える（転置）|\n",
    "|`df.to_csv('ファイルの名前')`|DataFrameをcsvファイルに書き込むメソッド|\n",
    "|`pd.resd_csv('ファイルの場所・名前')`|csvファイルをDataFrameに読み込むメソッド|\n",
    "\n",
    "※表内の「`df`」は任意のDataFrame（オブジェクト）\n",
    "※表内の「`pd`」は「pandas」のこと"
   ]
  },
  {
   "cell_type": "markdown",
   "metadata": {},
   "source": [
    "## DataFrameの定義\n",
    "`display`関数は，DataFrameを（`print`関数より）見やすい形で表示する関数である．"
   ]
  },
  {
   "cell_type": "code",
   "execution_count": 10,
   "metadata": {},
   "outputs": [
    {
     "data": {
      "text/html": [
       "<div>\n",
       "<style scoped>\n",
       "    .dataframe tbody tr th:only-of-type {\n",
       "        vertical-align: middle;\n",
       "    }\n",
       "\n",
       "    .dataframe tbody tr th {\n",
       "        vertical-align: top;\n",
       "    }\n",
       "\n",
       "    .dataframe thead th {\n",
       "        text-align: right;\n",
       "    }\n",
       "</style>\n",
       "<table border=\"1\" class=\"dataframe\">\n",
       "  <thead>\n",
       "    <tr style=\"text-align: right;\">\n",
       "      <th></th>\n",
       "      <th>Python</th>\n",
       "      <th>ML</th>\n",
       "    </tr>\n",
       "  </thead>\n",
       "  <tbody>\n",
       "    <tr>\n",
       "      <th>工藤</th>\n",
       "      <td>90</td>\n",
       "      <td>70</td>\n",
       "    </tr>\n",
       "    <tr>\n",
       "      <th>浅木</th>\n",
       "      <td>70</td>\n",
       "      <td>80</td>\n",
       "    </tr>\n",
       "    <tr>\n",
       "      <th>松田</th>\n",
       "      <td>70</td>\n",
       "      <td>80</td>\n",
       "    </tr>\n",
       "    <tr>\n",
       "      <th>福田</th>\n",
       "      <td>85</td>\n",
       "      <td>70</td>\n",
       "    </tr>\n",
       "  </tbody>\n",
       "</table>\n",
       "</div>"
      ],
      "text/plain": [
       "    Python  ML\n",
       "工藤      90  70\n",
       "浅木      70  80\n",
       "松田      70  80\n",
       "福田      85  70"
      ]
     },
     "metadata": {},
     "output_type": "display_data"
    }
   ],
   "source": [
    "score_df = pd.DataFrame([[90, 70], [70, 80], [70, 80], [85, 70]],\n",
    "                        index = ['工藤', '浅木', '松田', '福田'],\n",
    "                        columns = ['Python', 'ML']) #DataFrameの定義\n",
    "display(score_df)"
   ]
  },
  {
   "cell_type": "markdown",
   "metadata": {},
   "source": [
    "*  実行結果の直後に表示される「View recommended plots」をクリックすると，DataFrameに対するグラフ表示のコードを提案してくれる（Google Claboratoryの機能）\n",
    "*  本講義では利用しないので，特に気にしなくてよい"
   ]
  },
  {
   "cell_type": "code",
   "execution_count": 11,
   "metadata": {},
   "outputs": [
    {
     "data": {
      "text/html": [
       "<div>\n",
       "<style scoped>\n",
       "    .dataframe tbody tr th:only-of-type {\n",
       "        vertical-align: middle;\n",
       "    }\n",
       "\n",
       "    .dataframe tbody tr th {\n",
       "        vertical-align: top;\n",
       "    }\n",
       "\n",
       "    .dataframe thead th {\n",
       "        text-align: right;\n",
       "    }\n",
       "</style>\n",
       "<table border=\"1\" class=\"dataframe\">\n",
       "  <thead>\n",
       "    <tr style=\"text-align: right;\">\n",
       "      <th></th>\n",
       "      <th>Python</th>\n",
       "      <th>ML</th>\n",
       "    </tr>\n",
       "  </thead>\n",
       "  <tbody>\n",
       "    <tr>\n",
       "      <th>工藤</th>\n",
       "      <td>90</td>\n",
       "      <td>70</td>\n",
       "    </tr>\n",
       "    <tr>\n",
       "      <th>浅木</th>\n",
       "      <td>70</td>\n",
       "      <td>80</td>\n",
       "    </tr>\n",
       "    <tr>\n",
       "      <th>松田</th>\n",
       "      <td>70</td>\n",
       "      <td>80</td>\n",
       "    </tr>\n",
       "    <tr>\n",
       "      <th>福田</th>\n",
       "      <td>85</td>\n",
       "      <td>70</td>\n",
       "    </tr>\n",
       "  </tbody>\n",
       "</table>\n",
       "</div>"
      ],
      "text/plain": [
       "    Python  ML\n",
       "工藤      90  70\n",
       "浅木      70  80\n",
       "松田      70  80\n",
       "福田      85  70"
      ]
     },
     "metadata": {},
     "output_type": "display_data"
    }
   ],
   "source": [
    "# 上のコードと同じ結果となる）\n",
    "data = [[90, 70], [70, 80], [70, 80], [85, 70]]\n",
    "idx = ['工藤', '浅木', '松田', '福田']\n",
    "col = ['Python', 'ML']\n",
    "score_df = pd.DataFrame(data, index = idx, columns = col) #DataFrameの定義\n",
    "display(score_df)"
   ]
  },
  {
   "cell_type": "markdown",
   "metadata": {},
   "source": [
    "## インデックスと列名の参照\n",
    "*  インデックスと列名は，あとから変更することもできる\n",
    "*  また，for文の制御記述としてリストと同様に利用できる"
   ]
  },
  {
   "cell_type": "code",
   "execution_count": null,
   "metadata": {},
   "outputs": [
    {
     "name": "stdout",
     "output_type": "stream",
     "text": [
      "Index(['工藤', '浅木', '松田', '福田'], dtype='object')\n",
      "Index(['Python', 'ML'], dtype='object')\n"
     ]
    }
   ],
   "source": [
    "score_df = pd.DataFrame([[90, 70], [70, 80], [70, 80], [85, 70]],\n",
    "                        index = ['工藤', '浅木', '松田', '福田'],\n",
    "                        columns = ['Python', 'ML'])\n",
    "print(score_df.index) #インデックスの表示\n",
    "print(score_df.columns) #列名の表示"
   ]
  },
  {
   "cell_type": "markdown",
   "metadata": {},
   "source": [
    "## 列数と行数の参照"
   ]
  },
  {
   "cell_type": "code",
   "execution_count": null,
   "metadata": {},
   "outputs": [
    {
     "name": "stdout",
     "output_type": "stream",
     "text": [
      "(4, 2)\n"
     ]
    }
   ],
   "source": [
    "score_df = pd.DataFrame([[90, 70], [70, 80], [70, 80], [85, 70]],\n",
    "                        index = ['工藤', '浅木', '松田', '福田'],\n",
    "                        columns = ['Python', 'ML'])\n",
    "print(score_df.shape) #行数と列数を表示"
   ]
  },
  {
   "cell_type": "markdown",
   "metadata": {},
   "source": [
    "## 先頭・末尾の数行を返すメソッド"
   ]
  },
  {
   "cell_type": "code",
   "execution_count": 13,
   "metadata": {},
   "outputs": [
    {
     "data": {
      "text/html": [
       "<div>\n",
       "<style scoped>\n",
       "    .dataframe tbody tr th:only-of-type {\n",
       "        vertical-align: middle;\n",
       "    }\n",
       "\n",
       "    .dataframe tbody tr th {\n",
       "        vertical-align: top;\n",
       "    }\n",
       "\n",
       "    .dataframe thead th {\n",
       "        text-align: right;\n",
       "    }\n",
       "</style>\n",
       "<table border=\"1\" class=\"dataframe\">\n",
       "  <thead>\n",
       "    <tr style=\"text-align: right;\">\n",
       "      <th></th>\n",
       "      <th>Python</th>\n",
       "      <th>ML</th>\n",
       "    </tr>\n",
       "  </thead>\n",
       "  <tbody>\n",
       "    <tr>\n",
       "      <th>工藤</th>\n",
       "      <td>90</td>\n",
       "      <td>70</td>\n",
       "    </tr>\n",
       "  </tbody>\n",
       "</table>\n",
       "</div>"
      ],
      "text/plain": [
       "    Python  ML\n",
       "工藤      90  70"
      ]
     },
     "metadata": {},
     "output_type": "display_data"
    },
    {
     "name": "stdout",
     "output_type": "stream",
     "text": [
      "----------------------------------\n"
     ]
    },
    {
     "data": {
      "text/html": [
       "<div>\n",
       "<style scoped>\n",
       "    .dataframe tbody tr th:only-of-type {\n",
       "        vertical-align: middle;\n",
       "    }\n",
       "\n",
       "    .dataframe tbody tr th {\n",
       "        vertical-align: top;\n",
       "    }\n",
       "\n",
       "    .dataframe thead th {\n",
       "        text-align: right;\n",
       "    }\n",
       "</style>\n",
       "<table border=\"1\" class=\"dataframe\">\n",
       "  <thead>\n",
       "    <tr style=\"text-align: right;\">\n",
       "      <th></th>\n",
       "      <th>Python</th>\n",
       "      <th>ML</th>\n",
       "    </tr>\n",
       "  </thead>\n",
       "  <tbody>\n",
       "    <tr>\n",
       "      <th>松田</th>\n",
       "      <td>70</td>\n",
       "      <td>80</td>\n",
       "    </tr>\n",
       "    <tr>\n",
       "      <th>福田</th>\n",
       "      <td>85</td>\n",
       "      <td>70</td>\n",
       "    </tr>\n",
       "  </tbody>\n",
       "</table>\n",
       "</div>"
      ],
      "text/plain": [
       "    Python  ML\n",
       "松田      70  80\n",
       "福田      85  70"
      ]
     },
     "metadata": {},
     "output_type": "display_data"
    }
   ],
   "source": [
    "score_df = pd.DataFrame([[90, 70], [70, 80], [70, 80], [85, 70]],\n",
    "                        index = ['工藤', '浅木', '松田', '福田'],\n",
    "                        columns = ['Python', 'ML'])\n",
    "display(score_df.head(1)) #先頭1行を表示\n",
    "print('----------------------------------')\n",
    "display(score_df.tail(2)) #末尾2行を表示"
   ]
  },
  {
   "cell_type": "markdown",
   "metadata": {},
   "source": [
    "## 列名を指定して列データを抽出\n",
    "*  DataFrame名の後ろに列名のリストを角括弧`[ ]`で囲って記述することで任意の列データを抽出できる"
   ]
  },
  {
   "cell_type": "code",
   "execution_count": 17,
   "metadata": {},
   "outputs": [
    {
     "data": {
      "text/html": [
       "<div>\n",
       "<style scoped>\n",
       "    .dataframe tbody tr th:only-of-type {\n",
       "        vertical-align: middle;\n",
       "    }\n",
       "\n",
       "    .dataframe tbody tr th {\n",
       "        vertical-align: top;\n",
       "    }\n",
       "\n",
       "    .dataframe thead th {\n",
       "        text-align: right;\n",
       "    }\n",
       "</style>\n",
       "<table border=\"1\" class=\"dataframe\">\n",
       "  <thead>\n",
       "    <tr style=\"text-align: right;\">\n",
       "      <th></th>\n",
       "      <th>ML</th>\n",
       "    </tr>\n",
       "  </thead>\n",
       "  <tbody>\n",
       "    <tr>\n",
       "      <th>工藤</th>\n",
       "      <td>70</td>\n",
       "    </tr>\n",
       "    <tr>\n",
       "      <th>浅木</th>\n",
       "      <td>80</td>\n",
       "    </tr>\n",
       "    <tr>\n",
       "      <th>松田</th>\n",
       "      <td>80</td>\n",
       "    </tr>\n",
       "    <tr>\n",
       "      <th>福田</th>\n",
       "      <td>70</td>\n",
       "    </tr>\n",
       "  </tbody>\n",
       "</table>\n",
       "</div>"
      ],
      "text/plain": [
       "    ML\n",
       "工藤  70\n",
       "浅木  80\n",
       "松田  80\n",
       "福田  70"
      ]
     },
     "metadata": {},
     "output_type": "display_data"
    }
   ],
   "source": [
    "score_df = pd.DataFrame([[90, 70], [70, 80], [70, 80], [85, 70]],\n",
    "                        index = ['工藤', '浅木', '松田', '福田'],\n",
    "                        columns = ['Python', 'ML'])\n",
    "display(score_df[['ML']]) #ML列を抽出"
   ]
  },
  {
   "cell_type": "markdown",
   "metadata": {},
   "source": [
    "*  . (ドット) を利用しても同じ結果が得られる\n",
    "*  書式: `df.列名`  \n",
    "*  例: `score_df.Python`"
   ]
  },
  {
   "cell_type": "markdown",
   "metadata": {},
   "source": [
    "## インデックスを指定して行データを抽出\n",
    "*  DataFrameに対する`loc`メソッドを使うことで行データを抽出できる\n",
    "*  `loc`の後ろにインデックスのリストを角括弧`[ ]`で囲って記述することで任意の行データを抽出できる\n",
    "*  また，: (コロン) で行番号の範囲を指定することで，特定の範囲の行を抽出できる\n",
    "*  例: `df[10:15]`"
   ]
  },
  {
   "cell_type": "code",
   "execution_count": 18,
   "metadata": {},
   "outputs": [
    {
     "data": {
      "text/html": [
       "<div>\n",
       "<style scoped>\n",
       "    .dataframe tbody tr th:only-of-type {\n",
       "        vertical-align: middle;\n",
       "    }\n",
       "\n",
       "    .dataframe tbody tr th {\n",
       "        vertical-align: top;\n",
       "    }\n",
       "\n",
       "    .dataframe thead th {\n",
       "        text-align: right;\n",
       "    }\n",
       "</style>\n",
       "<table border=\"1\" class=\"dataframe\">\n",
       "  <thead>\n",
       "    <tr style=\"text-align: right;\">\n",
       "      <th></th>\n",
       "      <th>Python</th>\n",
       "      <th>ML</th>\n",
       "    </tr>\n",
       "  </thead>\n",
       "  <tbody>\n",
       "    <tr>\n",
       "      <th>浅木</th>\n",
       "      <td>70</td>\n",
       "      <td>80</td>\n",
       "    </tr>\n",
       "    <tr>\n",
       "      <th>福田</th>\n",
       "      <td>85</td>\n",
       "      <td>70</td>\n",
       "    </tr>\n",
       "  </tbody>\n",
       "</table>\n",
       "</div>"
      ],
      "text/plain": [
       "    Python  ML\n",
       "浅木      70  80\n",
       "福田      85  70"
      ]
     },
     "metadata": {},
     "output_type": "display_data"
    }
   ],
   "source": [
    "score_df = pd.DataFrame([[90, 70], [70, 80], [70, 80], [85, 70]],\n",
    "                        index = ['工藤', '浅木', '松田', '福田'],\n",
    "                        columns = ['Python', 'ML'])\n",
    "display(score_df.loc[['浅木', '福田']]) #浅木と福田の行を抽出"
   ]
  },
  {
   "cell_type": "markdown",
   "metadata": {},
   "source": [
    "## インデックスと列名を指定してデータを抽出\n",
    "*  `loc`メソッドを用いる\n",
    "*  `loc`の後ろの角括弧`[ ]`の中に**インデックスのリスト**, **列名のリスト**を記述することで任意の要素を抽出できる"
   ]
  },
  {
   "cell_type": "code",
   "execution_count": null,
   "metadata": {},
   "outputs": [
    {
     "data": {
      "application/vnd.google.colaboratory.intrinsic+json": {
       "summary": "{\n  \"name\": \"# display(score_df\",\n  \"rows\": 2,\n  \"fields\": [\n    {\n      \"column\": \"Python\",\n      \"properties\": {\n        \"dtype\": \"number\",\n        \"std\": 14,\n        \"min\": 70,\n        \"max\": 90,\n        \"num_unique_values\": 2,\n        \"samples\": [\n          70,\n          90\n        ],\n        \"semantic_type\": \"\",\n        \"description\": \"\"\n      }\n    }\n  ]\n}",
       "type": "dataframe"
      },
      "text/html": [
       "\n",
       "  <div id=\"df-851a5466-d712-40b4-8f84-db943881451a\" class=\"colab-df-container\">\n",
       "    <div>\n",
       "<style scoped>\n",
       "    .dataframe tbody tr th:only-of-type {\n",
       "        vertical-align: middle;\n",
       "    }\n",
       "\n",
       "    .dataframe tbody tr th {\n",
       "        vertical-align: top;\n",
       "    }\n",
       "\n",
       "    .dataframe thead th {\n",
       "        text-align: right;\n",
       "    }\n",
       "</style>\n",
       "<table border=\"1\" class=\"dataframe\">\n",
       "  <thead>\n",
       "    <tr style=\"text-align: right;\">\n",
       "      <th></th>\n",
       "      <th>Python</th>\n",
       "    </tr>\n",
       "  </thead>\n",
       "  <tbody>\n",
       "    <tr>\n",
       "      <th>工藤</th>\n",
       "      <td>90</td>\n",
       "    </tr>\n",
       "    <tr>\n",
       "      <th>松田</th>\n",
       "      <td>70</td>\n",
       "    </tr>\n",
       "  </tbody>\n",
       "</table>\n",
       "</div>\n",
       "    <div class=\"colab-df-buttons\">\n",
       "\n",
       "  <div class=\"colab-df-container\">\n",
       "    <button class=\"colab-df-convert\" onclick=\"convertToInteractive('df-851a5466-d712-40b4-8f84-db943881451a')\"\n",
       "            title=\"Convert this dataframe to an interactive table.\"\n",
       "            style=\"display:none;\">\n",
       "\n",
       "  <svg xmlns=\"http://www.w3.org/2000/svg\" height=\"24px\" viewBox=\"0 -960 960 960\">\n",
       "    <path d=\"M120-120v-720h720v720H120Zm60-500h600v-160H180v160Zm220 220h160v-160H400v160Zm0 220h160v-160H400v160ZM180-400h160v-160H180v160Zm440 0h160v-160H620v160ZM180-180h160v-160H180v160Zm440 0h160v-160H620v160Z\"/>\n",
       "  </svg>\n",
       "    </button>\n",
       "\n",
       "  <style>\n",
       "    .colab-df-container {\n",
       "      display:flex;\n",
       "      gap: 12px;\n",
       "    }\n",
       "\n",
       "    .colab-df-convert {\n",
       "      background-color: #E8F0FE;\n",
       "      border: none;\n",
       "      border-radius: 50%;\n",
       "      cursor: pointer;\n",
       "      display: none;\n",
       "      fill: #1967D2;\n",
       "      height: 32px;\n",
       "      padding: 0 0 0 0;\n",
       "      width: 32px;\n",
       "    }\n",
       "\n",
       "    .colab-df-convert:hover {\n",
       "      background-color: #E2EBFA;\n",
       "      box-shadow: 0px 1px 2px rgba(60, 64, 67, 0.3), 0px 1px 3px 1px rgba(60, 64, 67, 0.15);\n",
       "      fill: #174EA6;\n",
       "    }\n",
       "\n",
       "    .colab-df-buttons div {\n",
       "      margin-bottom: 4px;\n",
       "    }\n",
       "\n",
       "    [theme=dark] .colab-df-convert {\n",
       "      background-color: #3B4455;\n",
       "      fill: #D2E3FC;\n",
       "    }\n",
       "\n",
       "    [theme=dark] .colab-df-convert:hover {\n",
       "      background-color: #434B5C;\n",
       "      box-shadow: 0px 1px 3px 1px rgba(0, 0, 0, 0.15);\n",
       "      filter: drop-shadow(0px 1px 2px rgba(0, 0, 0, 0.3));\n",
       "      fill: #FFFFFF;\n",
       "    }\n",
       "  </style>\n",
       "\n",
       "    <script>\n",
       "      const buttonEl =\n",
       "        document.querySelector('#df-851a5466-d712-40b4-8f84-db943881451a button.colab-df-convert');\n",
       "      buttonEl.style.display =\n",
       "        google.colab.kernel.accessAllowed ? 'block' : 'none';\n",
       "\n",
       "      async function convertToInteractive(key) {\n",
       "        const element = document.querySelector('#df-851a5466-d712-40b4-8f84-db943881451a');\n",
       "        const dataTable =\n",
       "          await google.colab.kernel.invokeFunction('convertToInteractive',\n",
       "                                                    [key], {});\n",
       "        if (!dataTable) return;\n",
       "\n",
       "        const docLinkHtml = 'Like what you see? Visit the ' +\n",
       "          '<a target=\"_blank\" href=https://colab.research.google.com/notebooks/data_table.ipynb>data table notebook</a>'\n",
       "          + ' to learn more about interactive tables.';\n",
       "        element.innerHTML = '';\n",
       "        dataTable['output_type'] = 'display_data';\n",
       "        await google.colab.output.renderOutput(dataTable, element);\n",
       "        const docLink = document.createElement('div');\n",
       "        docLink.innerHTML = docLinkHtml;\n",
       "        element.appendChild(docLink);\n",
       "      }\n",
       "    </script>\n",
       "  </div>\n",
       "\n",
       "\n",
       "<div id=\"df-da00bc82-786f-4df9-8b87-ed263ab1a836\">\n",
       "  <button class=\"colab-df-quickchart\" onclick=\"quickchart('df-da00bc82-786f-4df9-8b87-ed263ab1a836')\"\n",
       "            title=\"Suggest charts\"\n",
       "            style=\"display:none;\">\n",
       "\n",
       "<svg xmlns=\"http://www.w3.org/2000/svg\" height=\"24px\"viewBox=\"0 0 24 24\"\n",
       "     width=\"24px\">\n",
       "    <g>\n",
       "        <path d=\"M19 3H5c-1.1 0-2 .9-2 2v14c0 1.1.9 2 2 2h14c1.1 0 2-.9 2-2V5c0-1.1-.9-2-2-2zM9 17H7v-7h2v7zm4 0h-2V7h2v10zm4 0h-2v-4h2v4z\"/>\n",
       "    </g>\n",
       "</svg>\n",
       "  </button>\n",
       "\n",
       "<style>\n",
       "  .colab-df-quickchart {\n",
       "      --bg-color: #E8F0FE;\n",
       "      --fill-color: #1967D2;\n",
       "      --hover-bg-color: #E2EBFA;\n",
       "      --hover-fill-color: #174EA6;\n",
       "      --disabled-fill-color: #AAA;\n",
       "      --disabled-bg-color: #DDD;\n",
       "  }\n",
       "\n",
       "  [theme=dark] .colab-df-quickchart {\n",
       "      --bg-color: #3B4455;\n",
       "      --fill-color: #D2E3FC;\n",
       "      --hover-bg-color: #434B5C;\n",
       "      --hover-fill-color: #FFFFFF;\n",
       "      --disabled-bg-color: #3B4455;\n",
       "      --disabled-fill-color: #666;\n",
       "  }\n",
       "\n",
       "  .colab-df-quickchart {\n",
       "    background-color: var(--bg-color);\n",
       "    border: none;\n",
       "    border-radius: 50%;\n",
       "    cursor: pointer;\n",
       "    display: none;\n",
       "    fill: var(--fill-color);\n",
       "    height: 32px;\n",
       "    padding: 0;\n",
       "    width: 32px;\n",
       "  }\n",
       "\n",
       "  .colab-df-quickchart:hover {\n",
       "    background-color: var(--hover-bg-color);\n",
       "    box-shadow: 0 1px 2px rgba(60, 64, 67, 0.3), 0 1px 3px 1px rgba(60, 64, 67, 0.15);\n",
       "    fill: var(--button-hover-fill-color);\n",
       "  }\n",
       "\n",
       "  .colab-df-quickchart-complete:disabled,\n",
       "  .colab-df-quickchart-complete:disabled:hover {\n",
       "    background-color: var(--disabled-bg-color);\n",
       "    fill: var(--disabled-fill-color);\n",
       "    box-shadow: none;\n",
       "  }\n",
       "\n",
       "  .colab-df-spinner {\n",
       "    border: 2px solid var(--fill-color);\n",
       "    border-color: transparent;\n",
       "    border-bottom-color: var(--fill-color);\n",
       "    animation:\n",
       "      spin 1s steps(1) infinite;\n",
       "  }\n",
       "\n",
       "  @keyframes spin {\n",
       "    0% {\n",
       "      border-color: transparent;\n",
       "      border-bottom-color: var(--fill-color);\n",
       "      border-left-color: var(--fill-color);\n",
       "    }\n",
       "    20% {\n",
       "      border-color: transparent;\n",
       "      border-left-color: var(--fill-color);\n",
       "      border-top-color: var(--fill-color);\n",
       "    }\n",
       "    30% {\n",
       "      border-color: transparent;\n",
       "      border-left-color: var(--fill-color);\n",
       "      border-top-color: var(--fill-color);\n",
       "      border-right-color: var(--fill-color);\n",
       "    }\n",
       "    40% {\n",
       "      border-color: transparent;\n",
       "      border-right-color: var(--fill-color);\n",
       "      border-top-color: var(--fill-color);\n",
       "    }\n",
       "    60% {\n",
       "      border-color: transparent;\n",
       "      border-right-color: var(--fill-color);\n",
       "    }\n",
       "    80% {\n",
       "      border-color: transparent;\n",
       "      border-right-color: var(--fill-color);\n",
       "      border-bottom-color: var(--fill-color);\n",
       "    }\n",
       "    90% {\n",
       "      border-color: transparent;\n",
       "      border-bottom-color: var(--fill-color);\n",
       "    }\n",
       "  }\n",
       "</style>\n",
       "\n",
       "  <script>\n",
       "    async function quickchart(key) {\n",
       "      const quickchartButtonEl =\n",
       "        document.querySelector('#' + key + ' button');\n",
       "      quickchartButtonEl.disabled = true;  // To prevent multiple clicks.\n",
       "      quickchartButtonEl.classList.add('colab-df-spinner');\n",
       "      try {\n",
       "        const charts = await google.colab.kernel.invokeFunction(\n",
       "            'suggestCharts', [key], {});\n",
       "      } catch (error) {\n",
       "        console.error('Error during call to suggestCharts:', error);\n",
       "      }\n",
       "      quickchartButtonEl.classList.remove('colab-df-spinner');\n",
       "      quickchartButtonEl.classList.add('colab-df-quickchart-complete');\n",
       "    }\n",
       "    (() => {\n",
       "      let quickchartButtonEl =\n",
       "        document.querySelector('#df-da00bc82-786f-4df9-8b87-ed263ab1a836 button');\n",
       "      quickchartButtonEl.style.display =\n",
       "        google.colab.kernel.accessAllowed ? 'block' : 'none';\n",
       "    })();\n",
       "  </script>\n",
       "</div>\n",
       "    </div>\n",
       "  </div>\n"
      ],
      "text/plain": [
       "    Python\n",
       "工藤      90\n",
       "松田      70"
      ]
     },
     "metadata": {},
     "output_type": "display_data"
    }
   ],
   "source": [
    "#コード2-5h\n",
    "import pandas as pd\n",
    "score_df = pd.DataFrame([[90, 70], [70, 80], [70, 80], [85, 70]],\n",
    "                        index = ['工藤', '浅木', '松田', '福田'],\n",
    "                        columns = ['Python', 'ML'])\n",
    "#工藤と松田の行のPython列の要素を抽出\n",
    "display(score_df.loc[['工藤', '松田'], ['Python']])\n",
    "# 下のコードだと列名がちゃんと表示されない\n",
    "# display(score_df.loc[['工藤', '松田'], 'Python'])"
   ]
  },
  {
   "cell_type": "markdown",
   "metadata": {},
   "source": [
    "連続した行や列を指定する場合は，リストのスライス指定と同様の指定方法が利用できる．\n",
    "\n",
    "*  `A:B` ⇒ `A`以上`B`以下\n",
    "*  `A:` ⇒ `A`以上すべて\n",
    "*  `:B` ⇒ `B`以下すべて\n",
    "* `:` ⇒ すべて"
   ]
  },
  {
   "cell_type": "code",
   "execution_count": 19,
   "metadata": {},
   "outputs": [
    {
     "data": {
      "text/html": [
       "<div>\n",
       "<style scoped>\n",
       "    .dataframe tbody tr th:only-of-type {\n",
       "        vertical-align: middle;\n",
       "    }\n",
       "\n",
       "    .dataframe tbody tr th {\n",
       "        vertical-align: top;\n",
       "    }\n",
       "\n",
       "    .dataframe thead th {\n",
       "        text-align: right;\n",
       "    }\n",
       "</style>\n",
       "<table border=\"1\" class=\"dataframe\">\n",
       "  <thead>\n",
       "    <tr style=\"text-align: right;\">\n",
       "      <th></th>\n",
       "      <th>Python</th>\n",
       "      <th>ML</th>\n",
       "    </tr>\n",
       "  </thead>\n",
       "  <tbody>\n",
       "    <tr>\n",
       "      <th>工藤</th>\n",
       "      <td>90</td>\n",
       "      <td>70</td>\n",
       "    </tr>\n",
       "    <tr>\n",
       "      <th>浅木</th>\n",
       "      <td>70</td>\n",
       "      <td>80</td>\n",
       "    </tr>\n",
       "    <tr>\n",
       "      <th>松田</th>\n",
       "      <td>70</td>\n",
       "      <td>80</td>\n",
       "    </tr>\n",
       "  </tbody>\n",
       "</table>\n",
       "</div>"
      ],
      "text/plain": [
       "    Python  ML\n",
       "工藤      90  70\n",
       "浅木      70  80\n",
       "松田      70  80"
      ]
     },
     "metadata": {},
     "output_type": "display_data"
    }
   ],
   "source": [
    "score_df = pd.DataFrame([[90, 70], [70, 80], [70, 80], [85, 70]],\n",
    "                        index = ['工藤', '浅木', '松田', '福田'],\n",
    "                        columns = ['Python', 'ML'])\n",
    "#工藤から松田の行の全列の要素を抽出\n",
    "display(score_df.loc['工藤':'松田', :])"
   ]
  },
  {
   "cell_type": "markdown",
   "metadata": {},
   "source": [
    "## 条件式による検索\n",
    "* 条件式を使って，条件式が True（条件を満たしている）である行を抽出できる\n",
    "* 逆に，条件を満たしてない場合は False となる\n",
    "* 条件式は比較演算子を用いて指定する\n",
    "\n",
    "### 比較演算子\n",
    "* 2つの値の大小を比較するための演算子\n",
    "* 演算結果は「True」と「False」のいずれかの値をとる\n",
    "* 「True」と「False」は，boolクラスの値\n",
    "* 比較演算子を使った式が正しければ「True（真）」で，間違っていれば「False（偽）」となる\n",
    "\n",
    "|比較演算子|意味|\n",
    "|:-:|:-:|\n",
    "| < | 小さい |\n",
    "| > | 大きい |\n",
    "| <= | 以上 |\n",
    "| >= | 以下 |\n",
    "| == | 等しい |\n",
    "| != | 等しくない |"
   ]
  },
  {
   "cell_type": "code",
   "execution_count": 22,
   "metadata": {},
   "outputs": [
    {
     "data": {
      "text/html": [
       "<div>\n",
       "<style scoped>\n",
       "    .dataframe tbody tr th:only-of-type {\n",
       "        vertical-align: middle;\n",
       "    }\n",
       "\n",
       "    .dataframe tbody tr th {\n",
       "        vertical-align: top;\n",
       "    }\n",
       "\n",
       "    .dataframe thead th {\n",
       "        text-align: right;\n",
       "    }\n",
       "</style>\n",
       "<table border=\"1\" class=\"dataframe\">\n",
       "  <thead>\n",
       "    <tr style=\"text-align: right;\">\n",
       "      <th></th>\n",
       "      <th>Python</th>\n",
       "      <th>ML</th>\n",
       "    </tr>\n",
       "  </thead>\n",
       "  <tbody>\n",
       "    <tr>\n",
       "      <th>工藤</th>\n",
       "      <td>90</td>\n",
       "      <td>70</td>\n",
       "    </tr>\n",
       "    <tr>\n",
       "      <th>福田</th>\n",
       "      <td>85</td>\n",
       "      <td>70</td>\n",
       "    </tr>\n",
       "  </tbody>\n",
       "</table>\n",
       "</div>"
      ],
      "text/plain": [
       "    Python  ML\n",
       "工藤      90  70\n",
       "福田      85  70"
      ]
     },
     "metadata": {},
     "output_type": "display_data"
    }
   ],
   "source": [
    "score_df = pd.DataFrame([[90, 70], [70, 80], [70, 80], [85, 70]],\n",
    "                        index = ['工藤', '浅木', '松田', '福田'],\n",
    "                        columns = ['Python', 'ML'])\n",
    "display(score_df[score_df['Python'] >= 80]) #Python列が80以上の行を抽出\n",
    "# display(score_df.loc[score_df['Python'] >= 80]) #上と同じ"
   ]
  },
  {
   "cell_type": "markdown",
   "metadata": {},
   "source": [
    "### 論理演算子の利用\n",
    "*  論理演算子 `&`, `|`, `~` を利用することで，より詳細な条件式が指定できる\n",
    "\n",
    "|論理演算子|意味|\n",
    "|:-:|:--|\n",
    "| `&` (and) | 両者を満たす（両者ともTrueの）ときTrue |\n",
    "| `\\|` (or) | どちらか片方を満たす（少なくともどちらか一方がTrueの）ときTrue |\n",
    "| `~` (not) | 満たさない（Falseの）ときTrue |"
   ]
  },
  {
   "cell_type": "code",
   "execution_count": 23,
   "metadata": {},
   "outputs": [
    {
     "data": {
      "text/html": [
       "<div>\n",
       "<style scoped>\n",
       "    .dataframe tbody tr th:only-of-type {\n",
       "        vertical-align: middle;\n",
       "    }\n",
       "\n",
       "    .dataframe tbody tr th {\n",
       "        vertical-align: top;\n",
       "    }\n",
       "\n",
       "    .dataframe thead th {\n",
       "        text-align: right;\n",
       "    }\n",
       "</style>\n",
       "<table border=\"1\" class=\"dataframe\">\n",
       "  <thead>\n",
       "    <tr style=\"text-align: right;\">\n",
       "      <th></th>\n",
       "      <th>Python</th>\n",
       "      <th>ML</th>\n",
       "    </tr>\n",
       "  </thead>\n",
       "  <tbody>\n",
       "    <tr>\n",
       "      <th>浅木</th>\n",
       "      <td>70</td>\n",
       "      <td>80</td>\n",
       "    </tr>\n",
       "    <tr>\n",
       "      <th>松田</th>\n",
       "      <td>70</td>\n",
       "      <td>80</td>\n",
       "    </tr>\n",
       "  </tbody>\n",
       "</table>\n",
       "</div>"
      ],
      "text/plain": [
       "    Python  ML\n",
       "浅木      70  80\n",
       "松田      70  80"
      ]
     },
     "metadata": {},
     "output_type": "display_data"
    }
   ],
   "source": [
    "score_df = pd.DataFrame([[90, 70], [70, 80], [70, 80], [85, 70]],\n",
    "                        index = ['工藤', '浅木', '松田', '福田'],\n",
    "                        columns = ['Python', 'ML'])\n",
    "#Python列が80未満，かつML列が70以上の行を抽出\n",
    "display(score_df[(score_df['Python'] < 80) & (score_df['ML'] >= 70)])"
   ]
  },
  {
   "cell_type": "markdown",
   "metadata": {},
   "source": [
    "## 列の追加・更新"
   ]
  },
  {
   "cell_type": "code",
   "execution_count": null,
   "metadata": {},
   "outputs": [
    {
     "data": {
      "application/vnd.google.colaboratory.intrinsic+json": {
       "summary": "{\n  \"name\": \"score_df\",\n  \"rows\": 4,\n  \"fields\": [\n    {\n      \"column\": \"Python\",\n      \"properties\": {\n        \"dtype\": \"number\",\n        \"std\": 10,\n        \"min\": 70,\n        \"max\": 95,\n        \"num_unique_values\": 4,\n        \"samples\": [\n          75,\n          80,\n          95\n        ],\n        \"semantic_type\": \"\",\n        \"description\": \"\"\n      }\n    },\n    {\n      \"column\": \"ML\",\n      \"properties\": {\n        \"dtype\": \"number\",\n        \"std\": 5,\n        \"min\": 70,\n        \"max\": 80,\n        \"num_unique_values\": 2,\n        \"samples\": [\n          80,\n          70\n        ],\n        \"semantic_type\": \"\",\n        \"description\": \"\"\n      }\n    }\n  ]\n}",
       "type": "dataframe",
       "variable_name": "score_df"
      },
      "text/html": [
       "\n",
       "  <div id=\"df-031a430e-8a27-43c6-b70a-f88886ebf548\" class=\"colab-df-container\">\n",
       "    <div>\n",
       "<style scoped>\n",
       "    .dataframe tbody tr th:only-of-type {\n",
       "        vertical-align: middle;\n",
       "    }\n",
       "\n",
       "    .dataframe tbody tr th {\n",
       "        vertical-align: top;\n",
       "    }\n",
       "\n",
       "    .dataframe thead th {\n",
       "        text-align: right;\n",
       "    }\n",
       "</style>\n",
       "<table border=\"1\" class=\"dataframe\">\n",
       "  <thead>\n",
       "    <tr style=\"text-align: right;\">\n",
       "      <th></th>\n",
       "      <th>Python</th>\n",
       "      <th>ML</th>\n",
       "    </tr>\n",
       "  </thead>\n",
       "  <tbody>\n",
       "    <tr>\n",
       "      <th>工藤</th>\n",
       "      <td>95</td>\n",
       "      <td>70</td>\n",
       "    </tr>\n",
       "    <tr>\n",
       "      <th>浅木</th>\n",
       "      <td>75</td>\n",
       "      <td>80</td>\n",
       "    </tr>\n",
       "    <tr>\n",
       "      <th>松田</th>\n",
       "      <td>70</td>\n",
       "      <td>80</td>\n",
       "    </tr>\n",
       "    <tr>\n",
       "      <th>福田</th>\n",
       "      <td>80</td>\n",
       "      <td>70</td>\n",
       "    </tr>\n",
       "  </tbody>\n",
       "</table>\n",
       "</div>\n",
       "    <div class=\"colab-df-buttons\">\n",
       "\n",
       "  <div class=\"colab-df-container\">\n",
       "    <button class=\"colab-df-convert\" onclick=\"convertToInteractive('df-031a430e-8a27-43c6-b70a-f88886ebf548')\"\n",
       "            title=\"Convert this dataframe to an interactive table.\"\n",
       "            style=\"display:none;\">\n",
       "\n",
       "  <svg xmlns=\"http://www.w3.org/2000/svg\" height=\"24px\" viewBox=\"0 -960 960 960\">\n",
       "    <path d=\"M120-120v-720h720v720H120Zm60-500h600v-160H180v160Zm220 220h160v-160H400v160Zm0 220h160v-160H400v160ZM180-400h160v-160H180v160Zm440 0h160v-160H620v160ZM180-180h160v-160H180v160Zm440 0h160v-160H620v160Z\"/>\n",
       "  </svg>\n",
       "    </button>\n",
       "\n",
       "  <style>\n",
       "    .colab-df-container {\n",
       "      display:flex;\n",
       "      gap: 12px;\n",
       "    }\n",
       "\n",
       "    .colab-df-convert {\n",
       "      background-color: #E8F0FE;\n",
       "      border: none;\n",
       "      border-radius: 50%;\n",
       "      cursor: pointer;\n",
       "      display: none;\n",
       "      fill: #1967D2;\n",
       "      height: 32px;\n",
       "      padding: 0 0 0 0;\n",
       "      width: 32px;\n",
       "    }\n",
       "\n",
       "    .colab-df-convert:hover {\n",
       "      background-color: #E2EBFA;\n",
       "      box-shadow: 0px 1px 2px rgba(60, 64, 67, 0.3), 0px 1px 3px 1px rgba(60, 64, 67, 0.15);\n",
       "      fill: #174EA6;\n",
       "    }\n",
       "\n",
       "    .colab-df-buttons div {\n",
       "      margin-bottom: 4px;\n",
       "    }\n",
       "\n",
       "    [theme=dark] .colab-df-convert {\n",
       "      background-color: #3B4455;\n",
       "      fill: #D2E3FC;\n",
       "    }\n",
       "\n",
       "    [theme=dark] .colab-df-convert:hover {\n",
       "      background-color: #434B5C;\n",
       "      box-shadow: 0px 1px 3px 1px rgba(0, 0, 0, 0.15);\n",
       "      filter: drop-shadow(0px 1px 2px rgba(0, 0, 0, 0.3));\n",
       "      fill: #FFFFFF;\n",
       "    }\n",
       "  </style>\n",
       "\n",
       "    <script>\n",
       "      const buttonEl =\n",
       "        document.querySelector('#df-031a430e-8a27-43c6-b70a-f88886ebf548 button.colab-df-convert');\n",
       "      buttonEl.style.display =\n",
       "        google.colab.kernel.accessAllowed ? 'block' : 'none';\n",
       "\n",
       "      async function convertToInteractive(key) {\n",
       "        const element = document.querySelector('#df-031a430e-8a27-43c6-b70a-f88886ebf548');\n",
       "        const dataTable =\n",
       "          await google.colab.kernel.invokeFunction('convertToInteractive',\n",
       "                                                    [key], {});\n",
       "        if (!dataTable) return;\n",
       "\n",
       "        const docLinkHtml = 'Like what you see? Visit the ' +\n",
       "          '<a target=\"_blank\" href=https://colab.research.google.com/notebooks/data_table.ipynb>data table notebook</a>'\n",
       "          + ' to learn more about interactive tables.';\n",
       "        element.innerHTML = '';\n",
       "        dataTable['output_type'] = 'display_data';\n",
       "        await google.colab.output.renderOutput(dataTable, element);\n",
       "        const docLink = document.createElement('div');\n",
       "        docLink.innerHTML = docLinkHtml;\n",
       "        element.appendChild(docLink);\n",
       "      }\n",
       "    </script>\n",
       "  </div>\n",
       "\n",
       "\n",
       "<div id=\"df-420f288c-a651-499b-9b57-61eb37145f35\">\n",
       "  <button class=\"colab-df-quickchart\" onclick=\"quickchart('df-420f288c-a651-499b-9b57-61eb37145f35')\"\n",
       "            title=\"Suggest charts\"\n",
       "            style=\"display:none;\">\n",
       "\n",
       "<svg xmlns=\"http://www.w3.org/2000/svg\" height=\"24px\"viewBox=\"0 0 24 24\"\n",
       "     width=\"24px\">\n",
       "    <g>\n",
       "        <path d=\"M19 3H5c-1.1 0-2 .9-2 2v14c0 1.1.9 2 2 2h14c1.1 0 2-.9 2-2V5c0-1.1-.9-2-2-2zM9 17H7v-7h2v7zm4 0h-2V7h2v10zm4 0h-2v-4h2v4z\"/>\n",
       "    </g>\n",
       "</svg>\n",
       "  </button>\n",
       "\n",
       "<style>\n",
       "  .colab-df-quickchart {\n",
       "      --bg-color: #E8F0FE;\n",
       "      --fill-color: #1967D2;\n",
       "      --hover-bg-color: #E2EBFA;\n",
       "      --hover-fill-color: #174EA6;\n",
       "      --disabled-fill-color: #AAA;\n",
       "      --disabled-bg-color: #DDD;\n",
       "  }\n",
       "\n",
       "  [theme=dark] .colab-df-quickchart {\n",
       "      --bg-color: #3B4455;\n",
       "      --fill-color: #D2E3FC;\n",
       "      --hover-bg-color: #434B5C;\n",
       "      --hover-fill-color: #FFFFFF;\n",
       "      --disabled-bg-color: #3B4455;\n",
       "      --disabled-fill-color: #666;\n",
       "  }\n",
       "\n",
       "  .colab-df-quickchart {\n",
       "    background-color: var(--bg-color);\n",
       "    border: none;\n",
       "    border-radius: 50%;\n",
       "    cursor: pointer;\n",
       "    display: none;\n",
       "    fill: var(--fill-color);\n",
       "    height: 32px;\n",
       "    padding: 0;\n",
       "    width: 32px;\n",
       "  }\n",
       "\n",
       "  .colab-df-quickchart:hover {\n",
       "    background-color: var(--hover-bg-color);\n",
       "    box-shadow: 0 1px 2px rgba(60, 64, 67, 0.3), 0 1px 3px 1px rgba(60, 64, 67, 0.15);\n",
       "    fill: var(--button-hover-fill-color);\n",
       "  }\n",
       "\n",
       "  .colab-df-quickchart-complete:disabled,\n",
       "  .colab-df-quickchart-complete:disabled:hover {\n",
       "    background-color: var(--disabled-bg-color);\n",
       "    fill: var(--disabled-fill-color);\n",
       "    box-shadow: none;\n",
       "  }\n",
       "\n",
       "  .colab-df-spinner {\n",
       "    border: 2px solid var(--fill-color);\n",
       "    border-color: transparent;\n",
       "    border-bottom-color: var(--fill-color);\n",
       "    animation:\n",
       "      spin 1s steps(1) infinite;\n",
       "  }\n",
       "\n",
       "  @keyframes spin {\n",
       "    0% {\n",
       "      border-color: transparent;\n",
       "      border-bottom-color: var(--fill-color);\n",
       "      border-left-color: var(--fill-color);\n",
       "    }\n",
       "    20% {\n",
       "      border-color: transparent;\n",
       "      border-left-color: var(--fill-color);\n",
       "      border-top-color: var(--fill-color);\n",
       "    }\n",
       "    30% {\n",
       "      border-color: transparent;\n",
       "      border-left-color: var(--fill-color);\n",
       "      border-top-color: var(--fill-color);\n",
       "      border-right-color: var(--fill-color);\n",
       "    }\n",
       "    40% {\n",
       "      border-color: transparent;\n",
       "      border-right-color: var(--fill-color);\n",
       "      border-top-color: var(--fill-color);\n",
       "    }\n",
       "    60% {\n",
       "      border-color: transparent;\n",
       "      border-right-color: var(--fill-color);\n",
       "    }\n",
       "    80% {\n",
       "      border-color: transparent;\n",
       "      border-right-color: var(--fill-color);\n",
       "      border-bottom-color: var(--fill-color);\n",
       "    }\n",
       "    90% {\n",
       "      border-color: transparent;\n",
       "      border-bottom-color: var(--fill-color);\n",
       "    }\n",
       "  }\n",
       "</style>\n",
       "\n",
       "  <script>\n",
       "    async function quickchart(key) {\n",
       "      const quickchartButtonEl =\n",
       "        document.querySelector('#' + key + ' button');\n",
       "      quickchartButtonEl.disabled = true;  // To prevent multiple clicks.\n",
       "      quickchartButtonEl.classList.add('colab-df-spinner');\n",
       "      try {\n",
       "        const charts = await google.colab.kernel.invokeFunction(\n",
       "            'suggestCharts', [key], {});\n",
       "      } catch (error) {\n",
       "        console.error('Error during call to suggestCharts:', error);\n",
       "      }\n",
       "      quickchartButtonEl.classList.remove('colab-df-spinner');\n",
       "      quickchartButtonEl.classList.add('colab-df-quickchart-complete');\n",
       "    }\n",
       "    (() => {\n",
       "      let quickchartButtonEl =\n",
       "        document.querySelector('#df-420f288c-a651-499b-9b57-61eb37145f35 button');\n",
       "      quickchartButtonEl.style.display =\n",
       "        google.colab.kernel.accessAllowed ? 'block' : 'none';\n",
       "    })();\n",
       "  </script>\n",
       "</div>\n",
       "    </div>\n",
       "  </div>\n"
      ],
      "text/plain": [
       "    Python  ML\n",
       "工藤      95  70\n",
       "浅木      75  80\n",
       "松田      70  80\n",
       "福田      80  70"
      ]
     },
     "metadata": {},
     "output_type": "display_data"
    }
   ],
   "source": [
    "score_df = pd.DataFrame([[90, 70], [70, 80], [70, 80], [85, 70]],\n",
    "                        index = ['工藤', '浅木', '松田', '福田'],\n",
    "                        columns = ['Python', 'ML'])\n",
    "#Python列のデータを[90, 70, 70, 85]から[95, 75, 70, 80]に更新\n",
    "score_df['Python'] = [95, 75, 70, 80]\n",
    "display(score_df)"
   ]
  },
  {
   "cell_type": "code",
   "execution_count": 24,
   "metadata": {},
   "outputs": [
    {
     "data": {
      "text/html": [
       "<div>\n",
       "<style scoped>\n",
       "    .dataframe tbody tr th:only-of-type {\n",
       "        vertical-align: middle;\n",
       "    }\n",
       "\n",
       "    .dataframe tbody tr th {\n",
       "        vertical-align: top;\n",
       "    }\n",
       "\n",
       "    .dataframe thead th {\n",
       "        text-align: right;\n",
       "    }\n",
       "</style>\n",
       "<table border=\"1\" class=\"dataframe\">\n",
       "  <thead>\n",
       "    <tr style=\"text-align: right;\">\n",
       "      <th></th>\n",
       "      <th>Python</th>\n",
       "      <th>ML</th>\n",
       "      <th>Web</th>\n",
       "    </tr>\n",
       "  </thead>\n",
       "  <tbody>\n",
       "    <tr>\n",
       "      <th>工藤</th>\n",
       "      <td>90</td>\n",
       "      <td>70</td>\n",
       "      <td>85</td>\n",
       "    </tr>\n",
       "    <tr>\n",
       "      <th>浅木</th>\n",
       "      <td>70</td>\n",
       "      <td>80</td>\n",
       "      <td>75</td>\n",
       "    </tr>\n",
       "    <tr>\n",
       "      <th>松田</th>\n",
       "      <td>70</td>\n",
       "      <td>80</td>\n",
       "      <td>70</td>\n",
       "    </tr>\n",
       "    <tr>\n",
       "      <th>福田</th>\n",
       "      <td>85</td>\n",
       "      <td>70</td>\n",
       "      <td>80</td>\n",
       "    </tr>\n",
       "  </tbody>\n",
       "</table>\n",
       "</div>"
      ],
      "text/plain": [
       "    Python  ML  Web\n",
       "工藤      90  70   85\n",
       "浅木      70  80   75\n",
       "松田      70  80   70\n",
       "福田      85  70   80"
      ]
     },
     "metadata": {},
     "output_type": "display_data"
    }
   ],
   "source": [
    "score_df = pd.DataFrame([[90, 70], [70, 80], [70, 80], [85, 70]],\n",
    "                        index = ['工藤', '浅木', '松田', '福田'],\n",
    "                        columns = ['Python', 'ML'])\n",
    "#列データ（Web列）を追加\n",
    "score_df['Web'] = [85, 75, 70, 80]\n",
    "display(score_df)"
   ]
  },
  {
   "cell_type": "markdown",
   "metadata": {},
   "source": [
    "## 行の追加・更新"
   ]
  },
  {
   "cell_type": "code",
   "execution_count": 25,
   "metadata": {},
   "outputs": [
    {
     "data": {
      "text/html": [
       "<div>\n",
       "<style scoped>\n",
       "    .dataframe tbody tr th:only-of-type {\n",
       "        vertical-align: middle;\n",
       "    }\n",
       "\n",
       "    .dataframe tbody tr th {\n",
       "        vertical-align: top;\n",
       "    }\n",
       "\n",
       "    .dataframe thead th {\n",
       "        text-align: right;\n",
       "    }\n",
       "</style>\n",
       "<table border=\"1\" class=\"dataframe\">\n",
       "  <thead>\n",
       "    <tr style=\"text-align: right;\">\n",
       "      <th></th>\n",
       "      <th>Python</th>\n",
       "      <th>ML</th>\n",
       "    </tr>\n",
       "  </thead>\n",
       "  <tbody>\n",
       "    <tr>\n",
       "      <th>工藤</th>\n",
       "      <td>95</td>\n",
       "      <td>75</td>\n",
       "    </tr>\n",
       "    <tr>\n",
       "      <th>浅木</th>\n",
       "      <td>70</td>\n",
       "      <td>80</td>\n",
       "    </tr>\n",
       "    <tr>\n",
       "      <th>松田</th>\n",
       "      <td>70</td>\n",
       "      <td>80</td>\n",
       "    </tr>\n",
       "    <tr>\n",
       "      <th>福田</th>\n",
       "      <td>85</td>\n",
       "      <td>70</td>\n",
       "    </tr>\n",
       "  </tbody>\n",
       "</table>\n",
       "</div>"
      ],
      "text/plain": [
       "    Python  ML\n",
       "工藤      95  75\n",
       "浅木      70  80\n",
       "松田      70  80\n",
       "福田      85  70"
      ]
     },
     "metadata": {},
     "output_type": "display_data"
    }
   ],
   "source": [
    "score_df = pd.DataFrame([[90, 70], [70, 80], [70, 80], [85, 70]],\n",
    "                        index = ['工藤', '浅木', '松田', '福田'],\n",
    "                        columns = ['Python', 'ML'])\n",
    "#工藤行のデータを[90, 70]から[95, 75]に更新\n",
    "score_df.loc['工藤'] = [95, 75]\n",
    "display(score_df)"
   ]
  },
  {
   "cell_type": "code",
   "execution_count": 26,
   "metadata": {},
   "outputs": [
    {
     "data": {
      "text/html": [
       "<div>\n",
       "<style scoped>\n",
       "    .dataframe tbody tr th:only-of-type {\n",
       "        vertical-align: middle;\n",
       "    }\n",
       "\n",
       "    .dataframe tbody tr th {\n",
       "        vertical-align: top;\n",
       "    }\n",
       "\n",
       "    .dataframe thead th {\n",
       "        text-align: right;\n",
       "    }\n",
       "</style>\n",
       "<table border=\"1\" class=\"dataframe\">\n",
       "  <thead>\n",
       "    <tr style=\"text-align: right;\">\n",
       "      <th></th>\n",
       "      <th>Python</th>\n",
       "      <th>ML</th>\n",
       "    </tr>\n",
       "  </thead>\n",
       "  <tbody>\n",
       "    <tr>\n",
       "      <th>工藤</th>\n",
       "      <td>90</td>\n",
       "      <td>70</td>\n",
       "    </tr>\n",
       "    <tr>\n",
       "      <th>浅木</th>\n",
       "      <td>70</td>\n",
       "      <td>80</td>\n",
       "    </tr>\n",
       "    <tr>\n",
       "      <th>松田</th>\n",
       "      <td>70</td>\n",
       "      <td>80</td>\n",
       "    </tr>\n",
       "    <tr>\n",
       "      <th>福田</th>\n",
       "      <td>85</td>\n",
       "      <td>70</td>\n",
       "    </tr>\n",
       "    <tr>\n",
       "      <th>山本</th>\n",
       "      <td>75</td>\n",
       "      <td>75</td>\n",
       "    </tr>\n",
       "  </tbody>\n",
       "</table>\n",
       "</div>"
      ],
      "text/plain": [
       "    Python  ML\n",
       "工藤      90  70\n",
       "浅木      70  80\n",
       "松田      70  80\n",
       "福田      85  70\n",
       "山本      75  75"
      ]
     },
     "metadata": {},
     "output_type": "display_data"
    }
   ],
   "source": [
    "score_df = pd.DataFrame([[90, 70], [70, 80], [70, 80], [85, 70]],\n",
    "                        index = ['工藤', '浅木', '松田', '福田'],\n",
    "                        columns = ['Python', 'ML'])\n",
    "#行データ（山本行）を追加\n",
    "score_df.loc['山本'] = [75, 75]\n",
    "display(score_df)"
   ]
  },
  {
   "cell_type": "markdown",
   "metadata": {},
   "source": [
    "## 行と列の削除\n",
    "*  `drop`メソッドで，行や列を削除できる\n",
    "*  ただし，メソッドを適用した後も元のDataFrameは変わらない"
   ]
  },
  {
   "cell_type": "code",
   "execution_count": 27,
   "metadata": {},
   "outputs": [
    {
     "data": {
      "text/html": [
       "<div>\n",
       "<style scoped>\n",
       "    .dataframe tbody tr th:only-of-type {\n",
       "        vertical-align: middle;\n",
       "    }\n",
       "\n",
       "    .dataframe tbody tr th {\n",
       "        vertical-align: top;\n",
       "    }\n",
       "\n",
       "    .dataframe thead th {\n",
       "        text-align: right;\n",
       "    }\n",
       "</style>\n",
       "<table border=\"1\" class=\"dataframe\">\n",
       "  <thead>\n",
       "    <tr style=\"text-align: right;\">\n",
       "      <th></th>\n",
       "      <th>ML</th>\n",
       "    </tr>\n",
       "  </thead>\n",
       "  <tbody>\n",
       "    <tr>\n",
       "      <th>工藤</th>\n",
       "      <td>70</td>\n",
       "    </tr>\n",
       "    <tr>\n",
       "      <th>浅木</th>\n",
       "      <td>80</td>\n",
       "    </tr>\n",
       "    <tr>\n",
       "      <th>松田</th>\n",
       "      <td>80</td>\n",
       "    </tr>\n",
       "    <tr>\n",
       "      <th>福田</th>\n",
       "      <td>70</td>\n",
       "    </tr>\n",
       "  </tbody>\n",
       "</table>\n",
       "</div>"
      ],
      "text/plain": [
       "    ML\n",
       "工藤  70\n",
       "浅木  80\n",
       "松田  80\n",
       "福田  70"
      ]
     },
     "metadata": {},
     "output_type": "display_data"
    }
   ],
   "source": [
    "score_df = pd.DataFrame([[90, 70], [70, 80], [70, 80], [85, 70]],\n",
    "                        index = ['工藤', '浅木', '松田', '福田'],\n",
    "                        columns = ['Python', 'ML'])\n",
    "#列データ（Python列）を削除して表示\n",
    "display(score_df.drop(['Python'], axis = 1))"
   ]
  },
  {
   "cell_type": "code",
   "execution_count": 28,
   "metadata": {},
   "outputs": [
    {
     "data": {
      "text/html": [
       "<div>\n",
       "<style scoped>\n",
       "    .dataframe tbody tr th:only-of-type {\n",
       "        vertical-align: middle;\n",
       "    }\n",
       "\n",
       "    .dataframe tbody tr th {\n",
       "        vertical-align: top;\n",
       "    }\n",
       "\n",
       "    .dataframe thead th {\n",
       "        text-align: right;\n",
       "    }\n",
       "</style>\n",
       "<table border=\"1\" class=\"dataframe\">\n",
       "  <thead>\n",
       "    <tr style=\"text-align: right;\">\n",
       "      <th></th>\n",
       "      <th>Python</th>\n",
       "      <th>ML</th>\n",
       "    </tr>\n",
       "  </thead>\n",
       "  <tbody>\n",
       "    <tr>\n",
       "      <th>工藤</th>\n",
       "      <td>90</td>\n",
       "      <td>70</td>\n",
       "    </tr>\n",
       "    <tr>\n",
       "      <th>浅木</th>\n",
       "      <td>70</td>\n",
       "      <td>80</td>\n",
       "    </tr>\n",
       "    <tr>\n",
       "      <th>福田</th>\n",
       "      <td>85</td>\n",
       "      <td>70</td>\n",
       "    </tr>\n",
       "  </tbody>\n",
       "</table>\n",
       "</div>"
      ],
      "text/plain": [
       "    Python  ML\n",
       "工藤      90  70\n",
       "浅木      70  80\n",
       "福田      85  70"
      ]
     },
     "metadata": {},
     "output_type": "display_data"
    }
   ],
   "source": [
    "score_df = pd.DataFrame([[90, 70], [70, 80], [70, 80], [85, 70]],\n",
    "                        index = ['工藤', '浅木', '松田', '福田'],\n",
    "                        columns = ['Python', 'ML'])\n",
    "#行データ（松田行）を削除して表示\n",
    "display(score_df.drop(['松田'], axis = 0))"
   ]
  },
  {
   "cell_type": "markdown",
   "metadata": {},
   "source": [
    "## 行と列の入れ替え（転置）\n",
    "*  DataFrameの後ろに「`.T`」を付けることで行と列を入れ替えることができる\n",
    "*  ただし，「`.T`」を適用した後も元のDataFrameは変わらない"
   ]
  },
  {
   "cell_type": "code",
   "execution_count": 29,
   "metadata": {},
   "outputs": [
    {
     "data": {
      "text/html": [
       "<div>\n",
       "<style scoped>\n",
       "    .dataframe tbody tr th:only-of-type {\n",
       "        vertical-align: middle;\n",
       "    }\n",
       "\n",
       "    .dataframe tbody tr th {\n",
       "        vertical-align: top;\n",
       "    }\n",
       "\n",
       "    .dataframe thead th {\n",
       "        text-align: right;\n",
       "    }\n",
       "</style>\n",
       "<table border=\"1\" class=\"dataframe\">\n",
       "  <thead>\n",
       "    <tr style=\"text-align: right;\">\n",
       "      <th></th>\n",
       "      <th>工藤</th>\n",
       "      <th>浅木</th>\n",
       "      <th>松田</th>\n",
       "      <th>福田</th>\n",
       "    </tr>\n",
       "  </thead>\n",
       "  <tbody>\n",
       "    <tr>\n",
       "      <th>Python</th>\n",
       "      <td>90</td>\n",
       "      <td>70</td>\n",
       "      <td>70</td>\n",
       "      <td>85</td>\n",
       "    </tr>\n",
       "    <tr>\n",
       "      <th>ML</th>\n",
       "      <td>70</td>\n",
       "      <td>80</td>\n",
       "      <td>80</td>\n",
       "      <td>70</td>\n",
       "    </tr>\n",
       "  </tbody>\n",
       "</table>\n",
       "</div>"
      ],
      "text/plain": [
       "        工藤  浅木  松田  福田\n",
       "Python  90  70  70  85\n",
       "ML      70  80  80  70"
      ]
     },
     "metadata": {},
     "output_type": "display_data"
    }
   ],
   "source": [
    "score_df = pd.DataFrame([[90, 70], [70, 80], [70, 80], [85, 70]],\n",
    "                        index = ['工藤', '浅木', '松田', '福田'],\n",
    "                        columns = ['Python', 'ML'])\n",
    "#行と列を入れ替えて表示\n",
    "display(score_df.T)"
   ]
  },
  {
   "cell_type": "markdown",
   "metadata": {},
   "source": [
    "## csvファイルの読み込みとcsvファイルへの書き込み\n",
    "*  csv(Comma Separated Values)ファイルとは，各要素がカンマ「`,`」で区切られたテキストファイルのことで，テキストエディタ（メモ帳など）やExcelで開くことができる\n",
    "*  `to_csv`メソッドでDataFrameをcsvファイルに書き込むことができ，`read_csv`メソッドで既存のcsvファイルをDataFrameとして読み込むことができる\n",
    "*  Google Colaboratoryにおいて，書き込みによって作成されるcsvファイルは，ノートブック左のフォルダの形のアイコンをクリックすることで現れるフォルダに保存される\n",
    "*  また，csvファイルを読み込む際は，このフォルダ内にcsvファイルをアップロードしておく必要がある"
   ]
  },
  {
   "cell_type": "code",
   "execution_count": 30,
   "metadata": {},
   "outputs": [],
   "source": [
    "score_df = pd.DataFrame([[90, 70], [70, 80], [70, 80], [85, 70]],\n",
    "                        index = ['工藤', '浅木', '松田', '福田'],\n",
    "                        columns = ['Python', 'ML'])\n",
    "#DataFrameをcsvファイルに書き込む\n",
    "score_df.to_csv('sample.csv', index=True)\n",
    "#実行画面には何も表示されない"
   ]
  },
  {
   "cell_type": "markdown",
   "metadata": {},
   "source": [
    "*  `index`が`True`だとインデックスも書き込まれる．一方，`index`が`False`だとインデックスが省略される\n",
    "*  `read_csv`メソッドの引数には，csvファイルのURLも指定できる\n",
    "*  例として，以下のURLにあるcsvファイル（インデックス有）の読み込みを行う\n",
    ">*  https://bit.ly/3DmHfDw\n",
    "*  また，引数に`index_col`を指定すると，インデックスとして使いたい列を番号で指定できる（列番号は0から始まる）．"
   ]
  },
  {
   "cell_type": "code",
   "execution_count": 31,
   "metadata": {},
   "outputs": [
    {
     "data": {
      "text/html": [
       "<div>\n",
       "<style scoped>\n",
       "    .dataframe tbody tr th:only-of-type {\n",
       "        vertical-align: middle;\n",
       "    }\n",
       "\n",
       "    .dataframe tbody tr th {\n",
       "        vertical-align: top;\n",
       "    }\n",
       "\n",
       "    .dataframe thead th {\n",
       "        text-align: right;\n",
       "    }\n",
       "</style>\n",
       "<table border=\"1\" class=\"dataframe\">\n",
       "  <thead>\n",
       "    <tr style=\"text-align: right;\">\n",
       "      <th></th>\n",
       "      <th>Python</th>\n",
       "      <th>ML</th>\n",
       "    </tr>\n",
       "  </thead>\n",
       "  <tbody>\n",
       "    <tr>\n",
       "      <th>工藤</th>\n",
       "      <td>90</td>\n",
       "      <td>70</td>\n",
       "    </tr>\n",
       "    <tr>\n",
       "      <th>浅木</th>\n",
       "      <td>70</td>\n",
       "      <td>80</td>\n",
       "    </tr>\n",
       "    <tr>\n",
       "      <th>松田</th>\n",
       "      <td>70</td>\n",
       "      <td>80</td>\n",
       "    </tr>\n",
       "    <tr>\n",
       "      <th>福田</th>\n",
       "      <td>85</td>\n",
       "      <td>70</td>\n",
       "    </tr>\n",
       "  </tbody>\n",
       "</table>\n",
       "</div>"
      ],
      "text/plain": [
       "    Python  ML\n",
       "工藤      90  70\n",
       "浅木      70  80\n",
       "松田      70  80\n",
       "福田      85  70"
      ]
     },
     "metadata": {},
     "output_type": "display_data"
    }
   ],
   "source": [
    "#変数urlにcsvファイルの場所（URL）を代入\n",
    "url = 'https://bit.ly/3DmHfDw'\n",
    "#csvファイルをDataFrameに変換して変数score_dfに代入\n",
    "score_df = pd.read_csv(url, index_col=0)\n",
    "display(score_df)"
   ]
  },
  {
   "cell_type": "markdown",
   "metadata": {},
   "source": [
    "*  別例として，以下のURLにあるcsvファイル（インデックス無）の読み込みを行う\n",
    ">*  https://bit.ly/4h1CgG8\n",
    "*  インデックスがないcsvファイルを読み込むと，自動的に0から始まるインデックスが付く"
   ]
  },
  {
   "cell_type": "code",
   "execution_count": 32,
   "metadata": {},
   "outputs": [
    {
     "data": {
      "text/html": [
       "<div>\n",
       "<style scoped>\n",
       "    .dataframe tbody tr th:only-of-type {\n",
       "        vertical-align: middle;\n",
       "    }\n",
       "\n",
       "    .dataframe tbody tr th {\n",
       "        vertical-align: top;\n",
       "    }\n",
       "\n",
       "    .dataframe thead th {\n",
       "        text-align: right;\n",
       "    }\n",
       "</style>\n",
       "<table border=\"1\" class=\"dataframe\">\n",
       "  <thead>\n",
       "    <tr style=\"text-align: right;\">\n",
       "      <th></th>\n",
       "      <th>Python</th>\n",
       "      <th>ML</th>\n",
       "    </tr>\n",
       "  </thead>\n",
       "  <tbody>\n",
       "    <tr>\n",
       "      <th>0</th>\n",
       "      <td>90</td>\n",
       "      <td>70</td>\n",
       "    </tr>\n",
       "    <tr>\n",
       "      <th>1</th>\n",
       "      <td>70</td>\n",
       "      <td>80</td>\n",
       "    </tr>\n",
       "    <tr>\n",
       "      <th>2</th>\n",
       "      <td>70</td>\n",
       "      <td>80</td>\n",
       "    </tr>\n",
       "    <tr>\n",
       "      <th>3</th>\n",
       "      <td>85</td>\n",
       "      <td>70</td>\n",
       "    </tr>\n",
       "  </tbody>\n",
       "</table>\n",
       "</div>"
      ],
      "text/plain": [
       "   Python  ML\n",
       "0      90  70\n",
       "1      70  80\n",
       "2      70  80\n",
       "3      85  70"
      ]
     },
     "metadata": {},
     "output_type": "display_data"
    }
   ],
   "source": [
    "url = 'https://bit.ly/4h1CgG8'\n",
    "score_df = pd.read_csv(url)\n",
    "display(score_df)"
   ]
  },
  {
   "cell_type": "markdown",
   "metadata": {},
   "source": [
    "# DataFrameの応用操作\n",
    "|操作の書式|内容|\n",
    "|:--|:--|\n",
    "|`df.sum()`／`df['列名'].sum()`|合計を計算する集計メソッド|\n",
    "|`df.mean()`／`df['列名'].mean()`|平均を計算する集計メソッド|\n",
    "|`df.median()`／`df['列名'].median()`|中央値を計算する集計メソッド|\n",
    "|`df.mode()`／`df['列名'].mode()`|最頻値を計算する集計メソッド|\n",
    "|`df.var(ddof = 0 or 1)`／`df['列名'].var(ddof = 0 or 1)`|標本分散・不偏分散を計算する集計メソッド|\n",
    "|`df.std()`／`df['列名'].std()`|標準偏差を計算する集計メソッド|\n",
    "|`df.min()`／`df['列名'].min()`|最小値を計算する集計メソッド|\n",
    "|`df.max()`／`df['列名'].max()`|最大値を計算する集計メソッド|\n",
    "|`df.count()`／`df['列名'].count()`|データ数を数えるメソッド|\n",
    "|`df.describe()`|各種基本統計量を一括で計算する集計メソッド|\n",
    "|`df.groupby(集計対象).集計メソッド()`|グループ集計|\n",
    "|`pd.pivot_table()`|ピボットテーブル集計|\n",
    "|`pd.concat([df1, df2], axis = [0 or 1])`|DataFrameの単純な結合|\n",
    "|`df1.merge(df2, how = 結合の種類)`|DataFrameの内部結合・外部結合|\n",
    "|`pd.merge(df1, df2, how = 結合の種類)`|DataFrameの内部結合・外部結合|\n",
    "|`df.isnull()`|欠損値の確認|\n",
    "|`df.dropna(axis = 0)`|欠損値のある行を削除|\n",
    "|`df.dropna(axis = 1)`|欠損値のある列を削除|\n",
    "|`df.fillna(穴埋めする値)`／`df['列名'].fillna(穴埋めする値)`|欠損値を穴埋め|\n",
    "|`df.interpolate(limit_direction = 補間方法)`|線形補間|\n",
    "|`pd.get_dummies(df, drop_first = True or False)`|ダミー変数の作成|\n",
    "|`df.plot(kind = グラフの種類, title = グラフのタイトル)`|グラフの作成|\n",
    "\n",
    "\n",
    "※表内の「`df`」「`df1`」「`df2`」は任意のDataFrame（オブジェクト）\n",
    "※表内の「`pd`」は「pandas」のこと"
   ]
  }
 ],
 "metadata": {
  "colab": {
   "authorship_tag": "ABX9TyOvzA+TVm5vyCkZQE5s3dTW",
   "provenance": [],
   "toc_visible": true
  },
  "kernelspec": {
   "display_name": "base",
   "language": "python",
   "name": "python3"
  },
  "language_info": {
   "codemirror_mode": {
    "name": "ipython",
    "version": 3
   },
   "file_extension": ".py",
   "mimetype": "text/x-python",
   "name": "python",
   "nbconvert_exporter": "python",
   "pygments_lexer": "ipython3",
   "version": "3.9.18"
  }
 },
 "nbformat": 4,
 "nbformat_minor": 0
}

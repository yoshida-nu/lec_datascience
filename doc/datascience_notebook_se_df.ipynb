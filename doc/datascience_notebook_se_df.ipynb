{
 "cells": [
  {
   "cell_type": "markdown",
   "metadata": {},
   "source": [
    "# 事前準備：共通コードの実行\n",
    "* このノートブックに接続したら，まずは以下の2つの共通コード（コードAとコードB）を実行する\n",
    "* これらの共通コードを実行しないと，それ以降のコードが実行できないので注意する\n",
    "* また，コードAとコードBは，ノートブックに接続するたび毎回実行すること（ノートブックに接続中は，何度も実行する必要はない）\n",
    "* 共通コードの詳細についての説明は割愛する（簡単な説明は第2回の「[サンプルノートブック02](https://colab.research.google.com/github/yoshida-nu/lec_datascience/blob/main/doc/datascience_notebook02.ipynb)」を参照）"
   ]
  },
  {
   "cell_type": "code",
   "execution_count": null,
   "metadata": {
    "colab": {
     "base_uri": "https://localhost:8080/"
    },
    "executionInfo": {
     "elapsed": 18690,
     "status": "ok",
     "timestamp": 1715991945042,
     "user": {
      "displayName": "Takahiro YOSHIDA",
      "userId": "00096252480874798687"
     },
     "user_tz": -540
    },
    "id": "3pAqkx-zbIU2",
    "outputId": "f44879d9-8842-40eb-ba41-312077f7c7c9"
   },
   "outputs": [],
   "source": [
    "# コードA：日本語化ライブラリ導入\n",
    "! pip install japanize-matplotlib | tail -n 1"
   ]
  },
  {
   "cell_type": "code",
   "execution_count": 2,
   "metadata": {
    "executionInfo": {
     "elapsed": 2534,
     "status": "ok",
     "timestamp": 1715991961417,
     "user": {
      "displayName": "Takahiro YOSHIDA",
      "userId": "00096252480874798687"
     },
     "user_tz": -540
    },
    "id": "SOfPe7UybRuo"
   },
   "outputs": [],
   "source": [
    "# コードB：共通事前処理\n",
    "\n",
    "#B1:余分なワーニングを非表示にする\n",
    "import warnings\n",
    "warnings.filterwarnings('ignore')\n",
    "\n",
    "#必要ライブラリのimport\n",
    "import pandas as pd\n",
    "import numpy as np\n",
    "import matplotlib.pyplot as plt\n",
    "import japanize_matplotlib #matplotlib日本語化対応\n",
    "import seaborn as sns\n",
    "\n",
    "#B2:データフレーム表示用関数\n",
    "from IPython.display import display\n",
    "\n",
    "#B3:表示オプション調整\n",
    "np.set_printoptions(suppress = True, precision = 3) #numpyの浮動小数点の表示精度\n",
    "pd.options.display.float_format = '{:.3f}'.format #pandasでの浮動小数点の表示精度\n",
    "pd.set_option('display.max_columns', None) #データフレームですべての列データを表示\n",
    "\n",
    "#B4:グラフのデフォルトフォント指定\n",
    "plt.rcParams['font.size'] = 14\n",
    "\n",
    "#乱数の種\n",
    "random_seed = 123"
   ]
  },
  {
   "cell_type": "markdown",
   "metadata": {
    "id": "8D8sUDhst7aI"
   },
   "source": [
    "## コードAの補足\n",
    "このコードは，Pythonのパッケージを管理するためのシステムである`pip`を使用して，japanize-matplotlibというライブラリをインストールし，その出力の最後の1行だけを表示する．\n",
    "  \n",
    "*  `! pip install japanize-matplotlib`: `pip`の`install`コマンドを使って，japanize-matplotlibパッケージをインストールする．japanize-matplotlibは，Matplotlibライブラリで日本語の文字表示を可能にするためのパッケージである．\n",
    "*  `| tail -n 1`: Unix/Linuxの`tail`コマンドを使って，インストールプロセスの出力のうち最後の1行のみを表示する．パイプ`|`によって，`install`コマンドの出力が`tail`コマンドの入力となる．`-n 1`オプションは，末尾から1行だけを取得することを指定している．  \n",
    "  \n",
    "このコードは，Jupyter NotebookやGoogle ColaboratoryのようなPythonのインタラクティブな実行環境で使用されることが多い．`!`をコマンドの前に付けることで，Python環境内からシステムのコマンドを実行することができる．この場合，japanize-matplotlibのインストールが成功したかどうか，または関連する最後のメッセージを確認するために使われています．"
   ]
  },
  {
   "cell_type": "markdown",
   "metadata": {
    "id": "sIlFVjxLuxM5"
   },
   "source": [
    "## コードBの補足\n",
    "### B1:余分なワーニングを非表示にする\n",
    "この部分のコードで，コード実行後に表示される警告メッセージを非表示にしている．具体的には，Pythonの標準ライブラリである`warnings`モジュールの`filterwarnings`関数を使用する．`warnings`モジュールは、開発者（プログラマ）に警告（非致命的なエラーなど）を発するためのモジュールである．  \n",
    "  \n",
    "*  `import warnings`: `warnings`モジュールをインポートする．\n",
    "*  `warnings.filterwarnings('ignore')`: `filterwarnings`関数を使って，発生する警告を非表示にする（無視する）．\n",
    "\n",
    "この処理は，特定の警告が表示されることがわかっており，それによる出力が実行結果の可読性を損なう場合などに使われる（本講義でもこの目的で使っている）．ただし，警告メッセージはコードに潜在的な問題があることを知らせる重要な手がかりを提供するので，慎重に使用する必要がある．\n",
    "\n",
    "### B2:データフレーム表示用関数\n",
    "この部分のコードで，`IPython.display`モジュールから`display`関数をインポートしている．`IPython.display`モジュールは，IPython環境（Jupyter NotebookやGoogle Colaboratoryを含む）内でリッチなウェブベースのコンテンツを表示するためのツール群を提供する．\n",
    "\n",
    "`display`関数は，様々な形式のデータやメディアを豊かに表示するために使われる。．例えば，HTML，画像，DataFrame等の表示が含まれる．この関数を使用することで，標準の出力よりも見やすい表示にできる．\n",
    "\n",
    "### B3:表示オプション調整\n",
    "この部分のコードで，NumPyとPandasを使用する際の小数点以下の桁数表示を設定している．\n",
    "\n",
    "*  `np.set_printoptions(suppress = True, precision = 3)`:\n",
    "    *  `suppress = True`: 指数表記（例: `1e-4`）を使用しない．\n",
    "    *  `precision = 3`: 表示する小数点以下の桁数を3桁に設定する．\n",
    "    *  これにより，NumPyの配列の各要素が小数点以下3桁までの精度で表示される．\n",
    "*  `pd.options.display.float_format = '{:.3f}'.format`:\n",
    "    * PandasのDataFrameやSeries内のデータ型がfloatの数値に対するフォーマットを設定する．\n",
    "    * `'{:.3f}'.format`: 小数点以下3桁までの精度で表示するように設定している．\n",
    "*  `pd.set_option('display.max_columns', None)`:\n",
    "    *  `pd.set_option`: DataFrameの表示行数や列数などが指定できる．\n",
    "    *  `display.max_columns`: 表示する最大のカラム数を指定する．\n",
    "    *  `display.max_columns`の後ろに`None`を設定することで，DataFrameの列数の制限をなくし，利用可能なすべての列を表示することができる．\n",
    "\n",
    "\n",
    "### B4:グラフのデフォルトフォント指定\n",
    "この部分のコードで，matplotlibのグラフにおける文字サイズを設定している．`plt.rcParams`には，matplotlibのデフォルト設定が格納されている辞書型のデータ（辞書）である．この辞書を通じて，グラフの様々な視覚的要素（文字サイズ，線の太さ，色など）のデフォルト値を設定できる．\n",
    "  \n",
    "`plt.rcParams['font.size'] = 14`で，グラフ内のテキスト（タイトル，軸ラベル，凡例など）のデフォルトの文字サイズを14ポイントに設定している．\n",
    "\n",
    "\n",
    "\n",
    "\n",
    "\n",
    "\n"
   ]
  },
  {
   "cell_type": "markdown",
   "metadata": {},
   "source": [
    "# Seriesの基本操作\n",
    "Seriesは複数の値を要素として持ち，各要素には「インデックス」を割り当てることができる．  \n",
    "Series定義の書式:\n",
    "`pd.Series(値を要素に持つリスト, index=インデックスのリスト)`  \n",
    "※`pd`は`pandas`のこと\n",
    "\n",
    "\n",
    "|基本操作の書式|内容|\n",
    "|:--|:--|\n",
    "|`se.index`|Seriesのインデックス|\n",
    "|`se['インデックス名']`|インデックスによる要素指定|\n",
    "|`se.unique()`|重複排除結果を返すメソッド|\n",
    "|`se.value_counts()`|要素の値ごとのデータ数を集計するメソッド |\n",
    "|`se.sort_values(ascending=[True or False])`|要素を並べ替えるメソッド（`True`で昇順（デフォルト），`False`で降順）|\n",
    "|`se.map(関数名)`|各データに関数を適用するメソッド|\n",
    "|`se 演算子 値`|各要素と値の演算結果を返す|\n",
    "|`se[条件式]`|条件式による検索結果を返す|\n",
    "\n",
    "\n",
    "※表内の「`se`」は任意のSeries（オブジェクト）"
   ]
  },
  {
   "cell_type": "markdown",
   "metadata": {},
   "source": [
    "## Seriesの定義"
   ]
  },
  {
   "cell_type": "code",
   "execution_count": null,
   "metadata": {},
   "outputs": [
    {
     "name": "stdout",
     "output_type": "stream",
     "text": [
      "工藤    90\n",
      "浅木    70\n",
      "松田    70\n",
      "瀬川    80\n",
      "dtype: int64\n"
     ]
    }
   ],
   "source": [
    "score = pd.Series([90, 70, 70, 80], index = ['工藤', '浅木', '松田', '瀬川']) #Seriesの定義\n",
    "print(score)"
   ]
  },
  {
   "cell_type": "markdown",
   "metadata": {},
   "source": [
    "## インデックスの参照と要素指定"
   ]
  },
  {
   "cell_type": "code",
   "execution_count": null,
   "metadata": {},
   "outputs": [
    {
     "name": "stdout",
     "output_type": "stream",
     "text": [
      "Index(['工藤', '浅木', '松田', '瀬川'], dtype='object')\n",
      "70\n"
     ]
    }
   ],
   "source": [
    "score = pd.Series([90, 70, 70, 80], index = ['工藤', '浅木', '松田', '瀬川']) #Seriesの定義\n",
    "print(score.index) #インデックスの参照\n",
    "print(score['松田']) #インデックスによる要素指定"
   ]
  },
  {
   "cell_type": "markdown",
   "metadata": {},
   "source": [
    "## 重複排除"
   ]
  },
  {
   "cell_type": "code",
   "execution_count": null,
   "metadata": {},
   "outputs": [
    {
     "name": "stdout",
     "output_type": "stream",
     "text": [
      "[90 70 80]\n"
     ]
    }
   ],
   "source": [
    "score = pd.Series([90, 70, 70, 80], index = ['工藤', '浅木', '松田', '瀬川']) #Seriesの定義\n",
    "print(score.unique()) #重複排除結果表示"
   ]
  },
  {
   "cell_type": "markdown",
   "metadata": {},
   "source": [
    "### 参考\n",
    "*  以下のコードの実行結果は，`score` シリーズオブジェクトの `unique` メソッド自体を表している\n",
    "*  `unique` メソッドが実際に呼び出されているわけではなく，そのメソッドオブジェクト自体が`print`関数の引数となって表示されている\n",
    "*  メソッド名の後ろに括弧がない場合，実際にメソッドが呼び出されるのではなく，オブジェクト自身が指定されていることになる\n",
    "*  Pythonでは，取り扱われるすべてのデータ（関数，クラス，メソッド等）がオブジェクトとなるので，`変数.unique`はオブジェクトとなり，`print(変数.unique)`を実行すると`unique`メソッドオブジェクト自身が表示されることになる\n",
    "*  また，すべてのメソッドは`method`クラスのオブジェクトなので，他のメソッドでも同様の実行結果となる\n",
    "*  メソッドを呼び出す場合には，必ず`()`を記述する\n",
    "*  この`()`は演算子の一つで「呼び出し演算子」と呼ぶ"
   ]
  },
  {
   "cell_type": "code",
   "execution_count": 8,
   "metadata": {},
   "outputs": [
    {
     "name": "stdout",
     "output_type": "stream",
     "text": [
      "<bound method Series.unique of 工藤    90\n",
      "浅木    70\n",
      "松田    70\n",
      "瀬川    80\n",
      "dtype: int64>\n",
      "<class 'method'>\n",
      "<class 'numpy.ndarray'>\n"
     ]
    }
   ],
   "source": [
    "score = pd.Series([90, 70, 70, 80], index = ['工藤', '浅木', '松田', '瀬川']) #Seriesの定義\n",
    "print(score.unique) #括弧を入れてない\n",
    "print(type(score.unique))\n",
    "print(type(score.unique()))"
   ]
  },
  {
   "cell_type": "markdown",
   "metadata": {},
   "source": [
    "## データ数の集計"
   ]
  },
  {
   "cell_type": "code",
   "execution_count": 4,
   "metadata": {},
   "outputs": [
    {
     "name": "stdout",
     "output_type": "stream",
     "text": [
      "70    2\n",
      "90    1\n",
      "80    1\n",
      "Name: count, dtype: int64\n"
     ]
    }
   ],
   "source": [
    "score = pd.Series([90, 70, 70, 80], index = ['工藤', '浅木', '松田', '瀬川']) #Seriesの定義\n",
    "print(score.value_counts()) #データ数の集計結果表示"
   ]
  },
  {
   "cell_type": "markdown",
   "metadata": {},
   "source": [
    "## 並べ替え（ソート）"
   ]
  },
  {
   "cell_type": "code",
   "execution_count": 5,
   "metadata": {},
   "outputs": [
    {
     "name": "stdout",
     "output_type": "stream",
     "text": [
      "浅木    70\n",
      "松田    70\n",
      "瀬川    80\n",
      "工藤    90\n",
      "dtype: int64\n"
     ]
    }
   ],
   "source": [
    "score = pd.Series([90, 70, 70, 80], index = ['工藤', '浅木', '松田', '瀬川']) #Seriesの定義\n",
    "print(score.sort_values()) #並べ替えた結果を表示"
   ]
  },
  {
   "cell_type": "markdown",
   "metadata": {},
   "source": [
    "## 演算処理"
   ]
  },
  {
   "cell_type": "code",
   "execution_count": 6,
   "metadata": {},
   "outputs": [
    {
     "name": "stdout",
     "output_type": "stream",
     "text": [
      "工藤     True\n",
      "浅木    False\n",
      "松田    False\n",
      "瀬川     True\n",
      "dtype: bool\n"
     ]
    }
   ],
   "source": [
    "score = pd.Series([90, 70, 70, 80], index = ['工藤', '浅木', '松田', '瀬川']) #Seriesの定義\n",
    "print(score >= 80) #演算結果を表示（要素の値が80以上であればTrue）"
   ]
  },
  {
   "cell_type": "code",
   "execution_count": 7,
   "metadata": {},
   "outputs": [
    {
     "name": "stdout",
     "output_type": "stream",
     "text": [
      "工藤    95\n",
      "浅木    75\n",
      "松田    75\n",
      "瀬川    85\n",
      "dtype: int64\n"
     ]
    }
   ],
   "source": [
    "score = pd.Series([90, 70, 70, 80], index = ['工藤', '浅木', '松田', '瀬川']) #Seriesの定義\n",
    "print(score + 5) #演算結果を表示（要素の値に+5する）"
   ]
  },
  {
   "cell_type": "markdown",
   "metadata": {},
   "source": [
    "## 検索"
   ]
  },
  {
   "cell_type": "code",
   "execution_count": 9,
   "metadata": {},
   "outputs": [
    {
     "name": "stdout",
     "output_type": "stream",
     "text": [
      "工藤    90\n",
      "瀬川    80\n",
      "dtype: int64\n"
     ]
    }
   ],
   "source": [
    "score = pd.Series([90, 70, 70, 80], index = ['工藤', '浅木', '松田', '瀬川']) #Seriesの定義\n",
    "print(score[score >= 80]) #条件式による検索結果を表示（80以上の要素を表示）"
   ]
  },
  {
   "cell_type": "markdown",
   "metadata": {},
   "source": [
    "# DataFrameの基本操作\n",
    "DataFrameは表形式（行列形式）の形で値を持ち，各行に対してindex（インデックス）を，各列に対してcolumns（列名）を割り当てることができる．したがって，indexとcolumnsの組で一つの要素を指定できる．\n",
    "  \n",
    "DataFrame定義の書式:  \n",
    "`pd.DataFrame(リストを要素に持つリスト, index=インデックスのリスト, columns=列名のリスト)`  \n",
    "※`pd`は`pandas`のこと\n",
    "\n",
    "\n",
    "|基本操作の書式|内容|\n",
    "|:--|:--|\n",
    "|`df.index`|DataFrameのインデックス|\n",
    "|`df.columns`|DataFrameの列名|\n",
    "|`df.shape`|DataFrameの行数と列数|\n",
    "|`df.head()`|DataFrameの先頭の数行を返すメソッド|\n",
    "|`df.tail()`|DataFrameの末尾の数行を返すメソッド|\n",
    "|`df[列名のリスト]`|特定の列を返す|\n",
    "|`df.loc[インデックスのリスト]`|特定の行の返す|\n",
    "|`df[条件式]`|条件式による検索結果を返す|\n",
    "|`df.loc[インデックスのリスト, 列名のリスト]`|指定した行と列に対応する要素を返す|\n",
    "|`df.loc[インデックス] = ～`|行の追加・更新|\n",
    "|`df['列名'] = ～`|列の追加・更新|\n",
    "|`df.drop(インデックスのリスト, axis = 0)`|指定した行を削除するメソッド|\n",
    "|`df.drop(列名のリスト, axis = 1)`|指定した列を削除するメソッド|\n",
    "|`df.T`|行と列を入れ替える（転置）|\n",
    "|`df.to_csv('ファイルの名前')`|DataFrameをcsvファイルに書き込むメソッド|\n",
    "|`pd.resd_csv('ファイルの場所・名前')`|csvファイルをDataFrameに読み込むメソッド|\n",
    "\n",
    "※表内の「`df`」は任意のDataFrame（オブジェクト）\n",
    "※表内の「`pd`」は「pandas」のこと"
   ]
  },
  {
   "cell_type": "markdown",
   "metadata": {},
   "source": [
    "## DataFrameの定義\n",
    "`display`関数は，DataFrameを（`print`関数より）見やすい形で表示する関数である．"
   ]
  },
  {
   "cell_type": "code",
   "execution_count": 10,
   "metadata": {},
   "outputs": [
    {
     "data": {
      "text/html": [
       "<div>\n",
       "<style scoped>\n",
       "    .dataframe tbody tr th:only-of-type {\n",
       "        vertical-align: middle;\n",
       "    }\n",
       "\n",
       "    .dataframe tbody tr th {\n",
       "        vertical-align: top;\n",
       "    }\n",
       "\n",
       "    .dataframe thead th {\n",
       "        text-align: right;\n",
       "    }\n",
       "</style>\n",
       "<table border=\"1\" class=\"dataframe\">\n",
       "  <thead>\n",
       "    <tr style=\"text-align: right;\">\n",
       "      <th></th>\n",
       "      <th>Python</th>\n",
       "      <th>ML</th>\n",
       "    </tr>\n",
       "  </thead>\n",
       "  <tbody>\n",
       "    <tr>\n",
       "      <th>工藤</th>\n",
       "      <td>90</td>\n",
       "      <td>70</td>\n",
       "    </tr>\n",
       "    <tr>\n",
       "      <th>浅木</th>\n",
       "      <td>70</td>\n",
       "      <td>80</td>\n",
       "    </tr>\n",
       "    <tr>\n",
       "      <th>松田</th>\n",
       "      <td>70</td>\n",
       "      <td>80</td>\n",
       "    </tr>\n",
       "    <tr>\n",
       "      <th>福田</th>\n",
       "      <td>85</td>\n",
       "      <td>70</td>\n",
       "    </tr>\n",
       "  </tbody>\n",
       "</table>\n",
       "</div>"
      ],
      "text/plain": [
       "    Python  ML\n",
       "工藤      90  70\n",
       "浅木      70  80\n",
       "松田      70  80\n",
       "福田      85  70"
      ]
     },
     "metadata": {},
     "output_type": "display_data"
    }
   ],
   "source": [
    "score_df = pd.DataFrame([[90, 70], [70, 80], [70, 80], [85, 70]],\n",
    "                        index = ['工藤', '浅木', '松田', '福田'],\n",
    "                        columns = ['Python', 'ML']) #DataFrameの定義\n",
    "display(score_df)"
   ]
  },
  {
   "cell_type": "markdown",
   "metadata": {},
   "source": [
    "*  実行結果の直後に表示される「View recommended plots」をクリックすると，DataFrameに対するグラフ表示のコードを提案してくれる（Google Claboratoryの機能）\n",
    "*  本講義では利用しないので，特に気にしなくてよい"
   ]
  },
  {
   "cell_type": "code",
   "execution_count": 11,
   "metadata": {},
   "outputs": [
    {
     "data": {
      "text/html": [
       "<div>\n",
       "<style scoped>\n",
       "    .dataframe tbody tr th:only-of-type {\n",
       "        vertical-align: middle;\n",
       "    }\n",
       "\n",
       "    .dataframe tbody tr th {\n",
       "        vertical-align: top;\n",
       "    }\n",
       "\n",
       "    .dataframe thead th {\n",
       "        text-align: right;\n",
       "    }\n",
       "</style>\n",
       "<table border=\"1\" class=\"dataframe\">\n",
       "  <thead>\n",
       "    <tr style=\"text-align: right;\">\n",
       "      <th></th>\n",
       "      <th>Python</th>\n",
       "      <th>ML</th>\n",
       "    </tr>\n",
       "  </thead>\n",
       "  <tbody>\n",
       "    <tr>\n",
       "      <th>工藤</th>\n",
       "      <td>90</td>\n",
       "      <td>70</td>\n",
       "    </tr>\n",
       "    <tr>\n",
       "      <th>浅木</th>\n",
       "      <td>70</td>\n",
       "      <td>80</td>\n",
       "    </tr>\n",
       "    <tr>\n",
       "      <th>松田</th>\n",
       "      <td>70</td>\n",
       "      <td>80</td>\n",
       "    </tr>\n",
       "    <tr>\n",
       "      <th>福田</th>\n",
       "      <td>85</td>\n",
       "      <td>70</td>\n",
       "    </tr>\n",
       "  </tbody>\n",
       "</table>\n",
       "</div>"
      ],
      "text/plain": [
       "    Python  ML\n",
       "工藤      90  70\n",
       "浅木      70  80\n",
       "松田      70  80\n",
       "福田      85  70"
      ]
     },
     "metadata": {},
     "output_type": "display_data"
    }
   ],
   "source": [
    "# 上のコードと同じ結果となる）\n",
    "data = [[90, 70], [70, 80], [70, 80], [85, 70]]\n",
    "idx = ['工藤', '浅木', '松田', '福田']\n",
    "col = ['Python', 'ML']\n",
    "score_df = pd.DataFrame(data, index = idx, columns = col) #DataFrameの定義\n",
    "display(score_df)"
   ]
  },
  {
   "cell_type": "markdown",
   "metadata": {},
   "source": [
    "## インデックスと列名の参照\n",
    "*  インデックスと列名は，あとから変更することもできる\n",
    "*  また，for文の制御記述としてリストと同様に利用できる"
   ]
  },
  {
   "cell_type": "code",
   "execution_count": null,
   "metadata": {},
   "outputs": [
    {
     "name": "stdout",
     "output_type": "stream",
     "text": [
      "Index(['工藤', '浅木', '松田', '福田'], dtype='object')\n",
      "Index(['Python', 'ML'], dtype='object')\n"
     ]
    }
   ],
   "source": [
    "score_df = pd.DataFrame([[90, 70], [70, 80], [70, 80], [85, 70]],\n",
    "                        index = ['工藤', '浅木', '松田', '福田'],\n",
    "                        columns = ['Python', 'ML'])\n",
    "print(score_df.index) #インデックスの表示\n",
    "print(score_df.columns) #列名の表示"
   ]
  },
  {
   "cell_type": "markdown",
   "metadata": {},
   "source": [
    "## 列数と行数の参照"
   ]
  },
  {
   "cell_type": "code",
   "execution_count": null,
   "metadata": {},
   "outputs": [
    {
     "name": "stdout",
     "output_type": "stream",
     "text": [
      "(4, 2)\n"
     ]
    }
   ],
   "source": [
    "score_df = pd.DataFrame([[90, 70], [70, 80], [70, 80], [85, 70]],\n",
    "                        index = ['工藤', '浅木', '松田', '福田'],\n",
    "                        columns = ['Python', 'ML'])\n",
    "print(score_df.shape) #行数と列数を表示"
   ]
  },
  {
   "cell_type": "markdown",
   "metadata": {},
   "source": [
    "## 先頭・末尾の数行を返すメソッド"
   ]
  },
  {
   "cell_type": "code",
   "execution_count": 13,
   "metadata": {},
   "outputs": [
    {
     "data": {
      "text/html": [
       "<div>\n",
       "<style scoped>\n",
       "    .dataframe tbody tr th:only-of-type {\n",
       "        vertical-align: middle;\n",
       "    }\n",
       "\n",
       "    .dataframe tbody tr th {\n",
       "        vertical-align: top;\n",
       "    }\n",
       "\n",
       "    .dataframe thead th {\n",
       "        text-align: right;\n",
       "    }\n",
       "</style>\n",
       "<table border=\"1\" class=\"dataframe\">\n",
       "  <thead>\n",
       "    <tr style=\"text-align: right;\">\n",
       "      <th></th>\n",
       "      <th>Python</th>\n",
       "      <th>ML</th>\n",
       "    </tr>\n",
       "  </thead>\n",
       "  <tbody>\n",
       "    <tr>\n",
       "      <th>工藤</th>\n",
       "      <td>90</td>\n",
       "      <td>70</td>\n",
       "    </tr>\n",
       "  </tbody>\n",
       "</table>\n",
       "</div>"
      ],
      "text/plain": [
       "    Python  ML\n",
       "工藤      90  70"
      ]
     },
     "metadata": {},
     "output_type": "display_data"
    },
    {
     "name": "stdout",
     "output_type": "stream",
     "text": [
      "----------------------------------\n"
     ]
    },
    {
     "data": {
      "text/html": [
       "<div>\n",
       "<style scoped>\n",
       "    .dataframe tbody tr th:only-of-type {\n",
       "        vertical-align: middle;\n",
       "    }\n",
       "\n",
       "    .dataframe tbody tr th {\n",
       "        vertical-align: top;\n",
       "    }\n",
       "\n",
       "    .dataframe thead th {\n",
       "        text-align: right;\n",
       "    }\n",
       "</style>\n",
       "<table border=\"1\" class=\"dataframe\">\n",
       "  <thead>\n",
       "    <tr style=\"text-align: right;\">\n",
       "      <th></th>\n",
       "      <th>Python</th>\n",
       "      <th>ML</th>\n",
       "    </tr>\n",
       "  </thead>\n",
       "  <tbody>\n",
       "    <tr>\n",
       "      <th>松田</th>\n",
       "      <td>70</td>\n",
       "      <td>80</td>\n",
       "    </tr>\n",
       "    <tr>\n",
       "      <th>福田</th>\n",
       "      <td>85</td>\n",
       "      <td>70</td>\n",
       "    </tr>\n",
       "  </tbody>\n",
       "</table>\n",
       "</div>"
      ],
      "text/plain": [
       "    Python  ML\n",
       "松田      70  80\n",
       "福田      85  70"
      ]
     },
     "metadata": {},
     "output_type": "display_data"
    }
   ],
   "source": [
    "score_df = pd.DataFrame([[90, 70], [70, 80], [70, 80], [85, 70]],\n",
    "                        index = ['工藤', '浅木', '松田', '福田'],\n",
    "                        columns = ['Python', 'ML'])\n",
    "display(score_df.head(1)) #先頭1行を表示\n",
    "print('----------------------------------')\n",
    "display(score_df.tail(2)) #末尾2行を表示"
   ]
  },
  {
   "cell_type": "markdown",
   "metadata": {},
   "source": [
    "## 列名を指定して列データを抽出\n",
    "*  DataFrame名の後ろに列名のリストを角括弧`[ ]`で囲って記述することで任意の列データを抽出できる"
   ]
  },
  {
   "cell_type": "code",
   "execution_count": 17,
   "metadata": {},
   "outputs": [
    {
     "data": {
      "text/html": [
       "<div>\n",
       "<style scoped>\n",
       "    .dataframe tbody tr th:only-of-type {\n",
       "        vertical-align: middle;\n",
       "    }\n",
       "\n",
       "    .dataframe tbody tr th {\n",
       "        vertical-align: top;\n",
       "    }\n",
       "\n",
       "    .dataframe thead th {\n",
       "        text-align: right;\n",
       "    }\n",
       "</style>\n",
       "<table border=\"1\" class=\"dataframe\">\n",
       "  <thead>\n",
       "    <tr style=\"text-align: right;\">\n",
       "      <th></th>\n",
       "      <th>ML</th>\n",
       "    </tr>\n",
       "  </thead>\n",
       "  <tbody>\n",
       "    <tr>\n",
       "      <th>工藤</th>\n",
       "      <td>70</td>\n",
       "    </tr>\n",
       "    <tr>\n",
       "      <th>浅木</th>\n",
       "      <td>80</td>\n",
       "    </tr>\n",
       "    <tr>\n",
       "      <th>松田</th>\n",
       "      <td>80</td>\n",
       "    </tr>\n",
       "    <tr>\n",
       "      <th>福田</th>\n",
       "      <td>70</td>\n",
       "    </tr>\n",
       "  </tbody>\n",
       "</table>\n",
       "</div>"
      ],
      "text/plain": [
       "    ML\n",
       "工藤  70\n",
       "浅木  80\n",
       "松田  80\n",
       "福田  70"
      ]
     },
     "metadata": {},
     "output_type": "display_data"
    }
   ],
   "source": [
    "score_df = pd.DataFrame([[90, 70], [70, 80], [70, 80], [85, 70]],\n",
    "                        index = ['工藤', '浅木', '松田', '福田'],\n",
    "                        columns = ['Python', 'ML'])\n",
    "display(score_df[['ML']]) #ML列を抽出"
   ]
  },
  {
   "cell_type": "markdown",
   "metadata": {},
   "source": [
    "*  . (ドット) を利用しても同じ結果が得られる\n",
    "*  書式: `df.列名`  \n",
    "*  例: `score_df.Python`"
   ]
  },
  {
   "cell_type": "markdown",
   "metadata": {},
   "source": [
    "## インデックスを指定して行データを抽出\n",
    "*  DataFrameに対する`loc`メソッドを使うことで行データを抽出できる\n",
    "*  `loc`の後ろにインデックスのリストを角括弧`[ ]`で囲って記述することで任意の行データを抽出できる\n",
    "*  また，: (コロン) で行番号の範囲を指定することで，特定の範囲の行を抽出できる\n",
    "*  例: `df[10:15]`"
   ]
  },
  {
   "cell_type": "code",
   "execution_count": 18,
   "metadata": {},
   "outputs": [
    {
     "data": {
      "text/html": [
       "<div>\n",
       "<style scoped>\n",
       "    .dataframe tbody tr th:only-of-type {\n",
       "        vertical-align: middle;\n",
       "    }\n",
       "\n",
       "    .dataframe tbody tr th {\n",
       "        vertical-align: top;\n",
       "    }\n",
       "\n",
       "    .dataframe thead th {\n",
       "        text-align: right;\n",
       "    }\n",
       "</style>\n",
       "<table border=\"1\" class=\"dataframe\">\n",
       "  <thead>\n",
       "    <tr style=\"text-align: right;\">\n",
       "      <th></th>\n",
       "      <th>Python</th>\n",
       "      <th>ML</th>\n",
       "    </tr>\n",
       "  </thead>\n",
       "  <tbody>\n",
       "    <tr>\n",
       "      <th>浅木</th>\n",
       "      <td>70</td>\n",
       "      <td>80</td>\n",
       "    </tr>\n",
       "    <tr>\n",
       "      <th>福田</th>\n",
       "      <td>85</td>\n",
       "      <td>70</td>\n",
       "    </tr>\n",
       "  </tbody>\n",
       "</table>\n",
       "</div>"
      ],
      "text/plain": [
       "    Python  ML\n",
       "浅木      70  80\n",
       "福田      85  70"
      ]
     },
     "metadata": {},
     "output_type": "display_data"
    }
   ],
   "source": [
    "score_df = pd.DataFrame([[90, 70], [70, 80], [70, 80], [85, 70]],\n",
    "                        index = ['工藤', '浅木', '松田', '福田'],\n",
    "                        columns = ['Python', 'ML'])\n",
    "display(score_df.loc[['浅木', '福田']]) #浅木と福田の行を抽出"
   ]
  },
  {
   "cell_type": "markdown",
   "metadata": {},
   "source": [
    "## インデックスと列名を指定してデータを抽出\n",
    "*  `loc`メソッドを用いる\n",
    "*  `loc`の後ろの角括弧`[ ]`の中に**インデックスのリスト**, **列名のリスト**を記述することで任意の要素を抽出できる"
   ]
  },
  {
   "cell_type": "code",
   "execution_count": null,
   "metadata": {},
   "outputs": [
    {
     "data": {
      "application/vnd.google.colaboratory.intrinsic+json": {
       "summary": "{\n  \"name\": \"# display(score_df\",\n  \"rows\": 2,\n  \"fields\": [\n    {\n      \"column\": \"Python\",\n      \"properties\": {\n        \"dtype\": \"number\",\n        \"std\": 14,\n        \"min\": 70,\n        \"max\": 90,\n        \"num_unique_values\": 2,\n        \"samples\": [\n          70,\n          90\n        ],\n        \"semantic_type\": \"\",\n        \"description\": \"\"\n      }\n    }\n  ]\n}",
       "type": "dataframe"
      },
      "text/html": [
       "\n",
       "  <div id=\"df-851a5466-d712-40b4-8f84-db943881451a\" class=\"colab-df-container\">\n",
       "    <div>\n",
       "<style scoped>\n",
       "    .dataframe tbody tr th:only-of-type {\n",
       "        vertical-align: middle;\n",
       "    }\n",
       "\n",
       "    .dataframe tbody tr th {\n",
       "        vertical-align: top;\n",
       "    }\n",
       "\n",
       "    .dataframe thead th {\n",
       "        text-align: right;\n",
       "    }\n",
       "</style>\n",
       "<table border=\"1\" class=\"dataframe\">\n",
       "  <thead>\n",
       "    <tr style=\"text-align: right;\">\n",
       "      <th></th>\n",
       "      <th>Python</th>\n",
       "    </tr>\n",
       "  </thead>\n",
       "  <tbody>\n",
       "    <tr>\n",
       "      <th>工藤</th>\n",
       "      <td>90</td>\n",
       "    </tr>\n",
       "    <tr>\n",
       "      <th>松田</th>\n",
       "      <td>70</td>\n",
       "    </tr>\n",
       "  </tbody>\n",
       "</table>\n",
       "</div>\n",
       "    <div class=\"colab-df-buttons\">\n",
       "\n",
       "  <div class=\"colab-df-container\">\n",
       "    <button class=\"colab-df-convert\" onclick=\"convertToInteractive('df-851a5466-d712-40b4-8f84-db943881451a')\"\n",
       "            title=\"Convert this dataframe to an interactive table.\"\n",
       "            style=\"display:none;\">\n",
       "\n",
       "  <svg xmlns=\"http://www.w3.org/2000/svg\" height=\"24px\" viewBox=\"0 -960 960 960\">\n",
       "    <path d=\"M120-120v-720h720v720H120Zm60-500h600v-160H180v160Zm220 220h160v-160H400v160Zm0 220h160v-160H400v160ZM180-400h160v-160H180v160Zm440 0h160v-160H620v160ZM180-180h160v-160H180v160Zm440 0h160v-160H620v160Z\"/>\n",
       "  </svg>\n",
       "    </button>\n",
       "\n",
       "  <style>\n",
       "    .colab-df-container {\n",
       "      display:flex;\n",
       "      gap: 12px;\n",
       "    }\n",
       "\n",
       "    .colab-df-convert {\n",
       "      background-color: #E8F0FE;\n",
       "      border: none;\n",
       "      border-radius: 50%;\n",
       "      cursor: pointer;\n",
       "      display: none;\n",
       "      fill: #1967D2;\n",
       "      height: 32px;\n",
       "      padding: 0 0 0 0;\n",
       "      width: 32px;\n",
       "    }\n",
       "\n",
       "    .colab-df-convert:hover {\n",
       "      background-color: #E2EBFA;\n",
       "      box-shadow: 0px 1px 2px rgba(60, 64, 67, 0.3), 0px 1px 3px 1px rgba(60, 64, 67, 0.15);\n",
       "      fill: #174EA6;\n",
       "    }\n",
       "\n",
       "    .colab-df-buttons div {\n",
       "      margin-bottom: 4px;\n",
       "    }\n",
       "\n",
       "    [theme=dark] .colab-df-convert {\n",
       "      background-color: #3B4455;\n",
       "      fill: #D2E3FC;\n",
       "    }\n",
       "\n",
       "    [theme=dark] .colab-df-convert:hover {\n",
       "      background-color: #434B5C;\n",
       "      box-shadow: 0px 1px 3px 1px rgba(0, 0, 0, 0.15);\n",
       "      filter: drop-shadow(0px 1px 2px rgba(0, 0, 0, 0.3));\n",
       "      fill: #FFFFFF;\n",
       "    }\n",
       "  </style>\n",
       "\n",
       "    <script>\n",
       "      const buttonEl =\n",
       "        document.querySelector('#df-851a5466-d712-40b4-8f84-db943881451a button.colab-df-convert');\n",
       "      buttonEl.style.display =\n",
       "        google.colab.kernel.accessAllowed ? 'block' : 'none';\n",
       "\n",
       "      async function convertToInteractive(key) {\n",
       "        const element = document.querySelector('#df-851a5466-d712-40b4-8f84-db943881451a');\n",
       "        const dataTable =\n",
       "          await google.colab.kernel.invokeFunction('convertToInteractive',\n",
       "                                                    [key], {});\n",
       "        if (!dataTable) return;\n",
       "\n",
       "        const docLinkHtml = 'Like what you see? Visit the ' +\n",
       "          '<a target=\"_blank\" href=https://colab.research.google.com/notebooks/data_table.ipynb>data table notebook</a>'\n",
       "          + ' to learn more about interactive tables.';\n",
       "        element.innerHTML = '';\n",
       "        dataTable['output_type'] = 'display_data';\n",
       "        await google.colab.output.renderOutput(dataTable, element);\n",
       "        const docLink = document.createElement('div');\n",
       "        docLink.innerHTML = docLinkHtml;\n",
       "        element.appendChild(docLink);\n",
       "      }\n",
       "    </script>\n",
       "  </div>\n",
       "\n",
       "\n",
       "<div id=\"df-da00bc82-786f-4df9-8b87-ed263ab1a836\">\n",
       "  <button class=\"colab-df-quickchart\" onclick=\"quickchart('df-da00bc82-786f-4df9-8b87-ed263ab1a836')\"\n",
       "            title=\"Suggest charts\"\n",
       "            style=\"display:none;\">\n",
       "\n",
       "<svg xmlns=\"http://www.w3.org/2000/svg\" height=\"24px\"viewBox=\"0 0 24 24\"\n",
       "     width=\"24px\">\n",
       "    <g>\n",
       "        <path d=\"M19 3H5c-1.1 0-2 .9-2 2v14c0 1.1.9 2 2 2h14c1.1 0 2-.9 2-2V5c0-1.1-.9-2-2-2zM9 17H7v-7h2v7zm4 0h-2V7h2v10zm4 0h-2v-4h2v4z\"/>\n",
       "    </g>\n",
       "</svg>\n",
       "  </button>\n",
       "\n",
       "<style>\n",
       "  .colab-df-quickchart {\n",
       "      --bg-color: #E8F0FE;\n",
       "      --fill-color: #1967D2;\n",
       "      --hover-bg-color: #E2EBFA;\n",
       "      --hover-fill-color: #174EA6;\n",
       "      --disabled-fill-color: #AAA;\n",
       "      --disabled-bg-color: #DDD;\n",
       "  }\n",
       "\n",
       "  [theme=dark] .colab-df-quickchart {\n",
       "      --bg-color: #3B4455;\n",
       "      --fill-color: #D2E3FC;\n",
       "      --hover-bg-color: #434B5C;\n",
       "      --hover-fill-color: #FFFFFF;\n",
       "      --disabled-bg-color: #3B4455;\n",
       "      --disabled-fill-color: #666;\n",
       "  }\n",
       "\n",
       "  .colab-df-quickchart {\n",
       "    background-color: var(--bg-color);\n",
       "    border: none;\n",
       "    border-radius: 50%;\n",
       "    cursor: pointer;\n",
       "    display: none;\n",
       "    fill: var(--fill-color);\n",
       "    height: 32px;\n",
       "    padding: 0;\n",
       "    width: 32px;\n",
       "  }\n",
       "\n",
       "  .colab-df-quickchart:hover {\n",
       "    background-color: var(--hover-bg-color);\n",
       "    box-shadow: 0 1px 2px rgba(60, 64, 67, 0.3), 0 1px 3px 1px rgba(60, 64, 67, 0.15);\n",
       "    fill: var(--button-hover-fill-color);\n",
       "  }\n",
       "\n",
       "  .colab-df-quickchart-complete:disabled,\n",
       "  .colab-df-quickchart-complete:disabled:hover {\n",
       "    background-color: var(--disabled-bg-color);\n",
       "    fill: var(--disabled-fill-color);\n",
       "    box-shadow: none;\n",
       "  }\n",
       "\n",
       "  .colab-df-spinner {\n",
       "    border: 2px solid var(--fill-color);\n",
       "    border-color: transparent;\n",
       "    border-bottom-color: var(--fill-color);\n",
       "    animation:\n",
       "      spin 1s steps(1) infinite;\n",
       "  }\n",
       "\n",
       "  @keyframes spin {\n",
       "    0% {\n",
       "      border-color: transparent;\n",
       "      border-bottom-color: var(--fill-color);\n",
       "      border-left-color: var(--fill-color);\n",
       "    }\n",
       "    20% {\n",
       "      border-color: transparent;\n",
       "      border-left-color: var(--fill-color);\n",
       "      border-top-color: var(--fill-color);\n",
       "    }\n",
       "    30% {\n",
       "      border-color: transparent;\n",
       "      border-left-color: var(--fill-color);\n",
       "      border-top-color: var(--fill-color);\n",
       "      border-right-color: var(--fill-color);\n",
       "    }\n",
       "    40% {\n",
       "      border-color: transparent;\n",
       "      border-right-color: var(--fill-color);\n",
       "      border-top-color: var(--fill-color);\n",
       "    }\n",
       "    60% {\n",
       "      border-color: transparent;\n",
       "      border-right-color: var(--fill-color);\n",
       "    }\n",
       "    80% {\n",
       "      border-color: transparent;\n",
       "      border-right-color: var(--fill-color);\n",
       "      border-bottom-color: var(--fill-color);\n",
       "    }\n",
       "    90% {\n",
       "      border-color: transparent;\n",
       "      border-bottom-color: var(--fill-color);\n",
       "    }\n",
       "  }\n",
       "</style>\n",
       "\n",
       "  <script>\n",
       "    async function quickchart(key) {\n",
       "      const quickchartButtonEl =\n",
       "        document.querySelector('#' + key + ' button');\n",
       "      quickchartButtonEl.disabled = true;  // To prevent multiple clicks.\n",
       "      quickchartButtonEl.classList.add('colab-df-spinner');\n",
       "      try {\n",
       "        const charts = await google.colab.kernel.invokeFunction(\n",
       "            'suggestCharts', [key], {});\n",
       "      } catch (error) {\n",
       "        console.error('Error during call to suggestCharts:', error);\n",
       "      }\n",
       "      quickchartButtonEl.classList.remove('colab-df-spinner');\n",
       "      quickchartButtonEl.classList.add('colab-df-quickchart-complete');\n",
       "    }\n",
       "    (() => {\n",
       "      let quickchartButtonEl =\n",
       "        document.querySelector('#df-da00bc82-786f-4df9-8b87-ed263ab1a836 button');\n",
       "      quickchartButtonEl.style.display =\n",
       "        google.colab.kernel.accessAllowed ? 'block' : 'none';\n",
       "    })();\n",
       "  </script>\n",
       "</div>\n",
       "    </div>\n",
       "  </div>\n"
      ],
      "text/plain": [
       "    Python\n",
       "工藤      90\n",
       "松田      70"
      ]
     },
     "metadata": {},
     "output_type": "display_data"
    }
   ],
   "source": [
    "#コード2-5h\n",
    "import pandas as pd\n",
    "score_df = pd.DataFrame([[90, 70], [70, 80], [70, 80], [85, 70]],\n",
    "                        index = ['工藤', '浅木', '松田', '福田'],\n",
    "                        columns = ['Python', 'ML'])\n",
    "#工藤と松田の行のPython列の要素を抽出\n",
    "display(score_df.loc[['工藤', '松田'], ['Python']])\n",
    "# 下のコードだと列名がちゃんと表示されない\n",
    "# display(score_df.loc[['工藤', '松田'], 'Python'])"
   ]
  },
  {
   "cell_type": "markdown",
   "metadata": {},
   "source": [
    "連続した行や列を指定する場合は，リストのスライス指定と同様の指定方法が利用できる．\n",
    "\n",
    "*  `A:B` ⇒ `A`以上`B`以下\n",
    "*  `A:` ⇒ `A`以上すべて\n",
    "*  `:B` ⇒ `B`以下すべて\n",
    "* `:` ⇒ すべて"
   ]
  },
  {
   "cell_type": "code",
   "execution_count": 19,
   "metadata": {},
   "outputs": [
    {
     "data": {
      "text/html": [
       "<div>\n",
       "<style scoped>\n",
       "    .dataframe tbody tr th:only-of-type {\n",
       "        vertical-align: middle;\n",
       "    }\n",
       "\n",
       "    .dataframe tbody tr th {\n",
       "        vertical-align: top;\n",
       "    }\n",
       "\n",
       "    .dataframe thead th {\n",
       "        text-align: right;\n",
       "    }\n",
       "</style>\n",
       "<table border=\"1\" class=\"dataframe\">\n",
       "  <thead>\n",
       "    <tr style=\"text-align: right;\">\n",
       "      <th></th>\n",
       "      <th>Python</th>\n",
       "      <th>ML</th>\n",
       "    </tr>\n",
       "  </thead>\n",
       "  <tbody>\n",
       "    <tr>\n",
       "      <th>工藤</th>\n",
       "      <td>90</td>\n",
       "      <td>70</td>\n",
       "    </tr>\n",
       "    <tr>\n",
       "      <th>浅木</th>\n",
       "      <td>70</td>\n",
       "      <td>80</td>\n",
       "    </tr>\n",
       "    <tr>\n",
       "      <th>松田</th>\n",
       "      <td>70</td>\n",
       "      <td>80</td>\n",
       "    </tr>\n",
       "  </tbody>\n",
       "</table>\n",
       "</div>"
      ],
      "text/plain": [
       "    Python  ML\n",
       "工藤      90  70\n",
       "浅木      70  80\n",
       "松田      70  80"
      ]
     },
     "metadata": {},
     "output_type": "display_data"
    }
   ],
   "source": [
    "score_df = pd.DataFrame([[90, 70], [70, 80], [70, 80], [85, 70]],\n",
    "                        index = ['工藤', '浅木', '松田', '福田'],\n",
    "                        columns = ['Python', 'ML'])\n",
    "#工藤から松田の行の全列の要素を抽出\n",
    "display(score_df.loc['工藤':'松田', :])"
   ]
  },
  {
   "cell_type": "markdown",
   "metadata": {},
   "source": [
    "## 条件式による検索\n",
    "* 条件式を使って，条件式が True（条件を満たしている）である行を抽出できる\n",
    "* 逆に，条件を満たしてない場合は False となる\n",
    "* 条件式は比較演算子を用いて指定する\n",
    "\n",
    "### 比較演算子\n",
    "* 2つの値の大小を比較するための演算子\n",
    "* 演算結果は「True」と「False」のいずれかの値をとる\n",
    "* 「True」と「False」は，boolクラスの値\n",
    "* 比較演算子を使った式が正しければ「True（真）」で，間違っていれば「False（偽）」となる\n",
    "\n",
    "|比較演算子|意味|\n",
    "|:-:|:-:|\n",
    "| < | 小さい |\n",
    "| > | 大きい |\n",
    "| <= | 以上 |\n",
    "| >= | 以下 |\n",
    "| == | 等しい |\n",
    "| != | 等しくない |"
   ]
  },
  {
   "cell_type": "code",
   "execution_count": 22,
   "metadata": {},
   "outputs": [
    {
     "data": {
      "text/html": [
       "<div>\n",
       "<style scoped>\n",
       "    .dataframe tbody tr th:only-of-type {\n",
       "        vertical-align: middle;\n",
       "    }\n",
       "\n",
       "    .dataframe tbody tr th {\n",
       "        vertical-align: top;\n",
       "    }\n",
       "\n",
       "    .dataframe thead th {\n",
       "        text-align: right;\n",
       "    }\n",
       "</style>\n",
       "<table border=\"1\" class=\"dataframe\">\n",
       "  <thead>\n",
       "    <tr style=\"text-align: right;\">\n",
       "      <th></th>\n",
       "      <th>Python</th>\n",
       "      <th>ML</th>\n",
       "    </tr>\n",
       "  </thead>\n",
       "  <tbody>\n",
       "    <tr>\n",
       "      <th>工藤</th>\n",
       "      <td>90</td>\n",
       "      <td>70</td>\n",
       "    </tr>\n",
       "    <tr>\n",
       "      <th>福田</th>\n",
       "      <td>85</td>\n",
       "      <td>70</td>\n",
       "    </tr>\n",
       "  </tbody>\n",
       "</table>\n",
       "</div>"
      ],
      "text/plain": [
       "    Python  ML\n",
       "工藤      90  70\n",
       "福田      85  70"
      ]
     },
     "metadata": {},
     "output_type": "display_data"
    }
   ],
   "source": [
    "score_df = pd.DataFrame([[90, 70], [70, 80], [70, 80], [85, 70]],\n",
    "                        index = ['工藤', '浅木', '松田', '福田'],\n",
    "                        columns = ['Python', 'ML'])\n",
    "display(score_df[score_df['Python'] >= 80]) #Python列が80以上の行を抽出\n",
    "# display(score_df.loc[score_df['Python'] >= 80]) #上と同じ"
   ]
  },
  {
   "cell_type": "markdown",
   "metadata": {},
   "source": [
    "### 論理演算子の利用\n",
    "*  論理演算子 `&`, `|`, `~` を利用することで，より詳細な条件式が指定できる\n",
    "\n",
    "|論理演算子|意味|\n",
    "|:-:|:--|\n",
    "| `&` (and) | 両者を満たす（両者ともTrueの）ときTrue |\n",
    "| `\\|` (or) | どちらか片方を満たす（少なくともどちらか一方がTrueの）ときTrue |\n",
    "| `~` (not) | 満たさない（Falseの）ときTrue |"
   ]
  },
  {
   "cell_type": "code",
   "execution_count": 23,
   "metadata": {},
   "outputs": [
    {
     "data": {
      "text/html": [
       "<div>\n",
       "<style scoped>\n",
       "    .dataframe tbody tr th:only-of-type {\n",
       "        vertical-align: middle;\n",
       "    }\n",
       "\n",
       "    .dataframe tbody tr th {\n",
       "        vertical-align: top;\n",
       "    }\n",
       "\n",
       "    .dataframe thead th {\n",
       "        text-align: right;\n",
       "    }\n",
       "</style>\n",
       "<table border=\"1\" class=\"dataframe\">\n",
       "  <thead>\n",
       "    <tr style=\"text-align: right;\">\n",
       "      <th></th>\n",
       "      <th>Python</th>\n",
       "      <th>ML</th>\n",
       "    </tr>\n",
       "  </thead>\n",
       "  <tbody>\n",
       "    <tr>\n",
       "      <th>浅木</th>\n",
       "      <td>70</td>\n",
       "      <td>80</td>\n",
       "    </tr>\n",
       "    <tr>\n",
       "      <th>松田</th>\n",
       "      <td>70</td>\n",
       "      <td>80</td>\n",
       "    </tr>\n",
       "  </tbody>\n",
       "</table>\n",
       "</div>"
      ],
      "text/plain": [
       "    Python  ML\n",
       "浅木      70  80\n",
       "松田      70  80"
      ]
     },
     "metadata": {},
     "output_type": "display_data"
    }
   ],
   "source": [
    "score_df = pd.DataFrame([[90, 70], [70, 80], [70, 80], [85, 70]],\n",
    "                        index = ['工藤', '浅木', '松田', '福田'],\n",
    "                        columns = ['Python', 'ML'])\n",
    "#Python列が80未満，かつML列が70以上の行を抽出\n",
    "display(score_df[(score_df['Python'] < 80) & (score_df['ML'] >= 70)])"
   ]
  },
  {
   "cell_type": "markdown",
   "metadata": {},
   "source": [
    "## 列の追加・更新"
   ]
  },
  {
   "cell_type": "code",
   "execution_count": null,
   "metadata": {},
   "outputs": [
    {
     "data": {
      "application/vnd.google.colaboratory.intrinsic+json": {
       "summary": "{\n  \"name\": \"score_df\",\n  \"rows\": 4,\n  \"fields\": [\n    {\n      \"column\": \"Python\",\n      \"properties\": {\n        \"dtype\": \"number\",\n        \"std\": 10,\n        \"min\": 70,\n        \"max\": 95,\n        \"num_unique_values\": 4,\n        \"samples\": [\n          75,\n          80,\n          95\n        ],\n        \"semantic_type\": \"\",\n        \"description\": \"\"\n      }\n    },\n    {\n      \"column\": \"ML\",\n      \"properties\": {\n        \"dtype\": \"number\",\n        \"std\": 5,\n        \"min\": 70,\n        \"max\": 80,\n        \"num_unique_values\": 2,\n        \"samples\": [\n          80,\n          70\n        ],\n        \"semantic_type\": \"\",\n        \"description\": \"\"\n      }\n    }\n  ]\n}",
       "type": "dataframe",
       "variable_name": "score_df"
      },
      "text/html": [
       "\n",
       "  <div id=\"df-031a430e-8a27-43c6-b70a-f88886ebf548\" class=\"colab-df-container\">\n",
       "    <div>\n",
       "<style scoped>\n",
       "    .dataframe tbody tr th:only-of-type {\n",
       "        vertical-align: middle;\n",
       "    }\n",
       "\n",
       "    .dataframe tbody tr th {\n",
       "        vertical-align: top;\n",
       "    }\n",
       "\n",
       "    .dataframe thead th {\n",
       "        text-align: right;\n",
       "    }\n",
       "</style>\n",
       "<table border=\"1\" class=\"dataframe\">\n",
       "  <thead>\n",
       "    <tr style=\"text-align: right;\">\n",
       "      <th></th>\n",
       "      <th>Python</th>\n",
       "      <th>ML</th>\n",
       "    </tr>\n",
       "  </thead>\n",
       "  <tbody>\n",
       "    <tr>\n",
       "      <th>工藤</th>\n",
       "      <td>95</td>\n",
       "      <td>70</td>\n",
       "    </tr>\n",
       "    <tr>\n",
       "      <th>浅木</th>\n",
       "      <td>75</td>\n",
       "      <td>80</td>\n",
       "    </tr>\n",
       "    <tr>\n",
       "      <th>松田</th>\n",
       "      <td>70</td>\n",
       "      <td>80</td>\n",
       "    </tr>\n",
       "    <tr>\n",
       "      <th>福田</th>\n",
       "      <td>80</td>\n",
       "      <td>70</td>\n",
       "    </tr>\n",
       "  </tbody>\n",
       "</table>\n",
       "</div>\n",
       "    <div class=\"colab-df-buttons\">\n",
       "\n",
       "  <div class=\"colab-df-container\">\n",
       "    <button class=\"colab-df-convert\" onclick=\"convertToInteractive('df-031a430e-8a27-43c6-b70a-f88886ebf548')\"\n",
       "            title=\"Convert this dataframe to an interactive table.\"\n",
       "            style=\"display:none;\">\n",
       "\n",
       "  <svg xmlns=\"http://www.w3.org/2000/svg\" height=\"24px\" viewBox=\"0 -960 960 960\">\n",
       "    <path d=\"M120-120v-720h720v720H120Zm60-500h600v-160H180v160Zm220 220h160v-160H400v160Zm0 220h160v-160H400v160ZM180-400h160v-160H180v160Zm440 0h160v-160H620v160ZM180-180h160v-160H180v160Zm440 0h160v-160H620v160Z\"/>\n",
       "  </svg>\n",
       "    </button>\n",
       "\n",
       "  <style>\n",
       "    .colab-df-container {\n",
       "      display:flex;\n",
       "      gap: 12px;\n",
       "    }\n",
       "\n",
       "    .colab-df-convert {\n",
       "      background-color: #E8F0FE;\n",
       "      border: none;\n",
       "      border-radius: 50%;\n",
       "      cursor: pointer;\n",
       "      display: none;\n",
       "      fill: #1967D2;\n",
       "      height: 32px;\n",
       "      padding: 0 0 0 0;\n",
       "      width: 32px;\n",
       "    }\n",
       "\n",
       "    .colab-df-convert:hover {\n",
       "      background-color: #E2EBFA;\n",
       "      box-shadow: 0px 1px 2px rgba(60, 64, 67, 0.3), 0px 1px 3px 1px rgba(60, 64, 67, 0.15);\n",
       "      fill: #174EA6;\n",
       "    }\n",
       "\n",
       "    .colab-df-buttons div {\n",
       "      margin-bottom: 4px;\n",
       "    }\n",
       "\n",
       "    [theme=dark] .colab-df-convert {\n",
       "      background-color: #3B4455;\n",
       "      fill: #D2E3FC;\n",
       "    }\n",
       "\n",
       "    [theme=dark] .colab-df-convert:hover {\n",
       "      background-color: #434B5C;\n",
       "      box-shadow: 0px 1px 3px 1px rgba(0, 0, 0, 0.15);\n",
       "      filter: drop-shadow(0px 1px 2px rgba(0, 0, 0, 0.3));\n",
       "      fill: #FFFFFF;\n",
       "    }\n",
       "  </style>\n",
       "\n",
       "    <script>\n",
       "      const buttonEl =\n",
       "        document.querySelector('#df-031a430e-8a27-43c6-b70a-f88886ebf548 button.colab-df-convert');\n",
       "      buttonEl.style.display =\n",
       "        google.colab.kernel.accessAllowed ? 'block' : 'none';\n",
       "\n",
       "      async function convertToInteractive(key) {\n",
       "        const element = document.querySelector('#df-031a430e-8a27-43c6-b70a-f88886ebf548');\n",
       "        const dataTable =\n",
       "          await google.colab.kernel.invokeFunction('convertToInteractive',\n",
       "                                                    [key], {});\n",
       "        if (!dataTable) return;\n",
       "\n",
       "        const docLinkHtml = 'Like what you see? Visit the ' +\n",
       "          '<a target=\"_blank\" href=https://colab.research.google.com/notebooks/data_table.ipynb>data table notebook</a>'\n",
       "          + ' to learn more about interactive tables.';\n",
       "        element.innerHTML = '';\n",
       "        dataTable['output_type'] = 'display_data';\n",
       "        await google.colab.output.renderOutput(dataTable, element);\n",
       "        const docLink = document.createElement('div');\n",
       "        docLink.innerHTML = docLinkHtml;\n",
       "        element.appendChild(docLink);\n",
       "      }\n",
       "    </script>\n",
       "  </div>\n",
       "\n",
       "\n",
       "<div id=\"df-420f288c-a651-499b-9b57-61eb37145f35\">\n",
       "  <button class=\"colab-df-quickchart\" onclick=\"quickchart('df-420f288c-a651-499b-9b57-61eb37145f35')\"\n",
       "            title=\"Suggest charts\"\n",
       "            style=\"display:none;\">\n",
       "\n",
       "<svg xmlns=\"http://www.w3.org/2000/svg\" height=\"24px\"viewBox=\"0 0 24 24\"\n",
       "     width=\"24px\">\n",
       "    <g>\n",
       "        <path d=\"M19 3H5c-1.1 0-2 .9-2 2v14c0 1.1.9 2 2 2h14c1.1 0 2-.9 2-2V5c0-1.1-.9-2-2-2zM9 17H7v-7h2v7zm4 0h-2V7h2v10zm4 0h-2v-4h2v4z\"/>\n",
       "    </g>\n",
       "</svg>\n",
       "  </button>\n",
       "\n",
       "<style>\n",
       "  .colab-df-quickchart {\n",
       "      --bg-color: #E8F0FE;\n",
       "      --fill-color: #1967D2;\n",
       "      --hover-bg-color: #E2EBFA;\n",
       "      --hover-fill-color: #174EA6;\n",
       "      --disabled-fill-color: #AAA;\n",
       "      --disabled-bg-color: #DDD;\n",
       "  }\n",
       "\n",
       "  [theme=dark] .colab-df-quickchart {\n",
       "      --bg-color: #3B4455;\n",
       "      --fill-color: #D2E3FC;\n",
       "      --hover-bg-color: #434B5C;\n",
       "      --hover-fill-color: #FFFFFF;\n",
       "      --disabled-bg-color: #3B4455;\n",
       "      --disabled-fill-color: #666;\n",
       "  }\n",
       "\n",
       "  .colab-df-quickchart {\n",
       "    background-color: var(--bg-color);\n",
       "    border: none;\n",
       "    border-radius: 50%;\n",
       "    cursor: pointer;\n",
       "    display: none;\n",
       "    fill: var(--fill-color);\n",
       "    height: 32px;\n",
       "    padding: 0;\n",
       "    width: 32px;\n",
       "  }\n",
       "\n",
       "  .colab-df-quickchart:hover {\n",
       "    background-color: var(--hover-bg-color);\n",
       "    box-shadow: 0 1px 2px rgba(60, 64, 67, 0.3), 0 1px 3px 1px rgba(60, 64, 67, 0.15);\n",
       "    fill: var(--button-hover-fill-color);\n",
       "  }\n",
       "\n",
       "  .colab-df-quickchart-complete:disabled,\n",
       "  .colab-df-quickchart-complete:disabled:hover {\n",
       "    background-color: var(--disabled-bg-color);\n",
       "    fill: var(--disabled-fill-color);\n",
       "    box-shadow: none;\n",
       "  }\n",
       "\n",
       "  .colab-df-spinner {\n",
       "    border: 2px solid var(--fill-color);\n",
       "    border-color: transparent;\n",
       "    border-bottom-color: var(--fill-color);\n",
       "    animation:\n",
       "      spin 1s steps(1) infinite;\n",
       "  }\n",
       "\n",
       "  @keyframes spin {\n",
       "    0% {\n",
       "      border-color: transparent;\n",
       "      border-bottom-color: var(--fill-color);\n",
       "      border-left-color: var(--fill-color);\n",
       "    }\n",
       "    20% {\n",
       "      border-color: transparent;\n",
       "      border-left-color: var(--fill-color);\n",
       "      border-top-color: var(--fill-color);\n",
       "    }\n",
       "    30% {\n",
       "      border-color: transparent;\n",
       "      border-left-color: var(--fill-color);\n",
       "      border-top-color: var(--fill-color);\n",
       "      border-right-color: var(--fill-color);\n",
       "    }\n",
       "    40% {\n",
       "      border-color: transparent;\n",
       "      border-right-color: var(--fill-color);\n",
       "      border-top-color: var(--fill-color);\n",
       "    }\n",
       "    60% {\n",
       "      border-color: transparent;\n",
       "      border-right-color: var(--fill-color);\n",
       "    }\n",
       "    80% {\n",
       "      border-color: transparent;\n",
       "      border-right-color: var(--fill-color);\n",
       "      border-bottom-color: var(--fill-color);\n",
       "    }\n",
       "    90% {\n",
       "      border-color: transparent;\n",
       "      border-bottom-color: var(--fill-color);\n",
       "    }\n",
       "  }\n",
       "</style>\n",
       "\n",
       "  <script>\n",
       "    async function quickchart(key) {\n",
       "      const quickchartButtonEl =\n",
       "        document.querySelector('#' + key + ' button');\n",
       "      quickchartButtonEl.disabled = true;  // To prevent multiple clicks.\n",
       "      quickchartButtonEl.classList.add('colab-df-spinner');\n",
       "      try {\n",
       "        const charts = await google.colab.kernel.invokeFunction(\n",
       "            'suggestCharts', [key], {});\n",
       "      } catch (error) {\n",
       "        console.error('Error during call to suggestCharts:', error);\n",
       "      }\n",
       "      quickchartButtonEl.classList.remove('colab-df-spinner');\n",
       "      quickchartButtonEl.classList.add('colab-df-quickchart-complete');\n",
       "    }\n",
       "    (() => {\n",
       "      let quickchartButtonEl =\n",
       "        document.querySelector('#df-420f288c-a651-499b-9b57-61eb37145f35 button');\n",
       "      quickchartButtonEl.style.display =\n",
       "        google.colab.kernel.accessAllowed ? 'block' : 'none';\n",
       "    })();\n",
       "  </script>\n",
       "</div>\n",
       "    </div>\n",
       "  </div>\n"
      ],
      "text/plain": [
       "    Python  ML\n",
       "工藤      95  70\n",
       "浅木      75  80\n",
       "松田      70  80\n",
       "福田      80  70"
      ]
     },
     "metadata": {},
     "output_type": "display_data"
    }
   ],
   "source": [
    "score_df = pd.DataFrame([[90, 70], [70, 80], [70, 80], [85, 70]],\n",
    "                        index = ['工藤', '浅木', '松田', '福田'],\n",
    "                        columns = ['Python', 'ML'])\n",
    "#Python列のデータを[90, 70, 70, 85]から[95, 75, 70, 80]に更新\n",
    "score_df['Python'] = [95, 75, 70, 80]\n",
    "display(score_df)"
   ]
  },
  {
   "cell_type": "code",
   "execution_count": 24,
   "metadata": {},
   "outputs": [
    {
     "data": {
      "text/html": [
       "<div>\n",
       "<style scoped>\n",
       "    .dataframe tbody tr th:only-of-type {\n",
       "        vertical-align: middle;\n",
       "    }\n",
       "\n",
       "    .dataframe tbody tr th {\n",
       "        vertical-align: top;\n",
       "    }\n",
       "\n",
       "    .dataframe thead th {\n",
       "        text-align: right;\n",
       "    }\n",
       "</style>\n",
       "<table border=\"1\" class=\"dataframe\">\n",
       "  <thead>\n",
       "    <tr style=\"text-align: right;\">\n",
       "      <th></th>\n",
       "      <th>Python</th>\n",
       "      <th>ML</th>\n",
       "      <th>Web</th>\n",
       "    </tr>\n",
       "  </thead>\n",
       "  <tbody>\n",
       "    <tr>\n",
       "      <th>工藤</th>\n",
       "      <td>90</td>\n",
       "      <td>70</td>\n",
       "      <td>85</td>\n",
       "    </tr>\n",
       "    <tr>\n",
       "      <th>浅木</th>\n",
       "      <td>70</td>\n",
       "      <td>80</td>\n",
       "      <td>75</td>\n",
       "    </tr>\n",
       "    <tr>\n",
       "      <th>松田</th>\n",
       "      <td>70</td>\n",
       "      <td>80</td>\n",
       "      <td>70</td>\n",
       "    </tr>\n",
       "    <tr>\n",
       "      <th>福田</th>\n",
       "      <td>85</td>\n",
       "      <td>70</td>\n",
       "      <td>80</td>\n",
       "    </tr>\n",
       "  </tbody>\n",
       "</table>\n",
       "</div>"
      ],
      "text/plain": [
       "    Python  ML  Web\n",
       "工藤      90  70   85\n",
       "浅木      70  80   75\n",
       "松田      70  80   70\n",
       "福田      85  70   80"
      ]
     },
     "metadata": {},
     "output_type": "display_data"
    }
   ],
   "source": [
    "score_df = pd.DataFrame([[90, 70], [70, 80], [70, 80], [85, 70]],\n",
    "                        index = ['工藤', '浅木', '松田', '福田'],\n",
    "                        columns = ['Python', 'ML'])\n",
    "#列データ（Web列）を追加\n",
    "score_df['Web'] = [85, 75, 70, 80]\n",
    "display(score_df)"
   ]
  },
  {
   "cell_type": "markdown",
   "metadata": {},
   "source": [
    "## 行の追加・更新"
   ]
  },
  {
   "cell_type": "code",
   "execution_count": 25,
   "metadata": {},
   "outputs": [
    {
     "data": {
      "text/html": [
       "<div>\n",
       "<style scoped>\n",
       "    .dataframe tbody tr th:only-of-type {\n",
       "        vertical-align: middle;\n",
       "    }\n",
       "\n",
       "    .dataframe tbody tr th {\n",
       "        vertical-align: top;\n",
       "    }\n",
       "\n",
       "    .dataframe thead th {\n",
       "        text-align: right;\n",
       "    }\n",
       "</style>\n",
       "<table border=\"1\" class=\"dataframe\">\n",
       "  <thead>\n",
       "    <tr style=\"text-align: right;\">\n",
       "      <th></th>\n",
       "      <th>Python</th>\n",
       "      <th>ML</th>\n",
       "    </tr>\n",
       "  </thead>\n",
       "  <tbody>\n",
       "    <tr>\n",
       "      <th>工藤</th>\n",
       "      <td>95</td>\n",
       "      <td>75</td>\n",
       "    </tr>\n",
       "    <tr>\n",
       "      <th>浅木</th>\n",
       "      <td>70</td>\n",
       "      <td>80</td>\n",
       "    </tr>\n",
       "    <tr>\n",
       "      <th>松田</th>\n",
       "      <td>70</td>\n",
       "      <td>80</td>\n",
       "    </tr>\n",
       "    <tr>\n",
       "      <th>福田</th>\n",
       "      <td>85</td>\n",
       "      <td>70</td>\n",
       "    </tr>\n",
       "  </tbody>\n",
       "</table>\n",
       "</div>"
      ],
      "text/plain": [
       "    Python  ML\n",
       "工藤      95  75\n",
       "浅木      70  80\n",
       "松田      70  80\n",
       "福田      85  70"
      ]
     },
     "metadata": {},
     "output_type": "display_data"
    }
   ],
   "source": [
    "score_df = pd.DataFrame([[90, 70], [70, 80], [70, 80], [85, 70]],\n",
    "                        index = ['工藤', '浅木', '松田', '福田'],\n",
    "                        columns = ['Python', 'ML'])\n",
    "#工藤行のデータを[90, 70]から[95, 75]に更新\n",
    "score_df.loc['工藤'] = [95, 75]\n",
    "display(score_df)"
   ]
  },
  {
   "cell_type": "code",
   "execution_count": 26,
   "metadata": {},
   "outputs": [
    {
     "data": {
      "text/html": [
       "<div>\n",
       "<style scoped>\n",
       "    .dataframe tbody tr th:only-of-type {\n",
       "        vertical-align: middle;\n",
       "    }\n",
       "\n",
       "    .dataframe tbody tr th {\n",
       "        vertical-align: top;\n",
       "    }\n",
       "\n",
       "    .dataframe thead th {\n",
       "        text-align: right;\n",
       "    }\n",
       "</style>\n",
       "<table border=\"1\" class=\"dataframe\">\n",
       "  <thead>\n",
       "    <tr style=\"text-align: right;\">\n",
       "      <th></th>\n",
       "      <th>Python</th>\n",
       "      <th>ML</th>\n",
       "    </tr>\n",
       "  </thead>\n",
       "  <tbody>\n",
       "    <tr>\n",
       "      <th>工藤</th>\n",
       "      <td>90</td>\n",
       "      <td>70</td>\n",
       "    </tr>\n",
       "    <tr>\n",
       "      <th>浅木</th>\n",
       "      <td>70</td>\n",
       "      <td>80</td>\n",
       "    </tr>\n",
       "    <tr>\n",
       "      <th>松田</th>\n",
       "      <td>70</td>\n",
       "      <td>80</td>\n",
       "    </tr>\n",
       "    <tr>\n",
       "      <th>福田</th>\n",
       "      <td>85</td>\n",
       "      <td>70</td>\n",
       "    </tr>\n",
       "    <tr>\n",
       "      <th>山本</th>\n",
       "      <td>75</td>\n",
       "      <td>75</td>\n",
       "    </tr>\n",
       "  </tbody>\n",
       "</table>\n",
       "</div>"
      ],
      "text/plain": [
       "    Python  ML\n",
       "工藤      90  70\n",
       "浅木      70  80\n",
       "松田      70  80\n",
       "福田      85  70\n",
       "山本      75  75"
      ]
     },
     "metadata": {},
     "output_type": "display_data"
    }
   ],
   "source": [
    "score_df = pd.DataFrame([[90, 70], [70, 80], [70, 80], [85, 70]],\n",
    "                        index = ['工藤', '浅木', '松田', '福田'],\n",
    "                        columns = ['Python', 'ML'])\n",
    "#行データ（山本行）を追加\n",
    "score_df.loc['山本'] = [75, 75]\n",
    "display(score_df)"
   ]
  },
  {
   "cell_type": "markdown",
   "metadata": {},
   "source": [
    "## 行と列の削除\n",
    "*  `drop`メソッドで，行や列を削除できる\n",
    "*  行のインデックスは，デフォルトの場合（指定していない場合）は，番号（数値）を指定する\n",
    ">* `df.drop([インデックス番号], axis = 0)`\n",
    "*  ただし，メソッドを適用した後も元のDataFrameは変わらない"
   ]
  },
  {
   "cell_type": "code",
   "execution_count": 27,
   "metadata": {},
   "outputs": [
    {
     "data": {
      "text/html": [
       "<div>\n",
       "<style scoped>\n",
       "    .dataframe tbody tr th:only-of-type {\n",
       "        vertical-align: middle;\n",
       "    }\n",
       "\n",
       "    .dataframe tbody tr th {\n",
       "        vertical-align: top;\n",
       "    }\n",
       "\n",
       "    .dataframe thead th {\n",
       "        text-align: right;\n",
       "    }\n",
       "</style>\n",
       "<table border=\"1\" class=\"dataframe\">\n",
       "  <thead>\n",
       "    <tr style=\"text-align: right;\">\n",
       "      <th></th>\n",
       "      <th>ML</th>\n",
       "    </tr>\n",
       "  </thead>\n",
       "  <tbody>\n",
       "    <tr>\n",
       "      <th>工藤</th>\n",
       "      <td>70</td>\n",
       "    </tr>\n",
       "    <tr>\n",
       "      <th>浅木</th>\n",
       "      <td>80</td>\n",
       "    </tr>\n",
       "    <tr>\n",
       "      <th>松田</th>\n",
       "      <td>80</td>\n",
       "    </tr>\n",
       "    <tr>\n",
       "      <th>福田</th>\n",
       "      <td>70</td>\n",
       "    </tr>\n",
       "  </tbody>\n",
       "</table>\n",
       "</div>"
      ],
      "text/plain": [
       "    ML\n",
       "工藤  70\n",
       "浅木  80\n",
       "松田  80\n",
       "福田  70"
      ]
     },
     "metadata": {},
     "output_type": "display_data"
    }
   ],
   "source": [
    "score_df = pd.DataFrame([[90, 70], [70, 80], [70, 80], [85, 70]],\n",
    "                        index = ['工藤', '浅木', '松田', '福田'],\n",
    "                        columns = ['Python', 'ML'])\n",
    "#列データ（Python列）を削除して表示\n",
    "display(score_df.drop(['Python'], axis = 1))"
   ]
  },
  {
   "cell_type": "code",
   "execution_count": 28,
   "metadata": {},
   "outputs": [
    {
     "data": {
      "text/html": [
       "<div>\n",
       "<style scoped>\n",
       "    .dataframe tbody tr th:only-of-type {\n",
       "        vertical-align: middle;\n",
       "    }\n",
       "\n",
       "    .dataframe tbody tr th {\n",
       "        vertical-align: top;\n",
       "    }\n",
       "\n",
       "    .dataframe thead th {\n",
       "        text-align: right;\n",
       "    }\n",
       "</style>\n",
       "<table border=\"1\" class=\"dataframe\">\n",
       "  <thead>\n",
       "    <tr style=\"text-align: right;\">\n",
       "      <th></th>\n",
       "      <th>Python</th>\n",
       "      <th>ML</th>\n",
       "    </tr>\n",
       "  </thead>\n",
       "  <tbody>\n",
       "    <tr>\n",
       "      <th>工藤</th>\n",
       "      <td>90</td>\n",
       "      <td>70</td>\n",
       "    </tr>\n",
       "    <tr>\n",
       "      <th>浅木</th>\n",
       "      <td>70</td>\n",
       "      <td>80</td>\n",
       "    </tr>\n",
       "    <tr>\n",
       "      <th>福田</th>\n",
       "      <td>85</td>\n",
       "      <td>70</td>\n",
       "    </tr>\n",
       "  </tbody>\n",
       "</table>\n",
       "</div>"
      ],
      "text/plain": [
       "    Python  ML\n",
       "工藤      90  70\n",
       "浅木      70  80\n",
       "福田      85  70"
      ]
     },
     "metadata": {},
     "output_type": "display_data"
    }
   ],
   "source": [
    "score_df = pd.DataFrame([[90, 70], [70, 80], [70, 80], [85, 70]],\n",
    "                        index = ['工藤', '浅木', '松田', '福田'],\n",
    "                        columns = ['Python', 'ML'])\n",
    "#行データ（松田行）を削除して表示\n",
    "display(score_df.drop(['松田'], axis = 0))"
   ]
  },
  {
   "cell_type": "markdown",
   "metadata": {},
   "source": [
    "## 行と列の入れ替え（転置）\n",
    "*  DataFrameの後ろに「`.T`」を付けることで行と列を入れ替えることができる\n",
    "*  ただし，「`.T`」を適用した後も元のDataFrameは変わらない"
   ]
  },
  {
   "cell_type": "code",
   "execution_count": 29,
   "metadata": {},
   "outputs": [
    {
     "data": {
      "text/html": [
       "<div>\n",
       "<style scoped>\n",
       "    .dataframe tbody tr th:only-of-type {\n",
       "        vertical-align: middle;\n",
       "    }\n",
       "\n",
       "    .dataframe tbody tr th {\n",
       "        vertical-align: top;\n",
       "    }\n",
       "\n",
       "    .dataframe thead th {\n",
       "        text-align: right;\n",
       "    }\n",
       "</style>\n",
       "<table border=\"1\" class=\"dataframe\">\n",
       "  <thead>\n",
       "    <tr style=\"text-align: right;\">\n",
       "      <th></th>\n",
       "      <th>工藤</th>\n",
       "      <th>浅木</th>\n",
       "      <th>松田</th>\n",
       "      <th>福田</th>\n",
       "    </tr>\n",
       "  </thead>\n",
       "  <tbody>\n",
       "    <tr>\n",
       "      <th>Python</th>\n",
       "      <td>90</td>\n",
       "      <td>70</td>\n",
       "      <td>70</td>\n",
       "      <td>85</td>\n",
       "    </tr>\n",
       "    <tr>\n",
       "      <th>ML</th>\n",
       "      <td>70</td>\n",
       "      <td>80</td>\n",
       "      <td>80</td>\n",
       "      <td>70</td>\n",
       "    </tr>\n",
       "  </tbody>\n",
       "</table>\n",
       "</div>"
      ],
      "text/plain": [
       "        工藤  浅木  松田  福田\n",
       "Python  90  70  70  85\n",
       "ML      70  80  80  70"
      ]
     },
     "metadata": {},
     "output_type": "display_data"
    }
   ],
   "source": [
    "score_df = pd.DataFrame([[90, 70], [70, 80], [70, 80], [85, 70]],\n",
    "                        index = ['工藤', '浅木', '松田', '福田'],\n",
    "                        columns = ['Python', 'ML'])\n",
    "#行と列を入れ替えて表示\n",
    "display(score_df.T)"
   ]
  },
  {
   "cell_type": "markdown",
   "metadata": {},
   "source": [
    "## csvファイルの読み込みとcsvファイルへの書き込み\n",
    "*  csv(Comma Separated Values)ファイルとは，各要素がカンマ「`,`」で区切られたテキストファイルのことで，テキストエディタ（メモ帳など）やExcelで開くことができる\n",
    "*  `to_csv`メソッドでDataFrameをcsvファイルに書き込むことができ，`read_csv`メソッドで既存のcsvファイルをDataFrameとして読み込むことができる\n",
    "*  Google Colaboratoryにおいて，書き込みによって作成されるcsvファイルは，ノートブック左のフォルダの形のアイコンをクリックすることで現れるフォルダに保存される\n",
    "*  また，csvファイルを読み込む際は，このフォルダ内にcsvファイルをアップロードしておく必要がある"
   ]
  },
  {
   "cell_type": "code",
   "execution_count": 30,
   "metadata": {},
   "outputs": [],
   "source": [
    "score_df = pd.DataFrame([[90, 70], [70, 80], [70, 80], [85, 70]],\n",
    "                        index = ['工藤', '浅木', '松田', '福田'],\n",
    "                        columns = ['Python', 'ML'])\n",
    "#DataFrameをcsvファイルに書き込む\n",
    "score_df.to_csv('sample.csv', index=True)\n",
    "#実行画面には何も表示されない"
   ]
  },
  {
   "cell_type": "markdown",
   "metadata": {},
   "source": [
    "*  `index`が`True`だとインデックスも書き込まれる．一方，`index`が`False`だとインデックスが省略される\n",
    "*  `read_csv`メソッドの引数には，csvファイルのURLも指定できる\n",
    "*  例として，以下のURLにあるcsvファイル（インデックス有）の読み込みを行う\n",
    ">*  https://bit.ly/3DmHfDw\n",
    "*  また，引数に`index_col`を指定すると，インデックスとして使いたい列を番号で指定できる（列番号は0から始まる）．"
   ]
  },
  {
   "cell_type": "code",
   "execution_count": 31,
   "metadata": {},
   "outputs": [
    {
     "data": {
      "text/html": [
       "<div>\n",
       "<style scoped>\n",
       "    .dataframe tbody tr th:only-of-type {\n",
       "        vertical-align: middle;\n",
       "    }\n",
       "\n",
       "    .dataframe tbody tr th {\n",
       "        vertical-align: top;\n",
       "    }\n",
       "\n",
       "    .dataframe thead th {\n",
       "        text-align: right;\n",
       "    }\n",
       "</style>\n",
       "<table border=\"1\" class=\"dataframe\">\n",
       "  <thead>\n",
       "    <tr style=\"text-align: right;\">\n",
       "      <th></th>\n",
       "      <th>Python</th>\n",
       "      <th>ML</th>\n",
       "    </tr>\n",
       "  </thead>\n",
       "  <tbody>\n",
       "    <tr>\n",
       "      <th>工藤</th>\n",
       "      <td>90</td>\n",
       "      <td>70</td>\n",
       "    </tr>\n",
       "    <tr>\n",
       "      <th>浅木</th>\n",
       "      <td>70</td>\n",
       "      <td>80</td>\n",
       "    </tr>\n",
       "    <tr>\n",
       "      <th>松田</th>\n",
       "      <td>70</td>\n",
       "      <td>80</td>\n",
       "    </tr>\n",
       "    <tr>\n",
       "      <th>福田</th>\n",
       "      <td>85</td>\n",
       "      <td>70</td>\n",
       "    </tr>\n",
       "  </tbody>\n",
       "</table>\n",
       "</div>"
      ],
      "text/plain": [
       "    Python  ML\n",
       "工藤      90  70\n",
       "浅木      70  80\n",
       "松田      70  80\n",
       "福田      85  70"
      ]
     },
     "metadata": {},
     "output_type": "display_data"
    }
   ],
   "source": [
    "#変数urlにcsvファイルの場所（URL）を代入\n",
    "url = 'https://bit.ly/3DmHfDw'\n",
    "#csvファイルをDataFrameに変換して変数score_dfに代入\n",
    "score_df = pd.read_csv(url, index_col=0)\n",
    "display(score_df)"
   ]
  },
  {
   "cell_type": "markdown",
   "metadata": {},
   "source": [
    "*  別例として，以下のURLにあるcsvファイル（インデックス無）の読み込みを行う\n",
    ">*  https://bit.ly/4h1CgG8\n",
    "*  インデックスがないcsvファイルを読み込むと，自動的に0から始まるインデックスが付く"
   ]
  },
  {
   "cell_type": "code",
   "execution_count": 32,
   "metadata": {},
   "outputs": [
    {
     "data": {
      "text/html": [
       "<div>\n",
       "<style scoped>\n",
       "    .dataframe tbody tr th:only-of-type {\n",
       "        vertical-align: middle;\n",
       "    }\n",
       "\n",
       "    .dataframe tbody tr th {\n",
       "        vertical-align: top;\n",
       "    }\n",
       "\n",
       "    .dataframe thead th {\n",
       "        text-align: right;\n",
       "    }\n",
       "</style>\n",
       "<table border=\"1\" class=\"dataframe\">\n",
       "  <thead>\n",
       "    <tr style=\"text-align: right;\">\n",
       "      <th></th>\n",
       "      <th>Python</th>\n",
       "      <th>ML</th>\n",
       "    </tr>\n",
       "  </thead>\n",
       "  <tbody>\n",
       "    <tr>\n",
       "      <th>0</th>\n",
       "      <td>90</td>\n",
       "      <td>70</td>\n",
       "    </tr>\n",
       "    <tr>\n",
       "      <th>1</th>\n",
       "      <td>70</td>\n",
       "      <td>80</td>\n",
       "    </tr>\n",
       "    <tr>\n",
       "      <th>2</th>\n",
       "      <td>70</td>\n",
       "      <td>80</td>\n",
       "    </tr>\n",
       "    <tr>\n",
       "      <th>3</th>\n",
       "      <td>85</td>\n",
       "      <td>70</td>\n",
       "    </tr>\n",
       "  </tbody>\n",
       "</table>\n",
       "</div>"
      ],
      "text/plain": [
       "   Python  ML\n",
       "0      90  70\n",
       "1      70  80\n",
       "2      70  80\n",
       "3      85  70"
      ]
     },
     "metadata": {},
     "output_type": "display_data"
    }
   ],
   "source": [
    "url = 'https://bit.ly/4h1CgG8'\n",
    "score_df = pd.read_csv(url)\n",
    "display(score_df)"
   ]
  },
  {
   "cell_type": "markdown",
   "metadata": {},
   "source": [
    "# DataFrameの応用操作\n",
    "|操作の書式|内容|\n",
    "|:--|:--|\n",
    "|`df.sum()`／`df['列名'].sum()`|合計を計算する集計メソッド|\n",
    "|`df.mean()`／`df['列名'].mean()`|平均を計算する集計メソッド|\n",
    "|`df.median()`／`df['列名'].median()`|中央値を計算する集計メソッド|\n",
    "|`df.mode()`／`df['列名'].mode()`|最頻値を計算する集計メソッド|\n",
    "|`df.var(ddof = 0 or 1)`／`df['列名'].var(ddof = 0 or 1)`|標本分散・不偏分散を計算する集計メソッド|\n",
    "|`df.std()`／`df['列名'].std()`|標準偏差を計算する集計メソッド|\n",
    "|`df.min()`／`df['列名'].min()`|最小値を計算する集計メソッド|\n",
    "|`df.max()`／`df['列名'].max()`|最大値を計算する集計メソッド|\n",
    "|`df.count()`／`df['列名'].count()`|データ数を数えるメソッド|\n",
    "|`df.describe()`|各種基本統計量を一括で計算する集計メソッド|\n",
    "|`df.groupby(集計対象).集計メソッド()`|グループ集計|\n",
    "|`pd.pivot_table()`|ピボットテーブル集計|\n",
    "|`pd.concat([df1, df2], axis = [0 or 1])`|DataFrameの単純な結合|\n",
    "|`df1.merge(df2, how = 結合の種類)`|DataFrameの内部結合・外部結合|\n",
    "|`pd.merge(df1, df2, how = 結合の種類)`|DataFrameの内部結合・外部結合|\n",
    "|`df.isnull()`|欠損値の確認|\n",
    "|`df.dropna(axis = 0)`|欠損値のある行を削除|\n",
    "|`df.dropna(axis = 1)`|欠損値のある列を削除|\n",
    "|`df.fillna(穴埋めする値)`／`df['列名'].fillna(穴埋めする値)`|欠損値を穴埋め|\n",
    "|`df.interpolate(limit_direction = 補間方法)`|線形補間|\n",
    "|`pd.get_dummies(df, drop_first = True or False)`|ダミー変数の作成|\n",
    "|`df.plot(kind = グラフの種類, title = グラフのタイトル)`|グラフの作成|\n",
    "\n",
    "\n",
    "※表内の「`df`」「`df1`」「`df2`」は任意のDataFrame（オブジェクト）\n",
    "※表内の「`pd`」は「pandas」のこと"
   ]
  },
  {
   "cell_type": "markdown",
   "metadata": {},
   "source": [
    "## 統計量の計算\n",
    "* DataFrameの行や列に対して，代表的な統計量を計算するメソッドがある\n",
    "* メソッドの引数に`axis`を指定することで行（`axis = 1`）または列（`axis = 0`）に対する集計ができる\n",
    "* デフォルトは`axis = 0`なので，列に対する集計をする場合には省略できる\n",
    "* ここでは，例として以下のURLにあるcsvファイル（df_sample.csv）をDataFrameとして読み込み，統計量の計算を行う\n",
    ">* https://bit.ly/3DmHfDw"
   ]
  },
  {
   "cell_type": "code",
   "execution_count": 9,
   "metadata": {},
   "outputs": [
    {
     "data": {
      "text/html": [
       "<div>\n",
       "<style scoped>\n",
       "    .dataframe tbody tr th:only-of-type {\n",
       "        vertical-align: middle;\n",
       "    }\n",
       "\n",
       "    .dataframe tbody tr th {\n",
       "        vertical-align: top;\n",
       "    }\n",
       "\n",
       "    .dataframe thead th {\n",
       "        text-align: right;\n",
       "    }\n",
       "</style>\n",
       "<table border=\"1\" class=\"dataframe\">\n",
       "  <thead>\n",
       "    <tr style=\"text-align: right;\">\n",
       "      <th></th>\n",
       "      <th>Python</th>\n",
       "      <th>ML</th>\n",
       "    </tr>\n",
       "  </thead>\n",
       "  <tbody>\n",
       "    <tr>\n",
       "      <th>工藤</th>\n",
       "      <td>90</td>\n",
       "      <td>70</td>\n",
       "    </tr>\n",
       "    <tr>\n",
       "      <th>浅木</th>\n",
       "      <td>70</td>\n",
       "      <td>80</td>\n",
       "    </tr>\n",
       "    <tr>\n",
       "      <th>松田</th>\n",
       "      <td>70</td>\n",
       "      <td>80</td>\n",
       "    </tr>\n",
       "    <tr>\n",
       "      <th>福田</th>\n",
       "      <td>85</td>\n",
       "      <td>70</td>\n",
       "    </tr>\n",
       "  </tbody>\n",
       "</table>\n",
       "</div>"
      ],
      "text/plain": [
       "    Python  ML\n",
       "工藤      90  70\n",
       "浅木      70  80\n",
       "松田      70  80\n",
       "福田      85  70"
      ]
     },
     "metadata": {},
     "output_type": "display_data"
    }
   ],
   "source": [
    "url = 'https://bit.ly/3DmHfDw'\n",
    "score_df = pd.read_csv(url, index_col=0)\n",
    "display(score_df) # データ全体の確認"
   ]
  },
  {
   "cell_type": "code",
   "execution_count": null,
   "metadata": {},
   "outputs": [
    {
     "name": "stdout",
     "output_type": "stream",
     "text": [
      "工藤    160\n",
      "浅木    150\n",
      "松田    150\n",
      "福田    155\n",
      "dtype: int64\n"
     ]
    }
   ],
   "source": [
    "url = 'https://bit.ly/3DmHfDw'\n",
    "score_df = pd.read_csv(url, index_col=0)\n",
    "print(score_df.sum(axis = 1)) # 行ごとの合計（列方向に集計）"
   ]
  },
  {
   "cell_type": "code",
   "execution_count": null,
   "metadata": {},
   "outputs": [
    {
     "name": "stdout",
     "output_type": "stream",
     "text": [
      "Python   78.750\n",
      "ML       75.000\n",
      "dtype: float64\n"
     ]
    }
   ],
   "source": [
    "url = 'https://bit.ly/3DmHfDw'\n",
    "score_df = pd.read_csv(url, index_col=0)\n",
    "print(score_df.mean()) # 列ごとの平均（行方向に集計）"
   ]
  },
  {
   "cell_type": "code",
   "execution_count": null,
   "metadata": {},
   "outputs": [
    {
     "data": {
      "text/html": [
       "<div>\n",
       "<style scoped>\n",
       "    .dataframe tbody tr th:only-of-type {\n",
       "        vertical-align: middle;\n",
       "    }\n",
       "\n",
       "    .dataframe tbody tr th {\n",
       "        vertical-align: top;\n",
       "    }\n",
       "\n",
       "    .dataframe thead th {\n",
       "        text-align: right;\n",
       "    }\n",
       "</style>\n",
       "<table border=\"1\" class=\"dataframe\">\n",
       "  <thead>\n",
       "    <tr style=\"text-align: right;\">\n",
       "      <th></th>\n",
       "      <th>Python</th>\n",
       "      <th>ML</th>\n",
       "    </tr>\n",
       "  </thead>\n",
       "  <tbody>\n",
       "    <tr>\n",
       "      <th>count</th>\n",
       "      <td>4.000</td>\n",
       "      <td>4.000</td>\n",
       "    </tr>\n",
       "    <tr>\n",
       "      <th>mean</th>\n",
       "      <td>78.750</td>\n",
       "      <td>75.000</td>\n",
       "    </tr>\n",
       "    <tr>\n",
       "      <th>std</th>\n",
       "      <td>10.308</td>\n",
       "      <td>5.774</td>\n",
       "    </tr>\n",
       "    <tr>\n",
       "      <th>min</th>\n",
       "      <td>70.000</td>\n",
       "      <td>70.000</td>\n",
       "    </tr>\n",
       "    <tr>\n",
       "      <th>25%</th>\n",
       "      <td>70.000</td>\n",
       "      <td>70.000</td>\n",
       "    </tr>\n",
       "    <tr>\n",
       "      <th>50%</th>\n",
       "      <td>77.500</td>\n",
       "      <td>75.000</td>\n",
       "    </tr>\n",
       "    <tr>\n",
       "      <th>75%</th>\n",
       "      <td>86.250</td>\n",
       "      <td>80.000</td>\n",
       "    </tr>\n",
       "    <tr>\n",
       "      <th>max</th>\n",
       "      <td>90.000</td>\n",
       "      <td>80.000</td>\n",
       "    </tr>\n",
       "  </tbody>\n",
       "</table>\n",
       "</div>"
      ],
      "text/plain": [
       "       Python     ML\n",
       "count   4.000  4.000\n",
       "mean   78.750 75.000\n",
       "std    10.308  5.774\n",
       "min    70.000 70.000\n",
       "25%    70.000 70.000\n",
       "50%    77.500 75.000\n",
       "75%    86.250 80.000\n",
       "max    90.000 80.000"
      ]
     },
     "metadata": {},
     "output_type": "display_data"
    }
   ],
   "source": [
    "url = 'https://bit.ly/3DmHfDw'\n",
    "score_df = pd.read_csv(url, index_col=0)\n",
    "display(score_df.describe()) # 各種統計量（列方向に集計）"
   ]
  },
  {
   "cell_type": "markdown",
   "metadata": {},
   "source": [
    "* `describe`メソッドは引数「`axis`」が使えないので，行方向に集計する場合は`T`メソッドで行と列を入れ替えてから`describe`メソッドを適用する"
   ]
  },
  {
   "cell_type": "code",
   "execution_count": 12,
   "metadata": {},
   "outputs": [
    {
     "data": {
      "text/html": [
       "<div>\n",
       "<style scoped>\n",
       "    .dataframe tbody tr th:only-of-type {\n",
       "        vertical-align: middle;\n",
       "    }\n",
       "\n",
       "    .dataframe tbody tr th {\n",
       "        vertical-align: top;\n",
       "    }\n",
       "\n",
       "    .dataframe thead th {\n",
       "        text-align: right;\n",
       "    }\n",
       "</style>\n",
       "<table border=\"1\" class=\"dataframe\">\n",
       "  <thead>\n",
       "    <tr style=\"text-align: right;\">\n",
       "      <th></th>\n",
       "      <th>工藤</th>\n",
       "      <th>浅木</th>\n",
       "      <th>松田</th>\n",
       "      <th>福田</th>\n",
       "    </tr>\n",
       "  </thead>\n",
       "  <tbody>\n",
       "    <tr>\n",
       "      <th>count</th>\n",
       "      <td>2.000</td>\n",
       "      <td>2.000</td>\n",
       "      <td>2.000</td>\n",
       "      <td>2.000</td>\n",
       "    </tr>\n",
       "    <tr>\n",
       "      <th>mean</th>\n",
       "      <td>80.000</td>\n",
       "      <td>75.000</td>\n",
       "      <td>75.000</td>\n",
       "      <td>77.500</td>\n",
       "    </tr>\n",
       "    <tr>\n",
       "      <th>std</th>\n",
       "      <td>14.142</td>\n",
       "      <td>7.071</td>\n",
       "      <td>7.071</td>\n",
       "      <td>10.607</td>\n",
       "    </tr>\n",
       "    <tr>\n",
       "      <th>min</th>\n",
       "      <td>70.000</td>\n",
       "      <td>70.000</td>\n",
       "      <td>70.000</td>\n",
       "      <td>70.000</td>\n",
       "    </tr>\n",
       "    <tr>\n",
       "      <th>25%</th>\n",
       "      <td>75.000</td>\n",
       "      <td>72.500</td>\n",
       "      <td>72.500</td>\n",
       "      <td>73.750</td>\n",
       "    </tr>\n",
       "    <tr>\n",
       "      <th>50%</th>\n",
       "      <td>80.000</td>\n",
       "      <td>75.000</td>\n",
       "      <td>75.000</td>\n",
       "      <td>77.500</td>\n",
       "    </tr>\n",
       "    <tr>\n",
       "      <th>75%</th>\n",
       "      <td>85.000</td>\n",
       "      <td>77.500</td>\n",
       "      <td>77.500</td>\n",
       "      <td>81.250</td>\n",
       "    </tr>\n",
       "    <tr>\n",
       "      <th>max</th>\n",
       "      <td>90.000</td>\n",
       "      <td>80.000</td>\n",
       "      <td>80.000</td>\n",
       "      <td>85.000</td>\n",
       "    </tr>\n",
       "  </tbody>\n",
       "</table>\n",
       "</div>"
      ],
      "text/plain": [
       "          工藤     浅木     松田     福田\n",
       "count  2.000  2.000  2.000  2.000\n",
       "mean  80.000 75.000 75.000 77.500\n",
       "std   14.142  7.071  7.071 10.607\n",
       "min   70.000 70.000 70.000 70.000\n",
       "25%   75.000 72.500 72.500 73.750\n",
       "50%   80.000 75.000 75.000 77.500\n",
       "75%   85.000 77.500 77.500 81.250\n",
       "max   90.000 80.000 80.000 85.000"
      ]
     },
     "metadata": {},
     "output_type": "display_data"
    }
   ],
   "source": [
    "url = 'https://bit.ly/3DmHfDw'\n",
    "score_df = pd.read_csv(url, index_col=0)\n",
    "display(score_df.T.describe()) # 各種統計量（行方向に集計）"
   ]
  },
  {
   "cell_type": "markdown",
   "metadata": {},
   "source": [
    "## グループ集計／ピボットテーブル集計\n",
    "* 例として以下のURLにあるcsvファイル（df_sample_aggregation.csv）をDataFrameとして読み込み，グループ集計及びピボットテーブル集計を行う\n",
    ">* https://bit.ly/41rlGts\n",
    "* このデータにおける gender 列は 0 を woman，1 を man としている  \n",
    "* また，position 列は 0 を enployee，1 を manager としている\n",
    "* 以下のコードでは，`read_csv`関数の引数として「`index_col = 0`」を指定しているが，これはcsvファイルの1列目をDataFrameのindexとして使用することを意味する"
   ]
  },
  {
   "cell_type": "code",
   "execution_count": 15,
   "metadata": {},
   "outputs": [
    {
     "data": {
      "text/html": [
       "<div>\n",
       "<style scoped>\n",
       "    .dataframe tbody tr th:only-of-type {\n",
       "        vertical-align: middle;\n",
       "    }\n",
       "\n",
       "    .dataframe tbody tr th {\n",
       "        vertical-align: top;\n",
       "    }\n",
       "\n",
       "    .dataframe thead th {\n",
       "        text-align: right;\n",
       "    }\n",
       "</style>\n",
       "<table border=\"1\" class=\"dataframe\">\n",
       "  <thead>\n",
       "    <tr style=\"text-align: right;\">\n",
       "      <th></th>\n",
       "      <th>age</th>\n",
       "      <th>gender</th>\n",
       "      <th>position</th>\n",
       "    </tr>\n",
       "  </thead>\n",
       "  <tbody>\n",
       "    <tr>\n",
       "      <th>A</th>\n",
       "      <td>22</td>\n",
       "      <td>1</td>\n",
       "      <td>0</td>\n",
       "    </tr>\n",
       "    <tr>\n",
       "      <th>B</th>\n",
       "      <td>25</td>\n",
       "      <td>0</td>\n",
       "      <td>0</td>\n",
       "    </tr>\n",
       "    <tr>\n",
       "      <th>C</th>\n",
       "      <td>30</td>\n",
       "      <td>1</td>\n",
       "      <td>0</td>\n",
       "    </tr>\n",
       "    <tr>\n",
       "      <th>D</th>\n",
       "      <td>40</td>\n",
       "      <td>1</td>\n",
       "      <td>1</td>\n",
       "    </tr>\n",
       "    <tr>\n",
       "      <th>E</th>\n",
       "      <td>40</td>\n",
       "      <td>1</td>\n",
       "      <td>1</td>\n",
       "    </tr>\n",
       "  </tbody>\n",
       "</table>\n",
       "</div>"
      ],
      "text/plain": [
       "   age  gender  position\n",
       "A   22       1         0\n",
       "B   25       0         0\n",
       "C   30       1         0\n",
       "D   40       1         1\n",
       "E   40       1         1"
      ]
     },
     "metadata": {},
     "output_type": "display_data"
    }
   ],
   "source": [
    "url = 'https://bit.ly/41rlGts'\n",
    "data_df = pd.read_csv(url, index_col = 0)\n",
    "display(data_df) # DataFrameの内容を表示"
   ]
  },
  {
   "cell_type": "code",
   "execution_count": 16,
   "metadata": {},
   "outputs": [
    {
     "data": {
      "text/html": [
       "<div>\n",
       "<style scoped>\n",
       "    .dataframe tbody tr th:only-of-type {\n",
       "        vertical-align: middle;\n",
       "    }\n",
       "\n",
       "    .dataframe tbody tr th {\n",
       "        vertical-align: top;\n",
       "    }\n",
       "\n",
       "    .dataframe thead th {\n",
       "        text-align: right;\n",
       "    }\n",
       "</style>\n",
       "<table border=\"1\" class=\"dataframe\">\n",
       "  <thead>\n",
       "    <tr style=\"text-align: right;\">\n",
       "      <th></th>\n",
       "      <th>age</th>\n",
       "      <th>gender</th>\n",
       "    </tr>\n",
       "    <tr>\n",
       "      <th>position</th>\n",
       "      <th></th>\n",
       "      <th></th>\n",
       "    </tr>\n",
       "  </thead>\n",
       "  <tbody>\n",
       "    <tr>\n",
       "      <th>0</th>\n",
       "      <td>25.667</td>\n",
       "      <td>0.667</td>\n",
       "    </tr>\n",
       "    <tr>\n",
       "      <th>1</th>\n",
       "      <td>40.000</td>\n",
       "      <td>1.000</td>\n",
       "    </tr>\n",
       "  </tbody>\n",
       "</table>\n",
       "</div>"
      ],
      "text/plain": [
       "            age  gender\n",
       "position               \n",
       "0        25.667   0.667\n",
       "1        40.000   1.000"
      ]
     },
     "metadata": {},
     "output_type": "display_data"
    }
   ],
   "source": [
    "url = 'https://bit.ly/41rlGts'\n",
    "data_df = pd.read_csv(url, index_col = 0)\n",
    "display(data_df.groupby('position').mean()) # positionごとの平均を集計"
   ]
  },
  {
   "cell_type": "markdown",
   "metadata": {},
   "source": [
    "---\n",
    "**ピボットテーブル集計の書式：**  \n",
    "```\n",
    "pd.pivot_table(df, index = 集計軸の列名1, columns = 集計軸の列名2,\n",
    "                values = 集計対象の列, aggfunc = 関数（のリスト）, margins = [bool値])\n",
    "```\n",
    "---\n",
    "* `aggfunc`のデフォルトは`mean`，`margins`を`True`にすることで列及び行ごとの合計も計算できる（デフォルトは`False`）"
   ]
  },
  {
   "cell_type": "code",
   "execution_count": 17,
   "metadata": {},
   "outputs": [
    {
     "data": {
      "text/html": [
       "<div>\n",
       "<style scoped>\n",
       "    .dataframe tbody tr th:only-of-type {\n",
       "        vertical-align: middle;\n",
       "    }\n",
       "\n",
       "    .dataframe tbody tr th {\n",
       "        vertical-align: top;\n",
       "    }\n",
       "\n",
       "    .dataframe thead th {\n",
       "        text-align: right;\n",
       "    }\n",
       "</style>\n",
       "<table border=\"1\" class=\"dataframe\">\n",
       "  <thead>\n",
       "    <tr style=\"text-align: right;\">\n",
       "      <th>position</th>\n",
       "      <th>0</th>\n",
       "      <th>1</th>\n",
       "      <th>All</th>\n",
       "    </tr>\n",
       "    <tr>\n",
       "      <th>gender</th>\n",
       "      <th></th>\n",
       "      <th></th>\n",
       "      <th></th>\n",
       "    </tr>\n",
       "  </thead>\n",
       "  <tbody>\n",
       "    <tr>\n",
       "      <th>0</th>\n",
       "      <td>25.000</td>\n",
       "      <td>NaN</td>\n",
       "      <td>25</td>\n",
       "    </tr>\n",
       "    <tr>\n",
       "      <th>1</th>\n",
       "      <td>30.000</td>\n",
       "      <td>40.000</td>\n",
       "      <td>40</td>\n",
       "    </tr>\n",
       "    <tr>\n",
       "      <th>All</th>\n",
       "      <td>30.000</td>\n",
       "      <td>40.000</td>\n",
       "      <td>40</td>\n",
       "    </tr>\n",
       "  </tbody>\n",
       "</table>\n",
       "</div>"
      ],
      "text/plain": [
       "position      0      1  All\n",
       "gender                     \n",
       "0        25.000    NaN   25\n",
       "1        30.000 40.000   40\n",
       "All      30.000 40.000   40"
      ]
     },
     "execution_count": 17,
     "metadata": {},
     "output_type": "execute_result"
    }
   ],
   "source": [
    "url = 'https://bit.ly/41rlGts'\n",
    "data_df = pd.read_csv(url, index_col = 0)\n",
    "pd.pivot_table(data_df, index = 'gender', columns = 'position',\n",
    "                values = 'age', aggfunc = max, margins = True)"
   ]
  },
  {
   "cell_type": "markdown",
   "metadata": {},
   "source": [
    "* NaNはNot a Numberの略で，この例の場合は該当するデータ（genderが0でpositinoが1のデータ）が存在しなかったことを意味する"
   ]
  },
  {
   "cell_type": "markdown",
   "metadata": {},
   "source": [
    "## DataFrameの結合\n",
    "* 例として，2つのDataFrame「`score_df1`」と「`score_df2`」を定義し，これら2つのDataFrameに対して，様々な結合を行っていく\n"
   ]
  },
  {
   "cell_type": "code",
   "execution_count": null,
   "metadata": {},
   "outputs": [
    {
     "data": {
      "text/html": [
       "<div>\n",
       "<style scoped>\n",
       "    .dataframe tbody tr th:only-of-type {\n",
       "        vertical-align: middle;\n",
       "    }\n",
       "\n",
       "    .dataframe tbody tr th {\n",
       "        vertical-align: top;\n",
       "    }\n",
       "\n",
       "    .dataframe thead th {\n",
       "        text-align: right;\n",
       "    }\n",
       "</style>\n",
       "<table border=\"1\" class=\"dataframe\">\n",
       "  <thead>\n",
       "    <tr style=\"text-align: right;\">\n",
       "      <th></th>\n",
       "      <th>名前</th>\n",
       "      <th>Python</th>\n",
       "    </tr>\n",
       "  </thead>\n",
       "  <tbody>\n",
       "    <tr>\n",
       "      <th>0</th>\n",
       "      <td>工藤</td>\n",
       "      <td>90</td>\n",
       "    </tr>\n",
       "    <tr>\n",
       "      <th>1</th>\n",
       "      <td>浅木</td>\n",
       "      <td>70</td>\n",
       "    </tr>\n",
       "    <tr>\n",
       "      <th>2</th>\n",
       "      <td>松田</td>\n",
       "      <td>70</td>\n",
       "    </tr>\n",
       "  </tbody>\n",
       "</table>\n",
       "</div>"
      ],
      "text/plain": [
       "   名前  Python\n",
       "0  工藤      90\n",
       "1  浅木      70\n",
       "2  松田      70"
      ]
     },
     "metadata": {},
     "output_type": "display_data"
    },
    {
     "name": "stdout",
     "output_type": "stream",
     "text": [
      "-------------------------\n"
     ]
    },
    {
     "data": {
      "text/html": [
       "<div>\n",
       "<style scoped>\n",
       "    .dataframe tbody tr th:only-of-type {\n",
       "        vertical-align: middle;\n",
       "    }\n",
       "\n",
       "    .dataframe tbody tr th {\n",
       "        vertical-align: top;\n",
       "    }\n",
       "\n",
       "    .dataframe thead th {\n",
       "        text-align: right;\n",
       "    }\n",
       "</style>\n",
       "<table border=\"1\" class=\"dataframe\">\n",
       "  <thead>\n",
       "    <tr style=\"text-align: right;\">\n",
       "      <th></th>\n",
       "      <th>名前</th>\n",
       "      <th>ML</th>\n",
       "    </tr>\n",
       "  </thead>\n",
       "  <tbody>\n",
       "    <tr>\n",
       "      <th>0</th>\n",
       "      <td>工藤</td>\n",
       "      <td>70</td>\n",
       "    </tr>\n",
       "    <tr>\n",
       "      <th>1</th>\n",
       "      <td>浅木</td>\n",
       "      <td>80</td>\n",
       "    </tr>\n",
       "    <tr>\n",
       "      <th>2</th>\n",
       "      <td>福田</td>\n",
       "      <td>70</td>\n",
       "    </tr>\n",
       "  </tbody>\n",
       "</table>\n",
       "</div>"
      ],
      "text/plain": [
       "   名前  ML\n",
       "0  工藤  70\n",
       "1  浅木  80\n",
       "2  福田  70"
      ]
     },
     "metadata": {},
     "output_type": "display_data"
    }
   ],
   "source": [
    "score_df1 = pd.DataFrame([['工藤', 90], ['浅木', 70], ['松田', 70]],\n",
    "                        columns = ['名前', 'Python'])\n",
    "score_df2 = pd.DataFrame([['工藤', 70], ['浅木', 80], ['福田', 70]],\n",
    "                        columns = ['名前', 'ML'])\n",
    "\n",
    "display(score_df1)\n",
    "print('-------------------------')\n",
    "display(score_df2)"
   ]
  },
  {
   "cell_type": "markdown",
   "metadata": {},
   "source": [
    "### 単純な結合\n",
    "---\n",
    "**2つのDataFrameの単純な結合の書式：**\n",
    "```\n",
    "pd.concat([df1, df2], axis = [0 or 1])\n",
    "```\n",
    "---\n",
    "*  `df1`と`df2`は結合するDataFrameの名前\n",
    "*  `axis = 0` ⇒ 行方向の結合（縦に並べて結合）\n",
    "*  `axis = 1` ⇒ 列方向の結合（横に並べて結合）"
   ]
  },
  {
   "cell_type": "code",
   "execution_count": 18,
   "metadata": {},
   "outputs": [
    {
     "data": {
      "text/html": [
       "<div>\n",
       "<style scoped>\n",
       "    .dataframe tbody tr th:only-of-type {\n",
       "        vertical-align: middle;\n",
       "    }\n",
       "\n",
       "    .dataframe tbody tr th {\n",
       "        vertical-align: top;\n",
       "    }\n",
       "\n",
       "    .dataframe thead th {\n",
       "        text-align: right;\n",
       "    }\n",
       "</style>\n",
       "<table border=\"1\" class=\"dataframe\">\n",
       "  <thead>\n",
       "    <tr style=\"text-align: right;\">\n",
       "      <th></th>\n",
       "      <th>名前</th>\n",
       "      <th>Python</th>\n",
       "      <th>ML</th>\n",
       "    </tr>\n",
       "  </thead>\n",
       "  <tbody>\n",
       "    <tr>\n",
       "      <th>0</th>\n",
       "      <td>工藤</td>\n",
       "      <td>90.000</td>\n",
       "      <td>NaN</td>\n",
       "    </tr>\n",
       "    <tr>\n",
       "      <th>1</th>\n",
       "      <td>浅木</td>\n",
       "      <td>70.000</td>\n",
       "      <td>NaN</td>\n",
       "    </tr>\n",
       "    <tr>\n",
       "      <th>2</th>\n",
       "      <td>松田</td>\n",
       "      <td>70.000</td>\n",
       "      <td>NaN</td>\n",
       "    </tr>\n",
       "    <tr>\n",
       "      <th>0</th>\n",
       "      <td>工藤</td>\n",
       "      <td>NaN</td>\n",
       "      <td>70.000</td>\n",
       "    </tr>\n",
       "    <tr>\n",
       "      <th>1</th>\n",
       "      <td>浅木</td>\n",
       "      <td>NaN</td>\n",
       "      <td>80.000</td>\n",
       "    </tr>\n",
       "    <tr>\n",
       "      <th>2</th>\n",
       "      <td>福田</td>\n",
       "      <td>NaN</td>\n",
       "      <td>70.000</td>\n",
       "    </tr>\n",
       "  </tbody>\n",
       "</table>\n",
       "</div>"
      ],
      "text/plain": [
       "   名前  Python     ML\n",
       "0  工藤  90.000    NaN\n",
       "1  浅木  70.000    NaN\n",
       "2  松田  70.000    NaN\n",
       "0  工藤     NaN 70.000\n",
       "1  浅木     NaN 80.000\n",
       "2  福田     NaN 70.000"
      ]
     },
     "metadata": {},
     "output_type": "display_data"
    },
    {
     "name": "stdout",
     "output_type": "stream",
     "text": [
      "-----------------------------\n"
     ]
    },
    {
     "data": {
      "text/html": [
       "<div>\n",
       "<style scoped>\n",
       "    .dataframe tbody tr th:only-of-type {\n",
       "        vertical-align: middle;\n",
       "    }\n",
       "\n",
       "    .dataframe tbody tr th {\n",
       "        vertical-align: top;\n",
       "    }\n",
       "\n",
       "    .dataframe thead th {\n",
       "        text-align: right;\n",
       "    }\n",
       "</style>\n",
       "<table border=\"1\" class=\"dataframe\">\n",
       "  <thead>\n",
       "    <tr style=\"text-align: right;\">\n",
       "      <th></th>\n",
       "      <th>名前</th>\n",
       "      <th>Python</th>\n",
       "      <th>名前</th>\n",
       "      <th>ML</th>\n",
       "    </tr>\n",
       "  </thead>\n",
       "  <tbody>\n",
       "    <tr>\n",
       "      <th>0</th>\n",
       "      <td>工藤</td>\n",
       "      <td>90</td>\n",
       "      <td>工藤</td>\n",
       "      <td>70</td>\n",
       "    </tr>\n",
       "    <tr>\n",
       "      <th>1</th>\n",
       "      <td>浅木</td>\n",
       "      <td>70</td>\n",
       "      <td>浅木</td>\n",
       "      <td>80</td>\n",
       "    </tr>\n",
       "    <tr>\n",
       "      <th>2</th>\n",
       "      <td>松田</td>\n",
       "      <td>70</td>\n",
       "      <td>福田</td>\n",
       "      <td>70</td>\n",
       "    </tr>\n",
       "  </tbody>\n",
       "</table>\n",
       "</div>"
      ],
      "text/plain": [
       "   名前  Python  名前  ML\n",
       "0  工藤      90  工藤  70\n",
       "1  浅木      70  浅木  80\n",
       "2  松田      70  福田  70"
      ]
     },
     "metadata": {},
     "output_type": "display_data"
    }
   ],
   "source": [
    "score_df1 = pd.DataFrame([['工藤', 90], ['浅木', 70], ['松田', 70]],\n",
    "                        columns = ['名前', 'Python'])\n",
    "score_df2 = pd.DataFrame([['工藤', 70], ['浅木', 80], ['福田', 70]],\n",
    "                        columns = ['名前', 'ML'])\n",
    "# 行方向の結合\n",
    "display(pd.concat([score_df1, score_df2], axis=0))\n",
    "print('-----------------------------')\n",
    "# 列方向の結合\n",
    "display(pd.concat([score_df1, score_df2], axis=1))"
   ]
  },
  {
   "cell_type": "markdown",
   "metadata": {},
   "source": [
    "### 内部結合\n",
    "* 内部結合では，結合する2つのDataFrameの両方に存在するデータのみが結合される\n",
    "* 内部結合は，`merge`関数またはmarge`メソッド`を用いる\n",
    "  \n",
    "---\n",
    "**(1-1) 2つのDataFrameの内部結合の書式（`merge`関数）：**\n",
    "```\n",
    "pd.merge(df1, df2, how='inner', on = キーの列名)\n",
    "```\n",
    "  \n",
    "**(1-2) 2つのDataFrameの内部結合の書式（`merge`メソッド）：**\n",
    "```\n",
    "df1.merge(df2, how='inner', on = キーの列名)\n",
    "```\n",
    "---\n",
    "*  `df1`と`df2`は結合するDataFrameの名前\n",
    "*  引数`how`で結合方法を指定する（内部結合は`inner`を指定）\n",
    "*  `how`のデフォルトは`how = inner`（内部結合の場合は省略可）\n",
    "*  引数`on`でキー（結合の基準とする列名）とする列名を明示的に指定する"
   ]
  },
  {
   "cell_type": "code",
   "execution_count": null,
   "metadata": {},
   "outputs": [
    {
     "data": {
      "text/html": [
       "<div>\n",
       "<style scoped>\n",
       "    .dataframe tbody tr th:only-of-type {\n",
       "        vertical-align: middle;\n",
       "    }\n",
       "\n",
       "    .dataframe tbody tr th {\n",
       "        vertical-align: top;\n",
       "    }\n",
       "\n",
       "    .dataframe thead th {\n",
       "        text-align: right;\n",
       "    }\n",
       "</style>\n",
       "<table border=\"1\" class=\"dataframe\">\n",
       "  <thead>\n",
       "    <tr style=\"text-align: right;\">\n",
       "      <th></th>\n",
       "      <th>名前</th>\n",
       "      <th>Python</th>\n",
       "      <th>ML</th>\n",
       "    </tr>\n",
       "  </thead>\n",
       "  <tbody>\n",
       "    <tr>\n",
       "      <th>0</th>\n",
       "      <td>工藤</td>\n",
       "      <td>90</td>\n",
       "      <td>70</td>\n",
       "    </tr>\n",
       "    <tr>\n",
       "      <th>1</th>\n",
       "      <td>浅木</td>\n",
       "      <td>70</td>\n",
       "      <td>80</td>\n",
       "    </tr>\n",
       "  </tbody>\n",
       "</table>\n",
       "</div>"
      ],
      "text/plain": [
       "   名前  Python  ML\n",
       "0  工藤      90  70\n",
       "1  浅木      70  80"
      ]
     },
     "metadata": {},
     "output_type": "display_data"
    }
   ],
   "source": [
    "score_df1 = pd.DataFrame([['工藤', 90], ['浅木', 70], ['松田', 70]],\n",
    "                        columns = ['名前', 'Python'])\n",
    "score_df2 = pd.DataFrame([['工藤', 70], ['浅木', 80], ['福田', 70]],\n",
    "                        columns = ['名前', 'ML'])\n",
    "# 内部結合\n",
    "display(pd.merge(score_df1, score_df2, how = 'inner', on = '名前')) # merge関数による内部結合\n",
    "# display(score_df1.merge(score_df2, how = 'inner', on = '名前')) # mergeメソッドによる内部結合"
   ]
  },
  {
   "cell_type": "markdown",
   "metadata": {},
   "source": [
    "### 外部結合\n",
    "* 外部結合では，結合する2つのDataFrameのうち，基準とするDataFrameに存在するデータがすべて結合される\n",
    "* この基準とするDataFrameによって，左外部結合，右外部結合，及び完全外部結合（もしくは単に外部結合）に分類される\n",
    "* 外部結合は，内部結合と同様に`merge`関数または`merge`メソッドを用いる\n",
    "\n",
    "---\n",
    "**(1-1) 2つのDataFrameの左外部結合の書式（`merge`関数）：**\n",
    "```\n",
    "pd.merge(df1, df2, how='left', on = 結合キーの列名)\n",
    "```\n",
    "**(1-2) 2つのDataFrameの左外部結合の書式（`merge`メソッド）：**\n",
    "```\n",
    "df1.merge(df2, how='left', on = 結合キーの列名)\n",
    "```\n",
    "---\n",
    "*  `df1`と`df2`は結合するDataFrameの名前\n",
    "*  引数`how`で結合方法を指定する（左外部結合は`left`を指定）\n",
    "*  左外部結合の場合はdf1が基準となる（df1のデータはすべて結合される）\n"
   ]
  },
  {
   "cell_type": "code",
   "execution_count": 21,
   "metadata": {},
   "outputs": [
    {
     "data": {
      "text/html": [
       "<div>\n",
       "<style scoped>\n",
       "    .dataframe tbody tr th:only-of-type {\n",
       "        vertical-align: middle;\n",
       "    }\n",
       "\n",
       "    .dataframe tbody tr th {\n",
       "        vertical-align: top;\n",
       "    }\n",
       "\n",
       "    .dataframe thead th {\n",
       "        text-align: right;\n",
       "    }\n",
       "</style>\n",
       "<table border=\"1\" class=\"dataframe\">\n",
       "  <thead>\n",
       "    <tr style=\"text-align: right;\">\n",
       "      <th></th>\n",
       "      <th>名前</th>\n",
       "      <th>Python</th>\n",
       "      <th>ML</th>\n",
       "    </tr>\n",
       "  </thead>\n",
       "  <tbody>\n",
       "    <tr>\n",
       "      <th>0</th>\n",
       "      <td>工藤</td>\n",
       "      <td>90</td>\n",
       "      <td>70.000</td>\n",
       "    </tr>\n",
       "    <tr>\n",
       "      <th>1</th>\n",
       "      <td>浅木</td>\n",
       "      <td>70</td>\n",
       "      <td>80.000</td>\n",
       "    </tr>\n",
       "    <tr>\n",
       "      <th>2</th>\n",
       "      <td>松田</td>\n",
       "      <td>70</td>\n",
       "      <td>NaN</td>\n",
       "    </tr>\n",
       "  </tbody>\n",
       "</table>\n",
       "</div>"
      ],
      "text/plain": [
       "   名前  Python     ML\n",
       "0  工藤      90 70.000\n",
       "1  浅木      70 80.000\n",
       "2  松田      70    NaN"
      ]
     },
     "metadata": {},
     "output_type": "display_data"
    }
   ],
   "source": [
    "score_df1 = pd.DataFrame([['工藤', 90], ['浅木', 70], ['松田', 70]],\n",
    "                        columns = ['名前', 'Python'])\n",
    "score_df2 = pd.DataFrame([['工藤', 70], ['浅木', 80], ['福田', 70]],\n",
    "                        columns = ['名前', 'ML'])\n",
    "# 左外部結合\n",
    "display(pd.merge(score_df1, score_df2, how = 'left', on = '名前'))"
   ]
  },
  {
   "cell_type": "markdown",
   "metadata": {},
   "source": [
    "---\n",
    "**(2-1) 2つのDataFrameの右外部結合の書式（`merge`関数）：**\n",
    "```\n",
    "pd.merge(df1, df2, how='right', on = 結合キーの列名)\n",
    "```\n",
    "  \n",
    "**(2-2) 2つのDataFrameの右外部結合の書式（`merge`メソッド）：**\n",
    "```\n",
    "df1.merge(df2, how='right', on = 結合キーの列名)\n",
    "```\n",
    "---\n",
    "*  `df1`と`df2`は結合するDataFrameの名前\n",
    "*  引数`how`で結合方法を指定する（右外部結合は`right`を指定）\n",
    "*  右外部結合の場合はdf2が基準となる（`df2`のデータはすべて結合される）"
   ]
  },
  {
   "cell_type": "code",
   "execution_count": 22,
   "metadata": {},
   "outputs": [
    {
     "data": {
      "text/html": [
       "<div>\n",
       "<style scoped>\n",
       "    .dataframe tbody tr th:only-of-type {\n",
       "        vertical-align: middle;\n",
       "    }\n",
       "\n",
       "    .dataframe tbody tr th {\n",
       "        vertical-align: top;\n",
       "    }\n",
       "\n",
       "    .dataframe thead th {\n",
       "        text-align: right;\n",
       "    }\n",
       "</style>\n",
       "<table border=\"1\" class=\"dataframe\">\n",
       "  <thead>\n",
       "    <tr style=\"text-align: right;\">\n",
       "      <th></th>\n",
       "      <th>名前</th>\n",
       "      <th>Python</th>\n",
       "      <th>ML</th>\n",
       "    </tr>\n",
       "  </thead>\n",
       "  <tbody>\n",
       "    <tr>\n",
       "      <th>0</th>\n",
       "      <td>工藤</td>\n",
       "      <td>90.000</td>\n",
       "      <td>70</td>\n",
       "    </tr>\n",
       "    <tr>\n",
       "      <th>1</th>\n",
       "      <td>浅木</td>\n",
       "      <td>70.000</td>\n",
       "      <td>80</td>\n",
       "    </tr>\n",
       "    <tr>\n",
       "      <th>2</th>\n",
       "      <td>福田</td>\n",
       "      <td>NaN</td>\n",
       "      <td>70</td>\n",
       "    </tr>\n",
       "  </tbody>\n",
       "</table>\n",
       "</div>"
      ],
      "text/plain": [
       "   名前  Python  ML\n",
       "0  工藤  90.000  70\n",
       "1  浅木  70.000  80\n",
       "2  福田     NaN  70"
      ]
     },
     "metadata": {},
     "output_type": "display_data"
    }
   ],
   "source": [
    "score_df1 = pd.DataFrame([['工藤', 90], ['浅木', 70], ['松田', 70]],\n",
    "                        columns = ['名前', 'Python'])\n",
    "score_df2 = pd.DataFrame([['工藤', 70], ['浅木', 80], ['福田', 70]],\n",
    "                        columns = ['名前', 'ML'])\n",
    "# 右外部結合\n",
    "display(pd.merge(score_df1, score_df2, how = 'right', on = '名前'))"
   ]
  },
  {
   "cell_type": "markdown",
   "metadata": {},
   "source": [
    "---\n",
    "**(3-1) 2つのDataFrameの完全外部結合の書式（`merge`関数）：**\n",
    "```\n",
    "pd.merge(df1, df2, how='outer', on = 結合キーの列名)\n",
    "```\n",
    "  \n",
    "**(3-2) 2つのDataFrameの完全外部結合の書式（`merge`メソッド）：**\n",
    "```\n",
    "df1.merge(df2, how='outer', on = 結合キーの列名)\n",
    "```\n",
    "---\n",
    "*  `df1`と`df2`は結合するDataFrameの名前\n",
    "*  引数`how`で結合方法を指定する（完全外部結合は`outer`を指定）\n",
    "*  完全外部結合の場合は`df1`と`df2`のすべてのデータが結合される"
   ]
  },
  {
   "cell_type": "markdown",
   "metadata": {},
   "source": [
    "## DataFrameにおける欠損値の取り扱い\n",
    "* 利用するデータの中に値が存在していないものがある場合，それを欠損値と呼ぶ\n",
    "* 機械学習などで取り扱う大規模データにおいて，データの一部が何らかの理由で取得できていないことがある\n",
    "* 欠損値があるデータは，そのままでは分析できないため，何らかの処置が必要となる"
   ]
  },
  {
   "cell_type": "markdown",
   "metadata": {},
   "source": [
    "### 欠損値の例\n",
    "* 以下のURLにあるcsvファイルは，欠損値を含むデータになっている\n",
    ">* https://bit.ly/43le9z3\n",
    "* これをDataFrameとして読み込み，欠損値の対処を行っていく\n",
    "* 欠損値の部分は「`NaN`」と表示される．\n"
   ]
  },
  {
   "cell_type": "code",
   "execution_count": 23,
   "metadata": {},
   "outputs": [
    {
     "data": {
      "text/html": [
       "<div>\n",
       "<style scoped>\n",
       "    .dataframe tbody tr th:only-of-type {\n",
       "        vertical-align: middle;\n",
       "    }\n",
       "\n",
       "    .dataframe tbody tr th {\n",
       "        vertical-align: top;\n",
       "    }\n",
       "\n",
       "    .dataframe thead th {\n",
       "        text-align: right;\n",
       "    }\n",
       "</style>\n",
       "<table border=\"1\" class=\"dataframe\">\n",
       "  <thead>\n",
       "    <tr style=\"text-align: right;\">\n",
       "      <th></th>\n",
       "      <th>Python</th>\n",
       "      <th>ML</th>\n",
       "    </tr>\n",
       "  </thead>\n",
       "  <tbody>\n",
       "    <tr>\n",
       "      <th>工藤</th>\n",
       "      <td>90.000</td>\n",
       "      <td>70.000</td>\n",
       "    </tr>\n",
       "    <tr>\n",
       "      <th>浅木</th>\n",
       "      <td>NaN</td>\n",
       "      <td>80.000</td>\n",
       "    </tr>\n",
       "    <tr>\n",
       "      <th>松田</th>\n",
       "      <td>70.000</td>\n",
       "      <td>NaN</td>\n",
       "    </tr>\n",
       "    <tr>\n",
       "      <th>福田</th>\n",
       "      <td>85.000</td>\n",
       "      <td>70.000</td>\n",
       "    </tr>\n",
       "  </tbody>\n",
       "</table>\n",
       "</div>"
      ],
      "text/plain": [
       "    Python     ML\n",
       "工藤  90.000 70.000\n",
       "浅木     NaN 80.000\n",
       "松田  70.000    NaN\n",
       "福田  85.000 70.000"
      ]
     },
     "metadata": {},
     "output_type": "display_data"
    }
   ],
   "source": [
    "url = 'https://bit.ly/43le9z3'\n",
    "missingdata_df = pd.read_csv(url, index_col = 0)\n",
    "display(missingdata_df)"
   ]
  },
  {
   "cell_type": "markdown",
   "metadata": {},
   "source": [
    "### 欠損値の確認\n",
    "* `isnull`メソッドを使うとDataFrame内の欠損値の場所が`True`となる（欠損値でなければ`False`）"
   ]
  },
  {
   "cell_type": "code",
   "execution_count": 24,
   "metadata": {},
   "outputs": [
    {
     "data": {
      "text/html": [
       "<div>\n",
       "<style scoped>\n",
       "    .dataframe tbody tr th:only-of-type {\n",
       "        vertical-align: middle;\n",
       "    }\n",
       "\n",
       "    .dataframe tbody tr th {\n",
       "        vertical-align: top;\n",
       "    }\n",
       "\n",
       "    .dataframe thead th {\n",
       "        text-align: right;\n",
       "    }\n",
       "</style>\n",
       "<table border=\"1\" class=\"dataframe\">\n",
       "  <thead>\n",
       "    <tr style=\"text-align: right;\">\n",
       "      <th></th>\n",
       "      <th>Python</th>\n",
       "      <th>ML</th>\n",
       "    </tr>\n",
       "  </thead>\n",
       "  <tbody>\n",
       "    <tr>\n",
       "      <th>工藤</th>\n",
       "      <td>False</td>\n",
       "      <td>False</td>\n",
       "    </tr>\n",
       "    <tr>\n",
       "      <th>浅木</th>\n",
       "      <td>True</td>\n",
       "      <td>False</td>\n",
       "    </tr>\n",
       "    <tr>\n",
       "      <th>松田</th>\n",
       "      <td>False</td>\n",
       "      <td>True</td>\n",
       "    </tr>\n",
       "    <tr>\n",
       "      <th>福田</th>\n",
       "      <td>False</td>\n",
       "      <td>False</td>\n",
       "    </tr>\n",
       "  </tbody>\n",
       "</table>\n",
       "</div>"
      ],
      "text/plain": [
       "    Python     ML\n",
       "工藤   False  False\n",
       "浅木    True  False\n",
       "松田   False   True\n",
       "福田   False  False"
      ]
     },
     "metadata": {},
     "output_type": "display_data"
    }
   ],
   "source": [
    "url = 'https://bit.ly/43le9z3'\n",
    "missingdata_df = pd.read_csv(url, index_col = 0)\n",
    "display(missingdata_df.isnull())"
   ]
  },
  {
   "cell_type": "markdown",
   "metadata": {},
   "source": [
    "### 欠損値のある行・列の削除\n",
    "* `dropna`メソッドで欠損値のある行または列を削除できる\n",
    "* 行の削除の書式： `df.dropna(axis = 0)`  \n",
    "* 列の削除の書式： `df.dropna(axis = 1)`"
   ]
  },
  {
   "cell_type": "code",
   "execution_count": 25,
   "metadata": {},
   "outputs": [
    {
     "data": {
      "text/html": [
       "<div>\n",
       "<style scoped>\n",
       "    .dataframe tbody tr th:only-of-type {\n",
       "        vertical-align: middle;\n",
       "    }\n",
       "\n",
       "    .dataframe tbody tr th {\n",
       "        vertical-align: top;\n",
       "    }\n",
       "\n",
       "    .dataframe thead th {\n",
       "        text-align: right;\n",
       "    }\n",
       "</style>\n",
       "<table border=\"1\" class=\"dataframe\">\n",
       "  <thead>\n",
       "    <tr style=\"text-align: right;\">\n",
       "      <th></th>\n",
       "      <th>Python</th>\n",
       "      <th>ML</th>\n",
       "    </tr>\n",
       "  </thead>\n",
       "  <tbody>\n",
       "    <tr>\n",
       "      <th>工藤</th>\n",
       "      <td>90.000</td>\n",
       "      <td>70.000</td>\n",
       "    </tr>\n",
       "    <tr>\n",
       "      <th>福田</th>\n",
       "      <td>85.000</td>\n",
       "      <td>70.000</td>\n",
       "    </tr>\n",
       "  </tbody>\n",
       "</table>\n",
       "</div>"
      ],
      "text/plain": [
       "    Python     ML\n",
       "工藤  90.000 70.000\n",
       "福田  85.000 70.000"
      ]
     },
     "metadata": {},
     "output_type": "display_data"
    },
    {
     "name": "stdout",
     "output_type": "stream",
     "text": [
      "---------------------\n"
     ]
    },
    {
     "data": {
      "text/html": [
       "<div>\n",
       "<style scoped>\n",
       "    .dataframe tbody tr th:only-of-type {\n",
       "        vertical-align: middle;\n",
       "    }\n",
       "\n",
       "    .dataframe tbody tr th {\n",
       "        vertical-align: top;\n",
       "    }\n",
       "\n",
       "    .dataframe thead th {\n",
       "        text-align: right;\n",
       "    }\n",
       "</style>\n",
       "<table border=\"1\" class=\"dataframe\">\n",
       "  <thead>\n",
       "    <tr style=\"text-align: right;\">\n",
       "      <th></th>\n",
       "    </tr>\n",
       "  </thead>\n",
       "  <tbody>\n",
       "    <tr>\n",
       "      <th>工藤</th>\n",
       "    </tr>\n",
       "    <tr>\n",
       "      <th>浅木</th>\n",
       "    </tr>\n",
       "    <tr>\n",
       "      <th>松田</th>\n",
       "    </tr>\n",
       "    <tr>\n",
       "      <th>福田</th>\n",
       "    </tr>\n",
       "  </tbody>\n",
       "</table>\n",
       "</div>"
      ],
      "text/plain": [
       "Empty DataFrame\n",
       "Columns: []\n",
       "Index: [工藤, 浅木, 松田, 福田]"
      ]
     },
     "metadata": {},
     "output_type": "display_data"
    }
   ],
   "source": [
    "url = 'https://bit.ly/43le9z3'\n",
    "missingdata_df = pd.read_csv(url, index_col = 0)\n",
    "display(missingdata_df.dropna(axis = 0)) # 行の削除\n",
    "print('---------------------')\n",
    "display(missingdata_df.dropna(axis = 1)) # 列の削除"
   ]
  },
  {
   "cell_type": "markdown",
   "metadata": {},
   "source": [
    "### 欠損値を他の値で穴埋め\n",
    "* `fillna`メソッドで欠損値を他の値で穴埋め（補間）できる．  \n",
    "* DataFrame全体の穴埋めの書式： `df.fillna(穴埋めする値)`  \n",
    "* 特定の列の穴埋めの書式： `df[列名].fillna(穴埋めする値)`\n"
   ]
  },
  {
   "cell_type": "code",
   "execution_count": 26,
   "metadata": {},
   "outputs": [
    {
     "data": {
      "text/html": [
       "<div>\n",
       "<style scoped>\n",
       "    .dataframe tbody tr th:only-of-type {\n",
       "        vertical-align: middle;\n",
       "    }\n",
       "\n",
       "    .dataframe tbody tr th {\n",
       "        vertical-align: top;\n",
       "    }\n",
       "\n",
       "    .dataframe thead th {\n",
       "        text-align: right;\n",
       "    }\n",
       "</style>\n",
       "<table border=\"1\" class=\"dataframe\">\n",
       "  <thead>\n",
       "    <tr style=\"text-align: right;\">\n",
       "      <th></th>\n",
       "      <th>Python</th>\n",
       "      <th>ML</th>\n",
       "    </tr>\n",
       "  </thead>\n",
       "  <tbody>\n",
       "    <tr>\n",
       "      <th>工藤</th>\n",
       "      <td>90.000</td>\n",
       "      <td>70.000</td>\n",
       "    </tr>\n",
       "    <tr>\n",
       "      <th>浅木</th>\n",
       "      <td>70.000</td>\n",
       "      <td>80.000</td>\n",
       "    </tr>\n",
       "    <tr>\n",
       "      <th>松田</th>\n",
       "      <td>70.000</td>\n",
       "      <td>70.000</td>\n",
       "    </tr>\n",
       "    <tr>\n",
       "      <th>福田</th>\n",
       "      <td>85.000</td>\n",
       "      <td>70.000</td>\n",
       "    </tr>\n",
       "  </tbody>\n",
       "</table>\n",
       "</div>"
      ],
      "text/plain": [
       "    Python     ML\n",
       "工藤  90.000 70.000\n",
       "浅木  70.000 80.000\n",
       "松田  70.000 70.000\n",
       "福田  85.000 70.000"
      ]
     },
     "metadata": {},
     "output_type": "display_data"
    }
   ],
   "source": [
    "url = 'https://bit.ly/43le9z3'\n",
    "missingdata_df = pd.read_csv(url, index_col = 0)\n",
    "display(missingdata_df.fillna(70)) # すべての欠損値を70で穴埋め"
   ]
  },
  {
   "cell_type": "code",
   "execution_count": 27,
   "metadata": {},
   "outputs": [
    {
     "data": {
      "text/html": [
       "<div>\n",
       "<style scoped>\n",
       "    .dataframe tbody tr th:only-of-type {\n",
       "        vertical-align: middle;\n",
       "    }\n",
       "\n",
       "    .dataframe tbody tr th {\n",
       "        vertical-align: top;\n",
       "    }\n",
       "\n",
       "    .dataframe thead th {\n",
       "        text-align: right;\n",
       "    }\n",
       "</style>\n",
       "<table border=\"1\" class=\"dataframe\">\n",
       "  <thead>\n",
       "    <tr style=\"text-align: right;\">\n",
       "      <th></th>\n",
       "      <th>Python</th>\n",
       "      <th>ML</th>\n",
       "    </tr>\n",
       "  </thead>\n",
       "  <tbody>\n",
       "    <tr>\n",
       "      <th>工藤</th>\n",
       "      <td>90.000</td>\n",
       "      <td>70.000</td>\n",
       "    </tr>\n",
       "    <tr>\n",
       "      <th>浅木</th>\n",
       "      <td>81.667</td>\n",
       "      <td>80.000</td>\n",
       "    </tr>\n",
       "    <tr>\n",
       "      <th>松田</th>\n",
       "      <td>70.000</td>\n",
       "      <td>NaN</td>\n",
       "    </tr>\n",
       "    <tr>\n",
       "      <th>福田</th>\n",
       "      <td>85.000</td>\n",
       "      <td>70.000</td>\n",
       "    </tr>\n",
       "  </tbody>\n",
       "</table>\n",
       "</div>"
      ],
      "text/plain": [
       "    Python     ML\n",
       "工藤  90.000 70.000\n",
       "浅木  81.667 80.000\n",
       "松田  70.000    NaN\n",
       "福田  85.000 70.000"
      ]
     },
     "metadata": {},
     "output_type": "display_data"
    }
   ],
   "source": [
    "url = 'https://bit.ly/43le9z3'\n",
    "missingdata_df = pd.read_csv(url, index_col = 0)\n",
    "# Python列の欠損値をPython列の平均値で穴埋め\n",
    "missingdata_df['Python'] = missingdata_df['Python'].fillna(missingdata_df['Python'].mean())\n",
    "display(missingdata_df)"
   ]
  },
  {
   "cell_type": "markdown",
   "metadata": {},
   "source": [
    "### 線形補間\n",
    "* `interpolate`メソッドは，各列データの値を線形関数の値として欠損値を穴埋めする．引数の`limit_direction`に指定できる値は以下のとおり\n",
    ">*  `'backword'`: 末尾のデータが欠損値の場合には補完されない（欠損値のまま）\n",
    ">*  `'forword'`（デフォルト）: 先頭のデータが欠損値だった場合には補完されない（欠損値のまま）\n",
    ">*  `'both'`: 先頭・末尾のデータが欠損値でも補完される．\n",
    "* また，引数axisを用いると線形補間する方向を指定できる．\n",
    ">*  `axis = 0`（デフォルト）: 行方向に対して線形補間\n",
    ">*  `axis = 1`: 列方向に対して線形補間"
   ]
  },
  {
   "cell_type": "markdown",
   "metadata": {},
   "source": [
    "## ダミー変数化\n",
    "* データに数値以外の値（文字列など）が含まれていると，分析できない（実行できない）場合がある\n",
    "* そのようなデータには，ダミー変数化を施してから分析を行う\n",
    "* 例として以下のURLにあるcsvファイルをDataFrameとして読み込み，ダミー変数化を行う\n",
    ">* https://bit.ly/4i1KVtI\n",
    "* 以下のコードでは，`read_csv`関数の引数として「`index_col = 0`」を指定しているが，これはcsvファイルの1列目をDataFrameのindexとして使用することを意味する"
   ]
  },
  {
   "cell_type": "code",
   "execution_count": 31,
   "metadata": {},
   "outputs": [
    {
     "data": {
      "text/html": [
       "<div>\n",
       "<style scoped>\n",
       "    .dataframe tbody tr th:only-of-type {\n",
       "        vertical-align: middle;\n",
       "    }\n",
       "\n",
       "    .dataframe tbody tr th {\n",
       "        vertical-align: top;\n",
       "    }\n",
       "\n",
       "    .dataframe thead th {\n",
       "        text-align: right;\n",
       "    }\n",
       "</style>\n",
       "<table border=\"1\" class=\"dataframe\">\n",
       "  <thead>\n",
       "    <tr style=\"text-align: right;\">\n",
       "      <th></th>\n",
       "      <th>age</th>\n",
       "      <th>gender</th>\n",
       "      <th>position</th>\n",
       "    </tr>\n",
       "  </thead>\n",
       "  <tbody>\n",
       "    <tr>\n",
       "      <th>A</th>\n",
       "      <td>22</td>\n",
       "      <td>man</td>\n",
       "      <td>enployee</td>\n",
       "    </tr>\n",
       "    <tr>\n",
       "      <th>B</th>\n",
       "      <td>25</td>\n",
       "      <td>woman</td>\n",
       "      <td>enployee</td>\n",
       "    </tr>\n",
       "    <tr>\n",
       "      <th>C</th>\n",
       "      <td>30</td>\n",
       "      <td>man</td>\n",
       "      <td>enployee</td>\n",
       "    </tr>\n",
       "    <tr>\n",
       "      <th>D</th>\n",
       "      <td>40</td>\n",
       "      <td>man</td>\n",
       "      <td>manager</td>\n",
       "    </tr>\n",
       "    <tr>\n",
       "      <th>E</th>\n",
       "      <td>40</td>\n",
       "      <td>man</td>\n",
       "      <td>manager</td>\n",
       "    </tr>\n",
       "  </tbody>\n",
       "</table>\n",
       "</div>"
      ],
      "text/plain": [
       "   age gender  position\n",
       "A   22    man  enployee\n",
       "B   25  woman  enployee\n",
       "C   30    man  enployee\n",
       "D   40    man   manager\n",
       "E   40    man   manager"
      ]
     },
     "metadata": {},
     "output_type": "display_data"
    }
   ],
   "source": [
    "url = 'https://bit.ly/4i1KVtI'\n",
    "data_df = pd.read_csv(url, index_col = 0)\n",
    "display(data_df) # DataFrameの内容を表示"
   ]
  },
  {
   "cell_type": "markdown",
   "metadata": {},
   "source": [
    "* `get_dummies`関数によってダミー変数化すると，各列データの値の種類数分の列が追加され，行データがその値であれば `True`または`1`，そうでなければ`False`または`0`の列データが生成される\n",
    "* ダミー変数化の書式：`pd.get_dummies(df, drop_first = True or False)`  \n",
    ">* 「`df`」は任意のDataFrame（オブジェクト）で，「`pd`」は「pandas」のこと  \n",
    "* 引数の`drop_first`が`True`であれば，その列にあるデータの種類数から1引いた数の列が生成される\n",
    "* 一方，`False`であれば，種類数分の列が生成される"
   ]
  },
  {
   "cell_type": "code",
   "execution_count": 32,
   "metadata": {},
   "outputs": [
    {
     "data": {
      "text/html": [
       "<div>\n",
       "<style scoped>\n",
       "    .dataframe tbody tr th:only-of-type {\n",
       "        vertical-align: middle;\n",
       "    }\n",
       "\n",
       "    .dataframe tbody tr th {\n",
       "        vertical-align: top;\n",
       "    }\n",
       "\n",
       "    .dataframe thead th {\n",
       "        text-align: right;\n",
       "    }\n",
       "</style>\n",
       "<table border=\"1\" class=\"dataframe\">\n",
       "  <thead>\n",
       "    <tr style=\"text-align: right;\">\n",
       "      <th></th>\n",
       "      <th>age</th>\n",
       "      <th>gender_man</th>\n",
       "      <th>gender_woman</th>\n",
       "      <th>position_enployee</th>\n",
       "      <th>position_manager</th>\n",
       "    </tr>\n",
       "  </thead>\n",
       "  <tbody>\n",
       "    <tr>\n",
       "      <th>A</th>\n",
       "      <td>22</td>\n",
       "      <td>True</td>\n",
       "      <td>False</td>\n",
       "      <td>True</td>\n",
       "      <td>False</td>\n",
       "    </tr>\n",
       "    <tr>\n",
       "      <th>B</th>\n",
       "      <td>25</td>\n",
       "      <td>False</td>\n",
       "      <td>True</td>\n",
       "      <td>True</td>\n",
       "      <td>False</td>\n",
       "    </tr>\n",
       "    <tr>\n",
       "      <th>C</th>\n",
       "      <td>30</td>\n",
       "      <td>True</td>\n",
       "      <td>False</td>\n",
       "      <td>True</td>\n",
       "      <td>False</td>\n",
       "    </tr>\n",
       "    <tr>\n",
       "      <th>D</th>\n",
       "      <td>40</td>\n",
       "      <td>True</td>\n",
       "      <td>False</td>\n",
       "      <td>False</td>\n",
       "      <td>True</td>\n",
       "    </tr>\n",
       "    <tr>\n",
       "      <th>E</th>\n",
       "      <td>40</td>\n",
       "      <td>True</td>\n",
       "      <td>False</td>\n",
       "      <td>False</td>\n",
       "      <td>True</td>\n",
       "    </tr>\n",
       "  </tbody>\n",
       "</table>\n",
       "</div>"
      ],
      "text/plain": [
       "   age  gender_man  gender_woman  position_enployee  position_manager\n",
       "A   22        True         False               True             False\n",
       "B   25       False          True               True             False\n",
       "C   30        True         False               True             False\n",
       "D   40        True         False              False              True\n",
       "E   40        True         False              False              True"
      ]
     },
     "metadata": {},
     "output_type": "display_data"
    }
   ],
   "source": [
    "url = 'https://bit.ly/4i1KVtI'\n",
    "data_df = pd.read_csv(url, index_col = 0)\n",
    "display(pd.get_dummies(data_df, drop_first = False)) # ダミー変数化"
   ]
  },
  {
   "cell_type": "markdown",
   "metadata": {},
   "source": [
    "## グラフの作成\n",
    "* `plot`メソッドを使うことで，様々なグラフを作成できる\n",
    "* グラフ作成の書式: `df.plot(kind = グラフの種類, title = グラフのタイトル)`\n",
    "*引数の`kind`でグラフの種類を指定できる．代表的なものは以下のとおり\n",
    ">*  棒グラフ\n",
    ">*  折れ線グラフ\n",
    ">*  箱ひげ図\n",
    ">*  ヒストグラム\n",
    ">*  散布図\n",
    "* また，引数の`title`でグラフのタイトルを指定できる"
   ]
  },
  {
   "cell_type": "code",
   "execution_count": 33,
   "metadata": {},
   "outputs": [
    {
     "data": {
      "text/html": [
       "<div>\n",
       "<style scoped>\n",
       "    .dataframe tbody tr th:only-of-type {\n",
       "        vertical-align: middle;\n",
       "    }\n",
       "\n",
       "    .dataframe tbody tr th {\n",
       "        vertical-align: top;\n",
       "    }\n",
       "\n",
       "    .dataframe thead th {\n",
       "        text-align: right;\n",
       "    }\n",
       "</style>\n",
       "<table border=\"1\" class=\"dataframe\">\n",
       "  <thead>\n",
       "    <tr style=\"text-align: right;\">\n",
       "      <th></th>\n",
       "      <th>Data A</th>\n",
       "      <th>Data B</th>\n",
       "    </tr>\n",
       "  </thead>\n",
       "  <tbody>\n",
       "    <tr>\n",
       "      <th>April</th>\n",
       "      <td>100</td>\n",
       "      <td>91</td>\n",
       "    </tr>\n",
       "    <tr>\n",
       "      <th>May</th>\n",
       "      <td>121</td>\n",
       "      <td>125</td>\n",
       "    </tr>\n",
       "    <tr>\n",
       "      <th>June</th>\n",
       "      <td>123</td>\n",
       "      <td>150</td>\n",
       "    </tr>\n",
       "  </tbody>\n",
       "</table>\n",
       "</div>"
      ],
      "text/plain": [
       "       Data A  Data B\n",
       "April     100      91\n",
       "May       121     125\n",
       "June      123     150"
      ]
     },
     "metadata": {},
     "output_type": "display_data"
    }
   ],
   "source": [
    "data_df = pd.DataFrame([[100, 91], [121, 125], [123, 150]],\n",
    "                       index = ['April', 'May', 'June'],\n",
    "                       columns = ['Data A', 'Data B'])\n",
    "display(data_df) # ここで利用するデータの表示"
   ]
  },
  {
   "cell_type": "code",
   "execution_count": 34,
   "metadata": {},
   "outputs": [
    {
     "data": {
      "image/png": "[encoded data removed]",
      "text/plain": [
       "<Figure size 640x480 with 1 Axes>"
      ]
     },
     "metadata": {},
     "output_type": "display_data"
    },
    {
     "data": {
      "image/png": "[encoded data removed]",
      "text/plain": [
       "<Figure size 640x480 with 1 Axes>"
      ]
     },
     "metadata": {},
     "output_type": "display_data"
    },
    {
     "data": {
      "image/png": "[encoded data removed]",
      "text/plain": [
       "<Figure size 640x480 with 1 Axes>"
      ]
     },
     "metadata": {},
     "output_type": "display_data"
    }
   ],
   "source": [
    "data_df = pd.DataFrame([[100, 91], [121, 125], [123, 150]],\n",
    "                       index = ['April', 'May', 'June'],\n",
    "                       columns = ['Data A', 'Data B'])\n",
    "# 棒グラフ\n",
    "data_df.plot(kind = 'bar', title = 'bar graph')\n",
    "# 折れ線グラフ\n",
    "data_df.plot(kind = 'line', title = 'line graph')\n",
    "# 箱ひげ図\n",
    "data_df.plot(kind = 'box', title = 'boxplot')\n",
    "plt.show()"
   ]
  }
 ],
 "metadata": {
  "colab": {
   "authorship_tag": "ABX9TyOvzA+TVm5vyCkZQE5s3dTW",
   "provenance": [],
   "toc_visible": true
  },
  "kernelspec": {
   "display_name": "base",
   "language": "python",
   "name": "python3"
  },
  "language_info": {
   "codemirror_mode": {
    "name": "ipython",
    "version": 3
   },
   "file_extension": ".py",
   "mimetype": "text/x-python",
   "name": "python",
   "nbconvert_exporter": "python",
   "pygments_lexer": "ipython3",
   "version": "3.9.18"
  }
 },
 "nbformat": 4,
 "nbformat_minor": 0
}

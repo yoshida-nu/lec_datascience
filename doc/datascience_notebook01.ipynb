{
 "cells": [
  {
   "cell_type": "markdown",
   "metadata": {},
   "source": [
    "# Google Colaboratoryの基本操作\n",
    "*  Google Colaboratory（以下 Colab ）は，クラウド上で Pythonのプログラミング環境（細かく言うと [Jupyter Notebook](https://jupyter.org/) 環境）を提供する Google のウェブサービスの一つ\n",
    "*  ブラウザとGoogleのアカウントがあれば，制限はあるが誰でも無料で利用できる\n",
    "*  本講義では，[Google Chrome](https://www.google.com/intl/ja_jp/chrome/) をブラウザとして利用する\n",
    "*  Colab は「ノートブック」と呼ばれるファイルを使ってプログラミングを行う\n"
   ]
  },
  {
   "cell_type": "markdown",
   "metadata": {},
   "source": [
    "## ノートブックの基本構成\n",
    "![ノートブック名](./fig/01_notebook_name.png)  \n",
    "  \n",
    "*  ノートブックの左上方（上図の赤枠部）には，ノートブック名が表示されている\n",
    "*  ノートブック名は任意の名前に変更することができる\n",
    "*  ノートブック名の下には「ファイル」や「編集」などのメニューがある\n",
    "*  さらに，その下には「+ コード」と「+ テキスト」というボタンがある\n",
    "*  ノートブックの詳細については，本ノートブック末尾の参考資料などを参照する"
   ]
  },
  {
   "cell_type": "markdown",
   "metadata": {},
   "source": [
    "## ノートブックのコピー\n",
    "*  メニュー下の「ドライブにコピー」をクリックすると，ノートブックを複製（コピー）できる\n",
    "*  または，メニュー「ファイル」⇒「ドライブにコピーを保存」で複製（コピー）できる\n",
    "*  Classroom から提供するサンプルノートブックは，表示したら必ずコピーすること\n",
    "*  コピーされたノートブックは，Googleドライブ（マイドライブ > Colab notebooks）の中に保存される"
   ]
  },
  {
   "cell_type": "markdown",
   "metadata": {},
   "source": [
    "## ノートブック名\n",
    "*  ノートブック名は任意の名前に変更することができる\n",
    "*  コピーしたノートブックの名前は特に指定がなければ自由につけかえてよい\n",
    "*  ただし，本講義では課題などでノートブック名の書式を指定する場合があるので注意する"
   ]
  },
  {
   "cell_type": "markdown",
   "metadata": {},
   "source": [
    "## セルの基本操作\n",
    "*    ノートブックは複数の「セル」と呼ばれるブロックで構成される\n",
    "*    セルには「コードセル」と「テキストセル」の2種類がある \n",
    "*    セルの上のどこかをクリックすると，そのセルを選択することができる\n",
    "*    コードセルには，Pythonでコードを記述する\n",
    "*    テキストセルには，Markdown（文章を記述するためのマークアップ言語）を使った普通の文書（テキスト，見出し，箇条書き等）が記述できる\n",
    "*    テキストセルの上をダブルクリックすると，そのテキストセルの内容が編集可能となる\n",
    "*    本講義では，Markdown については特に扱わないが，例えば，以下のURLなどに簡単な説明がある  \n",
    ">https://colab.research.google.com/notebooks/markdown_guide.ipynb\n",
    "*    セルの追加はノートブック上部の[＋コード]と[＋テキスト]をクリック（他のやり方もあるので自分で調べてみる or 試してみる）\n",
    "*    セルの削除は，削除するセルを選択してから，ごみ箱アイコンをクリック（他のやり方もあるので自分で調べてみる or 試してみる）\n",
    "*    セルの編集において，よく使うショートカットキーには，以下のようなものがある\n",
    ">*  `[Ctrl] + [C]`: コピー\n",
    ">*  `[Ctrl] + [X]`: 切り取り\n",
    ">*  `[Ctrl] + [V]`: 貼り付け\n",
    ">*  `[Ctrl] + [Z]`: 元に戻す"
   ]
  },
  {
   "cell_type": "markdown",
   "metadata": {},
   "source": [
    "## コードの実行\n",
    "*   コードセルに記述したPythonのコードは， `[Ctrl] + [Enter]` で実行できる（他のやり方もあるので自分で調べてみる or 試してみる）\n",
    "*   試しに以下のコードを実行してみる\n",
    "*   コードの意味については，次回以降説明するので，今は気にしなくてよい\n",
    "\n"
   ]
  },
  {
   "cell_type": "code",
   "execution_count": 1,
   "metadata": {},
   "outputs": [
    {
     "name": "stdout",
     "output_type": "stream",
     "text": [
      "Hello World!\n"
     ]
    }
   ],
   "source": [
    "print('Hello World!')"
   ]
  },
  {
   "cell_type": "markdown",
   "metadata": {},
   "source": [
    "## キー入力について\n",
    "本講義では，文字や数字・記号をキーボードで打てることを前提としている．キーボード入力に慣れていない場合は，タッチタイピングの練習サイト（例えば[マナビジョン](https://manabi.benesse.ne.jp/gakushu/typing/)など）で操作を確認しておく．  \n",
    "記号の呼び方や入力に慣れていない場合は，解説サイト（例えば[こちら](https://ferret-plus.com/569)） 等で確認しておく\n"
   ]
  },
  {
   "cell_type": "markdown",
   "metadata": {},
   "source": [
    "## コメント\n",
    "*  コードセルにおいて，半角「`#`」から始まる行はコメント（メモ）になる\n",
    "*  「`#`」以降，その行の終わりまでがコメントになる\n",
    "*  コメントは行頭からでも，行の途中からでも始めることができる\n",
    "*  後でコードを読み返す時や，他の人がコードをみた時などにおいて，そのコードがどのような処理をしているかといった補足説明のために使う\n",
    "*  また，コードの特定箇所の先頭に「`#`」を付けて（コメント化して）一時的に除外することを「コメントアウト」と呼ぶ\n",
    "*  コメントアウトは，すでに記述されたコードを完全に削除するのではなく一時的に無効化し，動作などを確認する場合に行われる\n",
    "*  `[Ctrl] + [/]`でコメントアウトの設定・解除ができる"
   ]
  },
  {
   "cell_type": "code",
   "execution_count": null,
   "metadata": {},
   "outputs": [],
   "source": [
    "# printは括弧内で指定したデータを表示する関数\n",
    "print('Hello World!')"
   ]
  },
  {
   "cell_type": "markdown",
   "metadata": {},
   "source": [
    "## ノートブックの保存\n",
    "*  ノートブックは，`[Ctrl] + [S]` で手動保存できる\n",
    "*  なお，ノートブックは適当なタイミングで自動保存される\n",
    "*  メニューの右に「すべての変更を保存しました」と表示されていれば，現在の状態が保存されているので，手動保存する必要はない"
   ]
  },
  {
   "cell_type": "markdown",
   "metadata": {},
   "source": [
    "## ノートブックの設定\n",
    "![設定1](./fig/01_notebook_setting1.png)  \n",
    "\n",
    "*  ノートブック右上の歯車アイコン（上図赤枠部）をクリックすると，ノートブックの設定画面が表示される\n",
    "*  「エディタ」の設定を以下のようにしておく（下図参照）\n",
    ">*  **「インデント幅（スペース）」を「4」にする**\n",
    ">*  **「縦の罫線列」を「120」にする**\n",
    ">*  **「行番号を表示」にチェックを入れる**\n",
    ">*  **「インデントガイドの表示」にチェックを入れる**\n",
    "*  他の設定は任意（特に変更しなくてよい）\n",
    "*  設定が完了したら「保存」をクリックする  \n",
    "  \n",
    "![設定2](./fig/01_notebook_setting2.png)"
   ]
  },
  {
   "cell_type": "markdown",
   "metadata": {},
   "source": [
    "## よく使うショートカットキー\n",
    "*  セルに対する基本的な操作には，ショートカットキーが割り当てられている\n",
    "*  多くのショートカットキーが2段階になっている\n",
    "*  まず `[Ctrl] + [M]` を押してから，それぞれの機能によって異なるコマンド（キー）を入力する\n",
    "\n",
    "| 説明                 | コマンド      |\n",
    "|:---|:---|\n",
    "| テキストセルへ変更 | `[Ctrl] + [M] → [M]` |\n",
    "| コードセルへ変更     | `[Ctrl] + [M] → [Y]` |\n",
    "| コードの実行           | `[Ctrl] + [Enter]` |\n",
    "| セルを上に追加       | `[Ctrl] + [M] → [A]` |\n",
    "| セルを下に追加       | `[Ctrl] + [M] → [B]` |\n",
    "| セルのコピー         | `[Ctrl] + [M] → [C]` |\n",
    "| セルの貼り付け       | `[Ctrl] + [M] → [V]` |\n",
    "| セルの消去           | `[Ctrl] + [M] → [D]` |\n",
    "| コメントアウト       | `[Ctrl] + [/]`      |"
   ]
  },
  {
   "cell_type": "markdown",
   "metadata": {
    "id": "unkIYA58Wbu0"
   },
   "source": [
    "# Pythonの基礎"
   ]
  },
  {
   "cell_type": "markdown",
   "metadata": {},
   "source": [
    "## 文字列の取り扱い\n",
    "*  文字列はシングルクオート `'` またはダブルクオート `\"` で囲う\n",
    "*  逆にいうと，シングルクオート `'` またはダブルクオート `\"` で囲われたものは，すべて文字列とみなされる\n",
    "*  本講義ではシングルクオート `'` を基本的に利用する \n",
    "*  文字列は「文字列リテラル」とも呼ばれる\n",
    "\n",
    "**書式**： `'文字列'` または `\"文字列\"`  \n",
    "\n",
    "*  整数や小数などの数値（数値リテラルとも呼ばれる）は，シングルクオート `'` やダブルクオート `\"` で囲わずに記述できる"
   ]
  },
  {
   "cell_type": "markdown",
   "metadata": {},
   "source": [
    "## `print` 関数\n",
    "*  上のコードで使用した `print` はPythonであらかじめ用意してくれている「関数」の1つ\n",
    "*  関数はあらかじめ決めておいた一連の処理のこと\n",
    ">*  関数に引き渡すデータのことを引数と呼ぶ\n",
    ">*  関数を使うことを呼び出すという\n",
    ">*  関数が返す値（出力）を戻り値と呼ぶ\n",
    "*  あらかじめ用意されている関数を「組み込み関数」と呼ぶ\n",
    "*  Pythonには多くの組み込み関数が用意されている\n",
    "*  利用者は自由にそれらを使う（呼び出す）ことができる  \n",
    "*  関数呼び出しの書式: `関数名(引数)`  \n",
    "*  例： `print('Hello World!')` ⇒『文字列「Hello World!」を実行画面に表示しなさい』という意味を持つ命令\n",
    "*  実行画面のことを一般に「標準出力」と呼ぶ"
   ]
  },
  {
   "cell_type": "code",
   "execution_count": 2,
   "metadata": {
    "colab": {
     "base_uri": "https://localhost:8080/"
    },
    "executionInfo": {
     "elapsed": 12,
     "status": "ok",
     "timestamp": 1678335301982,
     "user": {
      "displayName": "Takahiro YOSHIDA",
      "userId": "00096252480874798687"
     },
     "user_tz": -540
    },
    "id": "l3cLNMBPk_hm",
    "outputId": "be69b6bb-292e-43ed-a1cc-93258d54b6de"
   },
   "outputs": [
    {
     "name": "stdout",
     "output_type": "stream",
     "text": [
      "Hello World!\n",
      "Pythonをはじめよう！\n"
     ]
    }
   ],
   "source": [
    "# コード1-1\n",
    "print('Hello World!')\n",
    "print('Pythonをはじめよう！')"
   ]
  },
  {
   "cell_type": "markdown",
   "metadata": {},
   "source": [
    "## リテラル\n",
    "*  コード内に記述された具体的な数値や文字列を一般に「リテラル」または「値」と呼ぶ\n",
    "*  ある特定の値をコードの中で何度も利用（処理）する場合，その都度，値を記述する必要がある ⇒ 大変・無駄\n",
    "*  このような場合には**変数**を使う"
   ]
  },
  {
   "cell_type": "markdown",
   "metadata": {},
   "source": [
    "## 変数\n",
    "*  変数とは，値を格納するための名前がついた箱のようなもの\n",
    "*  変数に値を格納することを**代入**と呼ぶ\n",
    "*  別の言い方をすると…\n",
    ">*  変数は特定の値を識別するために名前をつける仕組み\n",
    ">*  代入は値に名前をつけること ⇒ **変数の定義** "
   ]
  },
  {
   "cell_type": "markdown",
   "metadata": {},
   "source": [
    "### 代入の書式\n",
    "* `=` を用いる  \n",
    "\n",
    "**書式**： `変数名 = 値`\n",
    "\n",
    "*  数学的に `左辺 = 右辺` は，左辺と右辺が等しいという意味を持つが，Python では**左辺の変数に右辺の値を代入する**という意味になる"
   ]
  },
  {
   "cell_type": "code",
   "execution_count": null,
   "metadata": {
    "colab": {
     "base_uri": "https://localhost:8080/"
    },
    "executionInfo": {
     "elapsed": 5,
     "status": "ok",
     "timestamp": 1709612192044,
     "user": {
      "displayName": "Takahiro YOSHIDA",
      "userId": "00096252480874798687"
     },
     "user_tz": -540
    },
    "id": "0H-dCqzwvLY7",
    "outputId": "8bf01de3-9f31-49c9-fbf7-f5511a7aba00"
   },
   "outputs": [
    {
     "name": "stdout",
     "output_type": "stream",
     "text": [
      "test\n",
      "Python\n"
     ]
    }
   ],
   "source": [
    "# コード1-2\n",
    "#変数msgに文字列「test」を代入\n",
    "msg = 'test'\n",
    "print(msg)\n",
    "#変数msgに文字列「Python」を代入\n",
    "msg = 'Python'\n",
    "print(msg)"
   ]
  },
  {
   "cell_type": "markdown",
   "metadata": {},
   "source": [
    "### 変数名\n",
    "*  変数名は決められた命名ルールの範囲で自由に決めることができる\n",
    "*  変数名の命名ルール\n",
    ">*  半角のアルファベット `a`～`z`, `A`～`Z`, `_`(アンダースコア), 数字の`0`～`9`が使える\n",
    ">*  数字のみの変数名，先頭が数字の変数名は使えない\n",
    ">*  「予約語」と呼ばれる単語は使えない\n",
    ">>*  予約語はPythonの中であらかじめ別の目的で使用することが決まっているもの\n",
    ">>*  予約語（一部）: False, True, def, if, elif, else, import, whileなど\n",
    "*  よい変数名を付けるように心がける⇒ [参考サイト](https://web-camp.io/magazine/archives/117332)\n",
    ">*  変数名をみれば，それがどんな情報かわかるような名前を付けるのが望ましい\n",
    ">*  標準的な命名規則： キャメルケース，パスカルケース，スネークケースなど"
   ]
  },
  {
   "cell_type": "markdown",
   "metadata": {},
   "source": [
    "## コーディング規約\n",
    "*  コーディング規約とは，プログラマたちが守る書き方や形式に関するルール\n",
    "*  チームやプロジェクト，会社などで決められている\n",
    "*  コーディング規約を作成することのメリット\n",
    ">*  「可読性」「保守性」「品質」を高める\n",
    ">*  誰でも理解できる\n",
    ">*  誰でも修正・追加ができる\n",
    ">*  バグが少ないプログラムを誰でも作れる\n",
    "*  Pythonのコーディング規約： [PEP8（ペップエイト）](https://pep8-ja.readthedocs.io/ja/latest/)"
   ]
  },
  {
   "cell_type": "markdown",
   "metadata": {},
   "source": [
    "## 算術演算子\n",
    "*  計算（算術演算）するときに使う「`+`」「`-`」「`*`」「`/`」を算術演算子と呼ぶ\n",
    "*  数学（算数）の式と同様に括弧`()`を使って，計算の優先順位を変えることもできる\n",
    "\n",
    "|算術演算子| 意味 |\n",
    "|:-:|:--|\n",
    "| `+` | 加算 |\n",
    "| `-` | 減算 |\n",
    "| `*` | 乗算 |\n",
    "| `/` | 除算（小数） |\n",
    "| `//` | 除算の商（整数） |\n",
    "| `%` | 除算の余り（整数） |\n",
    "| `**` | べき乗 |\n",
    "\n"
   ]
  },
  {
   "cell_type": "code",
   "execution_count": null,
   "metadata": {
    "colab": {
     "base_uri": "https://localhost:8080/"
    },
    "executionInfo": {
     "elapsed": 316,
     "status": "ok",
     "timestamp": 1709612202573,
     "user": {
      "displayName": "Takahiro YOSHIDA",
      "userId": "00096252480874798687"
     },
     "user_tz": -540
    },
    "id": "zFeSgP8H6Go7",
    "outputId": "1ba3b4c2-3609-4c73-bab4-e64947b28ff1"
   },
   "outputs": [
    {
     "name": "stdout",
     "output_type": "stream",
     "text": [
      "3\n",
      "18\n",
      "8\n",
      "10\n",
      "11\n"
     ]
    }
   ],
   "source": [
    "# コード1-3\n",
    "#足し算\n",
    "print(1 + 2)\n",
    "#掛け算\n",
    "print(3 * 6)\n",
    "#10の3乗（べき乗）\n",
    "print(2 ** 3)\n",
    "#変数dataに10を代入\n",
    "data = 10\n",
    "print(data)\n",
    "#dataに1を足す\n",
    "data = data + 1\n",
    "print(data)"
   ]
  },
  {
   "cell_type": "markdown",
   "metadata": {},
   "source": [
    "### 算術演算子の優先順位\n",
    "*  式の中に複数の算術演算子が含まれる場合には，優先順位が高いものから順に処理される\n",
    "*  同じ優先順位の算術演算子が複数ある場合は，左にある演算子から処理される\n",
    "\n",
    "| 優先順位 | 算術演算子 |\n",
    "|:-:|:--|\n",
    "| 高 | `**` |\n",
    "| 中 | `*`, `/`, `%` |\n",
    "| 低 | `+`, `-` |\n",
    "\n",
    "*  式中の一部を丸括弧 `()` で囲むと，括弧内の演算から処理される"
   ]
  },
  {
   "cell_type": "markdown",
   "metadata": {
    "id": "ltK44y1Vdf6F"
   },
   "source": [
    "### 復号代入演算子\n",
    "*  自分自身の変数を使った演算結果を自分自身に代入することもできる  \n",
    ">*  例1: `x = x + 1`  \n",
    ">*  例2: `x = x - 1`  \n",
    ">*  例3: `x = x * 0.1`  \n",
    "\n",
    "*  上記の例は以下のように書くこともできる．  \n",
    ">*  例1: `x += 1`  \n",
    ">*  例2: `x -= 1`  \n",
    ">*  例3: `x *= 0.1`  \n",
    "*  このように，算術演算子と代入の`=`を組合わせたものを複合代入演算子と呼ぶ"
   ]
  },
  {
   "cell_type": "code",
   "execution_count": null,
   "metadata": {
    "colab": {
     "base_uri": "https://localhost:8080/"
    },
    "executionInfo": {
     "elapsed": 13,
     "status": "ok",
     "timestamp": 1694657905258,
     "user": {
      "displayName": "Takahiro YOSHIDA",
      "userId": "00096252480874798687"
     },
     "user_tz": -540
    },
    "id": "k9lYHP9LFm31",
    "outputId": "85471a79-3671-474e-b2ec-30275d49cd55"
   },
   "outputs": [
    {
     "name": "stdout",
     "output_type": "stream",
     "text": [
      "10\n",
      "3\n",
      "8\n"
     ]
    }
   ],
   "source": [
    "# コード1-4\n",
    "a = 10\n",
    "print(a)\n",
    "a = a - 7\n",
    "print(a)\n",
    "a += 5\n",
    "print(a)"
   ]
  },
  {
   "cell_type": "markdown",
   "metadata": {},
   "source": [
    "## f-strings（f文字列）\n",
    "*  シングルクオート（またはダブルクオート）で囲われた文字列に対して，先頭の文字列の前に「f」または「F」をつけることで，f文字列と呼ばれるフォーマットの文字列が利用できる \n",
    "*  f文字列を使った文字列中に中括弧 `{}` で変数や式を囲ったものを入れると，その位置に変数に格納された値や式の値が埋め込まれる\n",
    "*  f文字列は `print` 関数の引数の中で用いられることが多い．"
   ]
  },
  {
   "cell_type": "code",
   "execution_count": null,
   "metadata": {},
   "outputs": [
    {
     "name": "stdout",
     "output_type": "stream",
     "text": [
      "円周率は3.14です\n",
      "半径2cmの円の面積は12.56cm^2です\n"
     ]
    }
   ],
   "source": [
    "# コード1-5\n",
    "pi = 3.14\n",
    "r = 2\n",
    "print(f'円周率は{pi}です')\n",
    "print(f'半径{r}cmの円の面積は{r * r * pi}cm^2です')"
   ]
  },
  {
   "cell_type": "markdown",
   "metadata": {},
   "source": [
    "## オブジェクトとクラス"
   ]
  },
  {
   "cell_type": "markdown",
   "metadata": {},
   "source": [
    "### オブジェクト \n",
    "*  Pythonで取り扱うすべての値やより複雑なデータ構造を持つデータのことを総称して**オブジェクト**と呼ぶ\n",
    "*  オブジェクトには，様々な種類がある\n",
    ">*  代表的なオブジェクトの種類： 整数，実数，文字列など\n",
    ">*  この種類のことを**クラス**またはデータ型と呼ぶ\n",
    "*  クラスによって，Python内部での取り扱い方が異なる ⇒ クラスを意識することが重要\n",
    "*  オブジェクトはクラスから生成される\n",
    "*  変数はオブジェクトの入れ物，あるいは，オブジェクトに付けられた名札と解釈できる\n",
    "*  オブジェクトには，そのオブジェクト固有の属性（プロパティ）とメソッドが定義される\n",
    "*  メソッドはデータの処理方法\n",
    ">*  例: オブジェクトである文字列を大文字／小文字にする"
   ]
  },
  {
   "cell_type": "markdown",
   "metadata": {},
   "source": [
    "### クラス\n",
    "*  クラスはオブジェクトの雛形（設計図）のようなもの\n",
    ">* 設計図は，そのクラスのオブジェクトがどのような属性やメソッドを持っているかなどが定義される\n",
    "*  直感的なクラスのイメージ\n",
    ">*  たい焼き機がクラス\n",
    ">*  たい焼き機から作られるたい焼きがオブジェクト\n",
    ">*  たい焼きの中身や形（属性）は色々\n",
    "*  クラスは設計図なので，クラスがあるだけでは実体（オブジェクト）は存在しない\n",
    "*  オブジェクトは，クラスから生成されることで，初めて存在できる\n",
    "*  クラスから生成されたオブジェクトを「インスタンス」と呼ぶこともある"
   ]
  },
  {
   "cell_type": "markdown",
   "metadata": {},
   "source": [
    "### クラス（データ型）の種類（一部）\n",
    "|データ型| 値の内容 |\n",
    "|:--|:--|\n",
    "|int（整数型）| 整数（小数を含まない数） |\n",
    "|float（浮動小数点型）| 実数（小数を含む数） |\n",
    "|str（文字列型）| 文字列 |\n",
    "|bool（論理型）| TrueとFalseのいずれか |\n",
    "|list（リスト）| 複数の値をまとめて格納 |\n",
    "|tuple（タプル）| 複数の値をまとめて格納 |\n",
    "|set（セット）| 複数の値をまとめて格納（要素の重複を許さない） |\n",
    "|dict（ディクショナリ）| キー（key）と値（value）の組合せで複数の値を格納 |"
   ]
  },
  {
   "cell_type": "markdown",
   "metadata": {},
   "source": [
    "### `type` 関数\n",
    "*  あるオブジェクトのクラスを調べるには `type` 関数を使う\n",
    "*  `type` 関数は組み込み関数の一つ\n",
    "*  `type` 関数の引数として括弧内にオブジェクトそのものを指定することもできるし，変数を指定することもできる\n",
    "*  変数を指定した場合は，変数に代入されているオブジェクトのクラスを調べることになる"
   ]
  },
  {
   "cell_type": "code",
   "execution_count": null,
   "metadata": {
    "colab": {
     "base_uri": "https://localhost:8080/"
    },
    "executionInfo": {
     "elapsed": 292,
     "status": "ok",
     "timestamp": 1709613742149,
     "user": {
      "displayName": "Takahiro YOSHIDA",
      "userId": "00096252480874798687"
     },
     "user_tz": -540
    },
    "id": "qmVBXtN54dEP",
    "outputId": "bc205b7c-97ea-4c89-ec5d-2d21fcd376b3"
   },
   "outputs": [
    {
     "name": "stdout",
     "output_type": "stream",
     "text": [
      "<class 'int'>\n",
      "<class 'float'>\n",
      "<class 'str'>\n"
     ]
    }
   ],
   "source": [
    "# コード1-6\n",
    "a = 10\n",
    "b = 3.2\n",
    "c = 'Hello'\n",
    "#変数aに格納されている値（オブジェクト）のクラスを調べて表示する\n",
    "print(type(a))\n",
    "print(type(b))\n",
    "print(type(c))"
   ]
  },
  {
   "cell_type": "markdown",
   "metadata": {
    "id": "LjgsWbH734mz"
   },
   "source": [
    "上記コードの実行結果に表れるシングルクオートで囲まれた部分がデータ型となる．  "
   ]
  },
  {
   "cell_type": "markdown",
   "metadata": {},
   "source": [
    "### メソッド\n",
    "*  オブジェクトはあるクラスに属しており，各クラスには固有のメソッドが定義されている\n",
    "*  メソッドは，そのクラスに属するすべてのオブジェクトが利用できるもので，オブジェクトに対して何らかの処理を施す \n",
    "*  関数と同様に，メソッドを利用することを「呼び出す」といい，メソッドに引き渡す値を「引数」，メソッドが返す値を「戻り値」と呼ぶ\n",
    "*  オブジェクト（値）そのものに対するメソッド呼び出しの書式: `オブジェクト.メソッド名(引数1, 引数2, ...)`\n",
    ">*  例: `'Hello World!'.count('l')` ⇒ 文字列「Hello World!」の中に「l」が何回出てくるかを数える\n",
    "*  変数に対するメソッド呼び出しの書式:` 変数名.メソッド名(引数1, 引数2, ...)`\n"
   ]
  },
  {
   "cell_type": "code",
   "execution_count": null,
   "metadata": {},
   "outputs": [
    {
     "data": {
      "text/plain": [
       "3"
      ]
     },
     "execution_count": 9,
     "metadata": {},
     "output_type": "execute_result"
    }
   ],
   "source": [
    "# コード1-7\n",
    "text = 'Hello World!'\n",
    "text.count('l')"
   ]
  },
  {
   "cell_type": "markdown",
   "metadata": {},
   "source": [
    "### 属性\n",
    "*  クラスには属性が定義されている\n",
    ">*  例（人間クラスの属性）: 名前，年齢など\n",
    "*  クラスから生成された個々のオブジェクトに固有の属性値が定められる\n",
    ">*  例（人間クラスから生成されたあるオブジェクトの属性値）: 名前が「太郎」，年齢が「20」など\n",
    "*  属性は各オブジェクトの属性値を格納する変数名のようなもの \n",
    "*  属性へのアクセスの記法: `変数名.属性名`"
   ]
  },
  {
   "cell_type": "markdown",
   "metadata": {},
   "source": [
    "## リスト\n",
    "*  複数のデータをまとめて管理するときに使われるクラスの一つ\n",
    "*  リストに含まれる値を要素と呼ぶ\n",
    "*  整数のインデックス （要素番号）を使って要素にアクセスする\n",
    "*  リストは角括弧 `[ ]` を使って定義: `リスト名(変数名) = [要素0, 要素1, 要素2, ...]`\n",
    "*  `[ ]`内の各要素はカンマ `,` で区切る\n",
    "*  変数を要素として指定することもできる"
   ]
  },
  {
   "cell_type": "code",
   "execution_count": null,
   "metadata": {},
   "outputs": [
    {
     "name": "stdout",
     "output_type": "stream",
     "text": [
      "['おにぎり', 'パスタ', 'ハンバーガー', 'カレー', 'ラーメン']\n",
      "パスタ\n",
      "ラーメン\n",
      "['パスタ', 'ハンバーガー']\n",
      "['おにぎり', 'パスタ', 'ハンバーガー']\n",
      "['カレー', 'ラーメン']\n",
      "['おにぎり', 'パスタ', 'ハンバーガー', 'カレー', 'ラーメン']\n",
      "5\n"
     ]
    }
   ],
   "source": [
    "# コード1-8\n",
    "#リストの定義\n",
    "lunch = ['おにぎり', 'パスタ', 'ハンバーガー', 'カレー', 'ラーメン']\n",
    "print(lunch)\n",
    "#リストのインデックス指定\n",
    "print(lunch[1])\n",
    "print(lunch[-1])\n",
    "#リストのスライス指定\n",
    "print(lunch[1:3])\n",
    "print(lunch[:3])\n",
    "print(lunch[3:])\n",
    "print(lunch[:])\n",
    "#リストの長さ（要素数）\n",
    "print(len(lunch))"
   ]
  },
  {
   "cell_type": "markdown",
   "metadata": {},
   "source": [
    "上記コードで定義したリスト `lunch` の正負のインデックスは下表のとおり． \n",
    "\n",
    "||おにぎり|パスタ|ハンバーガー|カレー|ラーメン|\n",
    "|-|--|--|--|--|--|\n",
    "|非負（0か正）のインデックス|0|1|2|3|4|\n",
    "|負のインデックス|-5|-4|-3|-2|-1|"
   ]
  },
  {
   "cell_type": "markdown",
   "metadata": {},
   "source": [
    "### リスト（listクラス）に対するメソッド\n",
    "\n",
    "|メソッド名|意味|\n",
    "|:--|:--|\n",
    "`append` | リストの末尾に要素を追加する． |\n",
    "`extend` | リストの末尾にリストを連結する． |\n",
    "`insert` | リストの中の任意の場所に要素を挿入する． |\n",
    "`pop` | リストの末尾の要素を返し，リストから削除する． |\n",
    "`remove` | 要素を削除する． |\n",
    "`reverse` | リストの並び順を逆にする． |\n",
    "`sort` | リストを小さい順にして並べ替える． |\n",
    "`count` | 特定の値がリストの中に何個あるかを数える． |"
   ]
  },
  {
   "cell_type": "code",
   "execution_count": 12,
   "metadata": {
    "colab": {
     "base_uri": "https://localhost:8080/"
    },
    "executionInfo": {
     "elapsed": 4,
     "status": "ok",
     "timestamp": 1709622846287,
     "user": {
      "displayName": "Takahiro YOSHIDA",
      "userId": "00096252480874798687"
     },
     "user_tz": -540
    },
    "id": "u6rXdEP5dI9M",
    "outputId": "2c63c42e-11e4-4e2b-d14c-bccbf98e2689"
   },
   "outputs": [
    {
     "name": "stdout",
     "output_type": "stream",
     "text": [
      "[2, 5, 1, 4, 3]\n",
      "[2, 5, 1, 4, 3, 7]\n",
      "[1, 2, 3, 4, 5, 7]\n"
     ]
    }
   ],
   "source": [
    "# コード1-9\n",
    "a = [2, 5, 1, 4, 3]\n",
    "print(a)\n",
    "#末尾に値を追加\n",
    "a.append(7)\n",
    "#メソッドを呼び出した後は元のデータも変わる\n",
    "print(a)\n",
    "#小さい順に並べ替える\n",
    "a.sort()\n",
    "print(a)"
   ]
  }
 ],
 "metadata": {
  "colab": {
   "authorship_tag": "ABX9TyNTw33nKSb5Kuyo7uRbYddb",
   "provenance": [],
   "toc_visible": true
  },
  "kernelspec": {
   "display_name": "pythonv311",
   "language": "python",
   "name": "python3"
  },
  "language_info": {
   "codemirror_mode": {
    "name": "ipython",
    "version": 3
   },
   "file_extension": ".py",
   "mimetype": "text/x-python",
   "name": "python",
   "nbconvert_exporter": "python",
   "pygments_lexer": "ipython3",
   "version": "3.11.5"
  }
 },
 "nbformat": 4,
 "nbformat_minor": 0
}

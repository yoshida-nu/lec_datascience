{
 "cells": [
  {
   "cell_type": "markdown",
   "metadata": {
    "id": "2ymTsyyhzpvt"
   },
   "source": [
    "# 事前準備：共通コードの実行\n",
    "* このノートブックに接続したら，まずは以下の2つの共通コード（コードAとコードB）を実行する\n",
    "* これらの共通コードを実行しないと，それ以降のコードが実行できないので注意する\n",
    "* また，コードAとコードBは，ノートブックに接続するたび毎回実行すること（ノートブックに接続中は，何度も実行する必要はない）\n",
    "* 共通コードの詳細についての説明は割愛するので，コードの内容の理解は必須とはしない（実行結果を見やすくするための「おまじない」と考えればよい）"
   ]
  },
  {
   "cell_type": "code",
   "execution_count": null,
   "metadata": {
    "colab": {
     "base_uri": "https://localhost:8080/"
    },
    "executionInfo": {
     "elapsed": 18690,
     "status": "ok",
     "timestamp": 1715991945042,
     "user": {
      "displayName": "Takahiro YOSHIDA",
      "userId": "00096252480874798687"
     },
     "user_tz": -540
    },
    "id": "3pAqkx-zbIU2",
    "outputId": "f44879d9-8842-40eb-ba41-312077f7c7c9"
   },
   "outputs": [],
   "source": [
    "# コードA：日本語化ライブラリ導入\n",
    "! pip install japanize-matplotlib | tail -n 1"
   ]
  },
  {
   "cell_type": "code",
   "execution_count": 2,
   "metadata": {
    "executionInfo": {
     "elapsed": 2534,
     "status": "ok",
     "timestamp": 1715991961417,
     "user": {
      "displayName": "Takahiro YOSHIDA",
      "userId": "00096252480874798687"
     },
     "user_tz": -540
    },
    "id": "SOfPe7UybRuo"
   },
   "outputs": [],
   "source": [
    "# コードB：共通事前処理\n",
    "\n",
    "#B1:余分なワーニングを非表示にする\n",
    "import warnings\n",
    "warnings.filterwarnings('ignore')\n",
    "\n",
    "#必要ライブラリのimport\n",
    "import pandas as pd\n",
    "import numpy as np\n",
    "import matplotlib.pyplot as plt\n",
    "import japanize_matplotlib #matplotlib日本語化対応\n",
    "import seaborn as sns\n",
    "\n",
    "#B2:データフレーム表示用関数\n",
    "from IPython.display import display\n",
    "\n",
    "#B3:表示オプション調整\n",
    "np.set_printoptions(suppress = True, precision = 3) #numpyの浮動小数点の表示精度\n",
    "pd.options.display.float_format = '{:.3f}'.format #pandasでの浮動小数点の表示精度\n",
    "pd.set_option('display.max_columns', None) #データフレームですべての列データを表示\n",
    "\n",
    "#B4:グラフのデフォルトフォント指定\n",
    "plt.rcParams['font.size'] = 14\n",
    "\n",
    "#乱数の種\n",
    "random_seed = 123"
   ]
  },
  {
   "cell_type": "markdown",
   "metadata": {
    "id": "8D8sUDhst7aI"
   },
   "source": [
    "## コードAの補足\n",
    "このコードは，Pythonのパッケージを管理するためのシステムである`pip`を使用して，japanize-matplotlibというライブラリをインストールし，その出力の最後の1行だけを表示する．\n",
    "  \n",
    "*  `! pip install japanize-matplotlib`: `pip`の`install`コマンドを使って，japanize-matplotlibパッケージをインストールする．japanize-matplotlibは，Matplotlibライブラリで日本語の文字表示を可能にするためのパッケージである．\n",
    "*  `| tail -n 1`: Unix/Linuxの`tail`コマンドを使って，インストールプロセスの出力のうち最後の1行のみを表示する．パイプ`|`によって，`install`コマンドの出力が`tail`コマンドの入力となる．`-n 1`オプションは，末尾から1行だけを取得することを指定している．  \n",
    "  \n",
    "このコードは，Jupyter NotebookやGoogle ColaboratoryのようなPythonのインタラクティブな実行環境で使用されることが多い．`!`をコマンドの前に付けることで，Python環境内からシステムのコマンドを実行することができる．この場合，japanize-matplotlibのインストールが成功したかどうか，または関連する最後のメッセージを確認するために使われています．"
   ]
  },
  {
   "cell_type": "markdown",
   "metadata": {
    "id": "sIlFVjxLuxM5"
   },
   "source": [
    "## コードBの補足\n",
    "### B1:余分なワーニングを非表示にする\n",
    "この部分のコードで，コード実行後に表示される警告メッセージを非表示にしている．具体的には，Pythonの標準ライブラリである`warnings`モジュールの`filterwarnings`関数を使用する．`warnings`モジュールは、開発者（プログラマ）に警告（非致命的なエラーなど）を発するためのモジュールである．  \n",
    "  \n",
    "*  `import warnings`: `warnings`モジュールをインポートする．\n",
    "*  `warnings.filterwarnings('ignore')`: `filterwarnings`関数を使って，発生する警告を非表示にする（無視する）．\n",
    "\n",
    "この処理は，特定の警告が表示されることがわかっており，それによる出力が実行結果の可読性を損なう場合などに使われる（本講義でもこの目的で使っている）．ただし，警告メッセージはコードに潜在的な問題があることを知らせる重要な手がかりを提供するので，慎重に使用する必要がある．\n",
    "\n",
    "### B2:データフレーム表示用関数\n",
    "この部分のコードで，`IPython.display`モジュールから`display`関数をインポートしている．`IPython.display`モジュールは，IPython環境（Jupyter NotebookやGoogle Colaboratoryを含む）内でリッチなウェブベースのコンテンツを表示するためのツール群を提供する．\n",
    "\n",
    "`display`関数は，様々な形式のデータやメディアを豊かに表示するために使われる。．例えば，HTML，画像，DataFrame等の表示が含まれる．この関数を使用することで，標準の出力よりも見やすい表示にできる．\n",
    "\n",
    "### B3:表示オプション調整\n",
    "この部分のコードで，NumPyとPandasを使用する際の小数点以下の桁数表示を設定している．\n",
    "\n",
    "*  `np.set_printoptions(suppress = True, precision = 3)`:\n",
    "    *  `suppress = True`: 指数表記（例: `1e-4`）を使用しない．\n",
    "    *  `precision = 3`: 表示する小数点以下の桁数を3桁に設定する．\n",
    "    *  これにより，NumPyの配列の各要素が小数点以下3桁までの精度で表示される．\n",
    "*  `pd.options.display.float_format = '{:.3f}'.format`:\n",
    "    * PandasのDataFrameやSeries内のデータ型がfloatの数値に対するフォーマットを設定する．\n",
    "    * `'{:.3f}'.format`: 小数点以下3桁までの精度で表示するように設定している．\n",
    "*  `pd.set_option('display.max_columns', None)`:\n",
    "    *  `pd.set_option`: DataFrameの表示行数や列数などが指定できる．\n",
    "    *  `display.max_columns`: 表示する最大のカラム数を指定する．\n",
    "    *  `display.max_columns`の後ろに`None`を設定することで，DataFrameの列数の制限をなくし，利用可能なすべての列を表示することができる．\n",
    "\n",
    "\n",
    "### B4:グラフのデフォルトフォント指定\n",
    "この部分のコードで，matplotlibのグラフにおける文字サイズを設定している．`plt.rcParams`には，matplotlibのデフォルト設定が格納されている辞書型のデータ（辞書）である．この辞書を通じて，グラフの様々な視覚的要素（文字サイズ，線の太さ，色など）のデフォルト値を設定できる．\n",
    "  \n",
    "`plt.rcParams['font.size'] = 14`で，グラフ内のテキスト（タイトル，軸ラベル，凡例など）のデフォルトの文字サイズを14ポイントに設定している．\n",
    "\n",
    "\n",
    "\n",
    "\n",
    "\n",
    "\n"
   ]
  },
  {
   "cell_type": "markdown",
   "metadata": {
    "id": "SadltX0qRJmc"
   },
   "source": [
    "# 1次元データの要約"
   ]
  },
  {
   "cell_type": "markdown",
   "metadata": {
    "id": "bm-4JWWTS_os"
   },
   "source": [
    "## データの読み込み\n",
    "*  構造化（表形式）データをcsvファイルとして保存している場合には，そのファイルを読み込んでDataFrameに変換すると便利\n",
    "*  pandasの`read_csv`関数を使うと，引数に指定したcsvファイルのデータをDataFrameとして定義できる\n",
    "*  書式: `pd.read_csv(ファイルの場所（URLやパス）)`\n",
    "*  データ例として，以下のURLにあるcsvファイル（試験データその1）を用いる．\n",
    ">*  https://bit.ly/4if17aE\n",
    "*  このデータは架空の試験結果になっており，1000人分の英語，国語，数学，社会，理科の得点とそれらの合計得点を示している\n",
    "\n",
    "**［以下のコードの処理内容］**\n",
    "*  1行目: ファイルのURLを変数`url`に代入\n",
    "*  2行目: pandasの`read_csv`関数を使って，ファイルをDataFrameとして読み込んで，変数`df_exam`に代入\n",
    "*  3行目: `display`関数を使ってデータ（`df_exam`の内容）を表示\n"
   ]
  },
  {
   "cell_type": "code",
   "execution_count": null,
   "metadata": {
    "colab": {
     "base_uri": "https://localhost:8080/",
     "height": 423
    },
    "executionInfo": {
     "elapsed": 1282,
     "status": "ok",
     "timestamp": 1711758645582,
     "user": {
      "displayName": "Takahiro YOSHIDA",
      "userId": "00096252480874798687"
     },
     "user_tz": -540
    },
    "id": "zvmdAvJDTz9n",
    "outputId": "dedd43dd-93ee-456b-eced-b291ee83971a"
   },
   "outputs": [
    {
     "data": {
      "text/html": [
       "<div>\n",
       "<style scoped>\n",
       "    .dataframe tbody tr th:only-of-type {\n",
       "        vertical-align: middle;\n",
       "    }\n",
       "\n",
       "    .dataframe tbody tr th {\n",
       "        vertical-align: top;\n",
       "    }\n",
       "\n",
       "    .dataframe thead th {\n",
       "        text-align: right;\n",
       "    }\n",
       "</style>\n",
       "<table border=\"1\" class=\"dataframe\">\n",
       "  <thead>\n",
       "    <tr style=\"text-align: right;\">\n",
       "      <th></th>\n",
       "      <th>english</th>\n",
       "      <th>japanese</th>\n",
       "      <th>math</th>\n",
       "      <th>social</th>\n",
       "      <th>science</th>\n",
       "      <th>total</th>\n",
       "    </tr>\n",
       "  </thead>\n",
       "  <tbody>\n",
       "    <tr>\n",
       "      <th>0</th>\n",
       "      <td>36</td>\n",
       "      <td>40</td>\n",
       "      <td>35</td>\n",
       "      <td>68</td>\n",
       "      <td>35</td>\n",
       "      <td>214</td>\n",
       "    </tr>\n",
       "    <tr>\n",
       "      <th>1</th>\n",
       "      <td>47</td>\n",
       "      <td>87</td>\n",
       "      <td>57</td>\n",
       "      <td>86</td>\n",
       "      <td>56</td>\n",
       "      <td>333</td>\n",
       "    </tr>\n",
       "    <tr>\n",
       "      <th>2</th>\n",
       "      <td>73</td>\n",
       "      <td>68</td>\n",
       "      <td>87</td>\n",
       "      <td>93</td>\n",
       "      <td>90</td>\n",
       "      <td>411</td>\n",
       "    </tr>\n",
       "    <tr>\n",
       "      <th>3</th>\n",
       "      <td>47</td>\n",
       "      <td>96</td>\n",
       "      <td>63</td>\n",
       "      <td>88</td>\n",
       "      <td>63</td>\n",
       "      <td>357</td>\n",
       "    </tr>\n",
       "    <tr>\n",
       "      <th>4</th>\n",
       "      <td>85</td>\n",
       "      <td>83</td>\n",
       "      <td>89</td>\n",
       "      <td>91</td>\n",
       "      <td>92</td>\n",
       "      <td>440</td>\n",
       "    </tr>\n",
       "    <tr>\n",
       "      <th>...</th>\n",
       "      <td>...</td>\n",
       "      <td>...</td>\n",
       "      <td>...</td>\n",
       "      <td>...</td>\n",
       "      <td>...</td>\n",
       "      <td>...</td>\n",
       "    </tr>\n",
       "    <tr>\n",
       "      <th>995</th>\n",
       "      <td>52</td>\n",
       "      <td>65</td>\n",
       "      <td>57</td>\n",
       "      <td>62</td>\n",
       "      <td>57</td>\n",
       "      <td>293</td>\n",
       "    </tr>\n",
       "    <tr>\n",
       "      <th>996</th>\n",
       "      <td>50</td>\n",
       "      <td>67</td>\n",
       "      <td>39</td>\n",
       "      <td>61</td>\n",
       "      <td>37</td>\n",
       "      <td>254</td>\n",
       "    </tr>\n",
       "    <tr>\n",
       "      <th>997</th>\n",
       "      <td>69</td>\n",
       "      <td>86</td>\n",
       "      <td>68</td>\n",
       "      <td>80</td>\n",
       "      <td>69</td>\n",
       "      <td>372</td>\n",
       "    </tr>\n",
       "    <tr>\n",
       "      <th>998</th>\n",
       "      <td>56</td>\n",
       "      <td>51</td>\n",
       "      <td>30</td>\n",
       "      <td>100</td>\n",
       "      <td>29</td>\n",
       "      <td>266</td>\n",
       "    </tr>\n",
       "    <tr>\n",
       "      <th>999</th>\n",
       "      <td>53</td>\n",
       "      <td>81</td>\n",
       "      <td>94</td>\n",
       "      <td>32</td>\n",
       "      <td>98</td>\n",
       "      <td>358</td>\n",
       "    </tr>\n",
       "  </tbody>\n",
       "</table>\n",
       "<p>1000 rows × 6 columns</p>\n",
       "</div>"
      ],
      "text/plain": [
       "     english  japanese  math  social  science  total\n",
       "0         36        40    35      68       35    214\n",
       "1         47        87    57      86       56    333\n",
       "2         73        68    87      93       90    411\n",
       "3         47        96    63      88       63    357\n",
       "4         85        83    89      91       92    440\n",
       "..       ...       ...   ...     ...      ...    ...\n",
       "995       52        65    57      62       57    293\n",
       "996       50        67    39      61       37    254\n",
       "997       69        86    68      80       69    372\n",
       "998       56        51    30     100       29    266\n",
       "999       53        81    94      32       98    358\n",
       "\n",
       "[1000 rows x 6 columns]"
      ]
     },
     "metadata": {},
     "output_type": "display_data"
    }
   ],
   "source": [
    "url = 'https://bit.ly/4if17aE'\n",
    "df_exam = pd.read_csv(url)\n",
    "display(df_exam)"
   ]
  },
  {
   "cell_type": "markdown",
   "metadata": {
    "id": "myIY_kxCnplm"
   },
   "source": [
    "## 1次元データの数値化"
   ]
  },
  {
   "cell_type": "markdown",
   "metadata": {
    "id": "JwrSWyUNVgML"
   },
   "source": [
    "### 各種統計量の計算\n",
    "*  DataFrameに対する `describe`メソッドを使うと代表的な統計量を一括で計算できる\n",
    "\n",
    "|表示|統計量|\n",
    "|:-:|:-:|\n",
    "| count | データ数 |\n",
    "| mean  | 算術平均 |\n",
    "| std | 標準偏差 |\n",
    "| min | 最小値 |\n",
    "| 25% | 第1四分位数 |\n",
    "| 50% | 中央値 |\n",
    "| 75% | 第3四分位数 |\n",
    "| max | 最大値 |"
   ]
  },
  {
   "cell_type": "code",
   "execution_count": 5,
   "metadata": {
    "colab": {
     "base_uri": "https://localhost:8080/",
     "height": 300
    },
    "executionInfo": {
     "elapsed": 1023,
     "status": "ok",
     "timestamp": 1711758657986,
     "user": {
      "displayName": "Takahiro YOSHIDA",
      "userId": "00096252480874798687"
     },
     "user_tz": -540
    },
    "id": "I3oEUKoESJfg",
    "outputId": "4fa006b6-292e-4776-a2a3-d60abc8b56ca"
   },
   "outputs": [
    {
     "data": {
      "text/html": [
       "<div>\n",
       "<style scoped>\n",
       "    .dataframe tbody tr th:only-of-type {\n",
       "        vertical-align: middle;\n",
       "    }\n",
       "\n",
       "    .dataframe tbody tr th {\n",
       "        vertical-align: top;\n",
       "    }\n",
       "\n",
       "    .dataframe thead th {\n",
       "        text-align: right;\n",
       "    }\n",
       "</style>\n",
       "<table border=\"1\" class=\"dataframe\">\n",
       "  <thead>\n",
       "    <tr style=\"text-align: right;\">\n",
       "      <th></th>\n",
       "      <th>english</th>\n",
       "      <th>japanese</th>\n",
       "      <th>math</th>\n",
       "      <th>social</th>\n",
       "      <th>science</th>\n",
       "      <th>total</th>\n",
       "    </tr>\n",
       "  </thead>\n",
       "  <tbody>\n",
       "    <tr>\n",
       "      <th>count</th>\n",
       "      <td>1000.000</td>\n",
       "      <td>1000.000</td>\n",
       "      <td>1000.000</td>\n",
       "      <td>1000.000</td>\n",
       "      <td>1000.000</td>\n",
       "      <td>1000.000</td>\n",
       "    </tr>\n",
       "    <tr>\n",
       "      <th>mean</th>\n",
       "      <td>64.591</td>\n",
       "      <td>64.701</td>\n",
       "      <td>64.635</td>\n",
       "      <td>63.940</td>\n",
       "      <td>65.453</td>\n",
       "      <td>323.320</td>\n",
       "    </tr>\n",
       "    <tr>\n",
       "      <th>std</th>\n",
       "      <td>20.124</td>\n",
       "      <td>20.522</td>\n",
       "      <td>20.728</td>\n",
       "      <td>20.109</td>\n",
       "      <td>22.516</td>\n",
       "      <td>56.745</td>\n",
       "    </tr>\n",
       "    <tr>\n",
       "      <th>min</th>\n",
       "      <td>30.000</td>\n",
       "      <td>30.000</td>\n",
       "      <td>30.000</td>\n",
       "      <td>30.000</td>\n",
       "      <td>26.000</td>\n",
       "      <td>171.000</td>\n",
       "    </tr>\n",
       "    <tr>\n",
       "      <th>25%</th>\n",
       "      <td>48.000</td>\n",
       "      <td>47.000</td>\n",
       "      <td>46.000</td>\n",
       "      <td>47.000</td>\n",
       "      <td>45.000</td>\n",
       "      <td>284.000</td>\n",
       "    </tr>\n",
       "    <tr>\n",
       "      <th>50%</th>\n",
       "      <td>64.000</td>\n",
       "      <td>64.000</td>\n",
       "      <td>66.000</td>\n",
       "      <td>63.000</td>\n",
       "      <td>67.000</td>\n",
       "      <td>325.000</td>\n",
       "    </tr>\n",
       "    <tr>\n",
       "      <th>75%</th>\n",
       "      <td>81.000</td>\n",
       "      <td>83.000</td>\n",
       "      <td>83.000</td>\n",
       "      <td>80.000</td>\n",
       "      <td>85.000</td>\n",
       "      <td>364.000</td>\n",
       "    </tr>\n",
       "    <tr>\n",
       "      <th>max</th>\n",
       "      <td>100.000</td>\n",
       "      <td>100.000</td>\n",
       "      <td>100.000</td>\n",
       "      <td>100.000</td>\n",
       "      <td>100.000</td>\n",
       "      <td>488.000</td>\n",
       "    </tr>\n",
       "  </tbody>\n",
       "</table>\n",
       "</div>"
      ],
      "text/plain": [
       "       english  japanese     math   social  science    total\n",
       "count 1000.000  1000.000 1000.000 1000.000 1000.000 1000.000\n",
       "mean    64.591    64.701   64.635   63.940   65.453  323.320\n",
       "std     20.124    20.522   20.728   20.109   22.516   56.745\n",
       "min     30.000    30.000   30.000   30.000   26.000  171.000\n",
       "25%     48.000    47.000   46.000   47.000   45.000  284.000\n",
       "50%     64.000    64.000   66.000   63.000   67.000  325.000\n",
       "75%     81.000    83.000   83.000   80.000   85.000  364.000\n",
       "max    100.000   100.000  100.000  100.000  100.000  488.000"
      ]
     },
     "metadata": {},
     "output_type": "display_data"
    }
   ],
   "source": [
    "url = 'https://bit.ly/4if17aE'\n",
    "df_exam = pd.read_csv(url)\n",
    "display(df_exam.describe())"
   ]
  },
  {
   "cell_type": "markdown",
   "metadata": {
    "id": "iA-Ppw_NafT9"
   },
   "source": [
    "## 1次元データの可視化"
   ]
  },
  {
   "cell_type": "markdown",
   "metadata": {
    "id": "wa47Nm4rVBtb"
   },
   "source": [
    "### ヒストグラムの作成\n",
    "*  ヒストグラムなどのグラフをPythonで作成する場合には，matplotlibと呼ばれるライブラリのpyplotモジュールがよく使われる\n",
    "*  pyplotのインポートは省略形pltを使った記述が多い\n",
    ">*  書式: `import matplotlib.pyplot as plt`\n",
    "*  ヒストグラムを作成する場合はpyplotの`hist`関数を使う\n",
    "*  引数には1次元データを指定する\n",
    "*  DataFrameの場合は1列のみを引数に指定する\n",
    "*  DataFrameの特定の列は「`DataFrame['列インデックス']`」で指定できる\n",
    "*  引数に「`bins = 階級数`」を指定することで階級数が指定できる\n",
    "  \n",
    "**［以下のコードの処理内容］**\n",
    "*  1行目: ファイルのURLを変数`url`に代入\n",
    "*  2行目: pandasの`read_csv`関数を使って，ファイルをDataFrameとして読み込んで，変数`df_exam`に代入\n",
    "*  3行目: 合計得点（total列）のヒストグラムを作成\n",
    ">*  `exam['total']`でインデックス「total」の列のみを指定\n",
    ">*  `bins = 階級数15` で階級数を15に指定\n",
    "*  4～5行目: pyplotの`xlabel`関数と`ylabel`関数で横軸と縦軸の名前を指定\n",
    ">*  横軸のラベルを「total」とする\n",
    ">*  縦軸のラベルを「度数」とする\n",
    "*  6行目: `show`関数を呼び出すとそれまでに設定したグラフを実行画面に表示する（引数なし）※このコードの場合は呼び出さなくても実行できる"
   ]
  },
  {
   "cell_type": "code",
   "execution_count": 6,
   "metadata": {
    "colab": {
     "base_uri": "https://localhost:8080/",
     "height": 457
    },
    "executionInfo": {
     "elapsed": 1104,
     "status": "ok",
     "timestamp": 1714693488915,
     "user": {
      "displayName": "Takahiro YOSHIDA",
      "userId": "00096252480874798687"
     },
     "user_tz": -540
    },
    "id": "ISKMlIfJRNx8",
    "outputId": "2e332027-c010-4cd1-d2a4-59d56291814d"
   },
   "outputs": [
    {
     "data": {
      "image/png": "[encoded data removed]",
      "text/plain": [
       "<Figure size 640x480 with 1 Axes>"
      ]
     },
     "metadata": {},
     "output_type": "display_data"
    }
   ],
   "source": [
    "url = 'https://bit.ly/4if17aE'\n",
    "df_exam = pd.read_csv(url)\n",
    "plt.hist(df_exam['total'], bins=15)\n",
    "plt.xlabel('total')\n",
    "plt.ylabel('度数')\n",
    "plt.show()"
   ]
  },
  {
   "cell_type": "markdown",
   "metadata": {
    "id": "9sU-JXl9VPlJ"
   },
   "source": [
    "### 箱ひげ図の作成\n",
    "*  pyplotの`boxplot`関数で箱ひげ図が作成できる\n",
    "*  引数にDataFrameを指定すると，すべての列データに対する箱ひげ図が作成される\n",
    "*  また，特定の列を指定することもできる\n",
    "\n",
    "**［以下のコードの処理内容］**\n",
    "*  1行目: ファイルのURLを変数`url`に代入\n",
    "*  2行目: pandasの`read_csv`関数を使って，ファイルをDataFrameとして読み込んで，変数`df_exam`に代入\n",
    "*  3行目: english列とjapanese列の箱ひげ図を作成\n",
    "*  4行目: `xticks`関数で，横軸（x軸）のラベルを設定\n",
    ">*  1つ目の引数に座標値（数値）を指定\n",
    ">*  2つ目の引数に置き換え文字列を指定\n",
    ">*  `plt.xticks([1, 2], ['english', 'japanese'])` ⇒ 座標値が1のところをenglish，2のところをjapaneseに置き換える\n",
    "*  5行目: `show`関数で，それまでに設定したグラフを実行画面に表示\n",
    "\n",
    "\n",
    "**［箱ひげ図の見方］**\n",
    "*  箱の上底： 第3四分位点\n",
    "*  箱の下底： 第1四分位点\n",
    "*  箱の中の線： 中央値\n",
    "*  ひげ（箱から伸びている線）の上端／下端： 最大値／最小値（外れ値を除く）\n",
    "*  白丸○: 外れ値\n",
    "*  最大値・最小値の外側の円：外れ値"
   ]
  },
  {
   "cell_type": "code",
   "execution_count": null,
   "metadata": {
    "colab": {
     "base_uri": "https://localhost:8080/",
     "height": 434
    },
    "executionInfo": {
     "elapsed": 1119,
     "status": "ok",
     "timestamp": 1714694883226,
     "user": {
      "displayName": "Takahiro YOSHIDA",
      "userId": "00096252480874798687"
     },
     "user_tz": -540
    },
    "id": "C4M2TRwmvCBf",
    "outputId": "cceb710a-2adc-4759-ce2e-b67ce3e20fbe"
   },
   "outputs": [
    {
     "data": {
      "image/png": "[encoded data removed]",
      "text/plain": [
       "<Figure size 640x480 with 1 Axes>"
      ]
     },
     "metadata": {},
     "output_type": "display_data"
    }
   ],
   "source": [
    "url = 'https://bit.ly/4if17aE'\n",
    "df_exam = pd.read_csv(url)\n",
    "plt.boxplot(df_exam[['english', 'japanese']])\n",
    "plt.xticks([1, 2], ['english', 'japanese'])\n",
    "plt.show()"
   ]
  },
  {
   "cell_type": "markdown",
   "metadata": {
    "id": "CCBL2IaaVSa8"
   },
   "source": [
    "### バイオリンプロットの作成\n",
    "*  バイオリンプロットは，箱ひげ図に分布の曲線を加えたような図\n",
    "*  pyplotの`violinplot`関数を使って作成できる\n",
    "*  箱ひげ図と同様に，`violinplot`関数の引数にDataFrameを指定すると，すべての列データに対するバイオリンプロットが作成される\n",
    "*  特定の列を指定することもできる\n",
    "*  `showmedians`を引数に指定することで，中央値を示す線の表示・非表示が設定できる\n",
    ">*  `showmedians = True`: 表示\n",
    ">*  `showmedians = False`: 非表示（デフォルト）\n",
    "\n",
    "**［以下のコードの処理内容］**\n",
    "*  1行目: ファイルのURLを変数`url`に代入\n",
    "*  2行目: pandasの`read_csv`関数を使って，ファイルをDataFrameとして読み込んで，変数`df_exam`に代入\n",
    "*  3行目: `violinplot`関数で，合計得点（total列）のバイオリンプロットを作成\n",
    ">*  `df_exam['total']`でtotal列を指定\n",
    ">*  `showmedians = True`で中央値を示す線を表示\n",
    "*  4行目: `xticks`関数で，横軸のラベルを「total」とする\n",
    "*  5行目: `show`関数で，それまでに設定したグラフを実行画面に表示"
   ]
  },
  {
   "cell_type": "code",
   "execution_count": 17,
   "metadata": {
    "colab": {
     "base_uri": "https://localhost:8080/",
     "height": 437
    },
    "executionInfo": {
     "elapsed": 1220,
     "status": "ok",
     "timestamp": 1714694409596,
     "user": {
      "displayName": "Takahiro YOSHIDA",
      "userId": "00096252480874798687"
     },
     "user_tz": -540
    },
    "id": "QCdrRtNSpU7U",
    "outputId": "0737f8c9-e210-4db1-91e3-f57757029de6"
   },
   "outputs": [
    {
     "data": {
      "image/png": "[encoded data removed]",
      "text/plain": [
       "<Figure size 640x480 with 1 Axes>"
      ]
     },
     "metadata": {},
     "output_type": "display_data"
    }
   ],
   "source": [
    "url = 'https://bit.ly/4if17aE'\n",
    "df_exam = pd.read_csv(url)\n",
    "plt.violinplot(df_exam['total'], showmedians = True)\n",
    "plt.xticks([1], ['total'])\n",
    "plt.show()"
   ]
  },
  {
   "cell_type": "markdown",
   "metadata": {
    "id": "_IrSB65CCKkK"
   },
   "source": [
    "# 2次元データの要約"
   ]
  },
  {
   "cell_type": "markdown",
   "metadata": {
    "id": "On9xOnEXzAB3"
   },
   "source": [
    "## データの読み込み\n",
    "*  データ例として，以下のURLにあるcsvファイル（試験データその2）を用いる\n",
    ">*  https://bit.ly/4kjzBL6\n",
    "*  このデータは架空の試験結果になっており，20人分の5科目試験（国語，数学，英語，理科，社会）の得点を示している\n",
    "  \n",
    "**［以下のコードの処理内容］**\n",
    "*  1行目: ファイルのURLを変数`url`に代入\n",
    "*  2行目: pandasの`read_csv`関数を使って，ファイルをDataFrameとして読み込んで，変数`df_exam2`に代入\n",
    "*  3行目: `display`関数を使ってデータ（`df_exam2`の内容）を表示"
   ]
  },
  {
   "cell_type": "code",
   "execution_count": 8,
   "metadata": {
    "colab": {
     "base_uri": "https://localhost:8080/",
     "height": 676
    },
    "executionInfo": {
     "elapsed": 529,
     "status": "ok",
     "timestamp": 1711758766896,
     "user": {
      "displayName": "Takahiro YOSHIDA",
      "userId": "00096252480874798687"
     },
     "user_tz": -540
    },
    "id": "Ch8-5cQKzOLu",
    "outputId": "7507132b-f29a-4fb2-dbf1-44b8451e8abc"
   },
   "outputs": [
    {
     "data": {
      "text/html": [
       "<div>\n",
       "<style scoped>\n",
       "    .dataframe tbody tr th:only-of-type {\n",
       "        vertical-align: middle;\n",
       "    }\n",
       "\n",
       "    .dataframe tbody tr th {\n",
       "        vertical-align: top;\n",
       "    }\n",
       "\n",
       "    .dataframe thead th {\n",
       "        text-align: right;\n",
       "    }\n",
       "</style>\n",
       "<table border=\"1\" class=\"dataframe\">\n",
       "  <thead>\n",
       "    <tr style=\"text-align: right;\">\n",
       "      <th></th>\n",
       "      <th>国語</th>\n",
       "      <th>数学</th>\n",
       "      <th>英語</th>\n",
       "      <th>理科</th>\n",
       "      <th>社会</th>\n",
       "    </tr>\n",
       "  </thead>\n",
       "  <tbody>\n",
       "    <tr>\n",
       "      <th>0</th>\n",
       "      <td>84</td>\n",
       "      <td>63</td>\n",
       "      <td>85</td>\n",
       "      <td>64</td>\n",
       "      <td>86</td>\n",
       "    </tr>\n",
       "    <tr>\n",
       "      <th>1</th>\n",
       "      <td>80</td>\n",
       "      <td>64</td>\n",
       "      <td>76</td>\n",
       "      <td>69</td>\n",
       "      <td>80</td>\n",
       "    </tr>\n",
       "    <tr>\n",
       "      <th>2</th>\n",
       "      <td>77</td>\n",
       "      <td>66</td>\n",
       "      <td>81</td>\n",
       "      <td>68</td>\n",
       "      <td>78</td>\n",
       "    </tr>\n",
       "    <tr>\n",
       "      <th>3</th>\n",
       "      <td>81</td>\n",
       "      <td>73</td>\n",
       "      <td>86</td>\n",
       "      <td>78</td>\n",
       "      <td>81</td>\n",
       "    </tr>\n",
       "    <tr>\n",
       "      <th>4</th>\n",
       "      <td>78</td>\n",
       "      <td>70</td>\n",
       "      <td>81</td>\n",
       "      <td>74</td>\n",
       "      <td>75</td>\n",
       "    </tr>\n",
       "    <tr>\n",
       "      <th>5</th>\n",
       "      <td>69</td>\n",
       "      <td>71</td>\n",
       "      <td>77</td>\n",
       "      <td>74</td>\n",
       "      <td>72</td>\n",
       "    </tr>\n",
       "    <tr>\n",
       "      <th>6</th>\n",
       "      <td>72</td>\n",
       "      <td>70</td>\n",
       "      <td>76</td>\n",
       "      <td>72</td>\n",
       "      <td>82</td>\n",
       "    </tr>\n",
       "    <tr>\n",
       "      <th>7</th>\n",
       "      <td>63</td>\n",
       "      <td>63</td>\n",
       "      <td>71</td>\n",
       "      <td>74</td>\n",
       "      <td>65</td>\n",
       "    </tr>\n",
       "    <tr>\n",
       "      <th>8</th>\n",
       "      <td>66</td>\n",
       "      <td>53</td>\n",
       "      <td>67</td>\n",
       "      <td>62</td>\n",
       "      <td>72</td>\n",
       "    </tr>\n",
       "    <tr>\n",
       "      <th>9</th>\n",
       "      <td>70</td>\n",
       "      <td>65</td>\n",
       "      <td>72</td>\n",
       "      <td>66</td>\n",
       "      <td>68</td>\n",
       "    </tr>\n",
       "    <tr>\n",
       "      <th>10</th>\n",
       "      <td>73</td>\n",
       "      <td>69</td>\n",
       "      <td>77</td>\n",
       "      <td>70</td>\n",
       "      <td>76</td>\n",
       "    </tr>\n",
       "    <tr>\n",
       "      <th>11</th>\n",
       "      <td>78</td>\n",
       "      <td>73</td>\n",
       "      <td>80</td>\n",
       "      <td>73</td>\n",
       "      <td>90</td>\n",
       "    </tr>\n",
       "    <tr>\n",
       "      <th>12</th>\n",
       "      <td>75</td>\n",
       "      <td>70</td>\n",
       "      <td>79</td>\n",
       "      <td>71</td>\n",
       "      <td>71</td>\n",
       "    </tr>\n",
       "    <tr>\n",
       "      <th>13</th>\n",
       "      <td>64</td>\n",
       "      <td>58</td>\n",
       "      <td>68</td>\n",
       "      <td>64</td>\n",
       "      <td>70</td>\n",
       "    </tr>\n",
       "    <tr>\n",
       "      <th>14</th>\n",
       "      <td>73</td>\n",
       "      <td>72</td>\n",
       "      <td>80</td>\n",
       "      <td>73</td>\n",
       "      <td>68</td>\n",
       "    </tr>\n",
       "    <tr>\n",
       "      <th>15</th>\n",
       "      <td>73</td>\n",
       "      <td>52</td>\n",
       "      <td>77</td>\n",
       "      <td>63</td>\n",
       "      <td>77</td>\n",
       "    </tr>\n",
       "    <tr>\n",
       "      <th>16</th>\n",
       "      <td>77</td>\n",
       "      <td>75</td>\n",
       "      <td>73</td>\n",
       "      <td>77</td>\n",
       "      <td>79</td>\n",
       "    </tr>\n",
       "    <tr>\n",
       "      <th>17</th>\n",
       "      <td>72</td>\n",
       "      <td>76</td>\n",
       "      <td>79</td>\n",
       "      <td>75</td>\n",
       "      <td>74</td>\n",
       "    </tr>\n",
       "    <tr>\n",
       "      <th>18</th>\n",
       "      <td>72</td>\n",
       "      <td>58</td>\n",
       "      <td>78</td>\n",
       "      <td>64</td>\n",
       "      <td>73</td>\n",
       "    </tr>\n",
       "    <tr>\n",
       "      <th>19</th>\n",
       "      <td>77</td>\n",
       "      <td>55</td>\n",
       "      <td>84</td>\n",
       "      <td>60</td>\n",
       "      <td>80</td>\n",
       "    </tr>\n",
       "  </tbody>\n",
       "</table>\n",
       "</div>"
      ],
      "text/plain": [
       "    国語  数学  英語  理科  社会\n",
       "0   84  63  85  64  86\n",
       "1   80  64  76  69  80\n",
       "2   77  66  81  68  78\n",
       "3   81  73  86  78  81\n",
       "4   78  70  81  74  75\n",
       "5   69  71  77  74  72\n",
       "6   72  70  76  72  82\n",
       "7   63  63  71  74  65\n",
       "8   66  53  67  62  72\n",
       "9   70  65  72  66  68\n",
       "10  73  69  77  70  76\n",
       "11  78  73  80  73  90\n",
       "12  75  70  79  71  71\n",
       "13  64  58  68  64  70\n",
       "14  73  72  80  73  68\n",
       "15  73  52  77  63  77\n",
       "16  77  75  73  77  79\n",
       "17  72  76  79  75  74\n",
       "18  72  58  78  64  73\n",
       "19  77  55  84  60  80"
      ]
     },
     "metadata": {},
     "output_type": "display_data"
    }
   ],
   "source": [
    "url = 'https://bit.ly/4kjzBL6'\n",
    "df_exam2 = pd.read_csv(url)\n",
    "display(df_exam2)"
   ]
  },
  {
   "cell_type": "markdown",
   "metadata": {
    "id": "2j1FdQFVdLXd"
   },
   "source": [
    "## 散布図の作成\n",
    "*  pypolotの`scatter`関数で散布図を作成できる\n",
    "*  `scatter`関数の引数にDataFrameの列データを2つ指定する\n",
    ">*  1つ目の引数: 横軸に取りたいデータの列名\n",
    ">*  2つ目の引数: 縦軸に取りたいデータの列名\n",
    "*  `xlabel`関数，`ylabel`関数で各軸のラベルを設定できる\n",
    "  \n",
    "**［以下のコードの処理内容］**\n",
    "*  1行目: ファイルのURLを変数`url`に代入\n",
    "*  2行目: pandasの`read_csv`関数を使って，ファイルをDataFrameとして読み込んで，変数`df_exam2`に代入\n",
    "*  3行目: `scatter`関数を使って国語と数学の散布図を作成\n",
    ">*  `df_exam2['国語']`でx軸を指定\n",
    ">*  `df_exam2['数学']`でy軸を指定\n",
    "*  4～5行目: `xlabel`関数と`ylabel`関数各軸のラベルをそれぞれ「国語」「数学」に設定\n",
    "*  6行目: `show`関数で，それまでに設定した図（国語と数学の散布図）を実行画面に表示\n",
    "*  7～9: 同様にして国語と英語の散布図を作成\n",
    "*  10行目: `show`関数で，それまでに設定した図（国語と英語の散布図）を実行画面に表示"
   ]
  },
  {
   "cell_type": "code",
   "execution_count": 16,
   "metadata": {
    "colab": {
     "base_uri": "https://localhost:8080/",
     "height": 897
    },
    "executionInfo": {
     "elapsed": 736,
     "status": "ok",
     "timestamp": 1714689469865,
     "user": {
      "displayName": "Takahiro YOSHIDA",
      "userId": "00096252480874798687"
     },
     "user_tz": -540
    },
    "id": "p6F-HZM5dOKm",
    "outputId": "ed9a3975-bd19-40dd-c015-870d42a1ee65"
   },
   "outputs": [
    {
     "data": {
      "image/png": "[encoded data removed]",
      "text/plain": [
       "<Figure size 640x480 with 1 Axes>"
      ]
     },
     "metadata": {},
     "output_type": "display_data"
    },
    {
     "data": {
      "image/png": "[encoded data removed]",
      "text/plain": [
       "<Figure size 640x480 with 1 Axes>"
      ]
     },
     "metadata": {},
     "output_type": "display_data"
    }
   ],
   "source": [
    "url = 'https://bit.ly/4kjzBL6'\n",
    "df_exam2 = pd.read_csv(url)\n",
    "plt.scatter(df_exam2['国語'], df_exam2['数学'])\n",
    "plt.xlabel('国語')\n",
    "plt.ylabel('数学')\n",
    "plt.show()\n",
    "plt.scatter(df_exam2['国語'], df_exam2['英語'])\n",
    "plt.xlabel('国語')\n",
    "plt.ylabel('英語')\n",
    "plt.show()"
   ]
  },
  {
   "cell_type": "markdown",
   "metadata": {},
   "source": [
    "### 散布図から読み取れること\n",
    "*  国語と数学の得点には相関がなさそう\n",
    "*  国語と英語の得点には強い正の相関がある"
   ]
  },
  {
   "cell_type": "markdown",
   "metadata": {
    "id": "mZcc_D4W4576"
   },
   "source": [
    "## 散布図行列の作成\n",
    "*  3つ以上の変数に対しては複数の散布図が作成できる\n",
    "*  例えば，試験データその2は5つ（5科目）の変数があるので，10パターンの散布図が作成できる\n",
    "*  複数の変数の組合せに対する散布図を行列の形式で並べたものを散布図行列と呼ぶ（対角成分の位置には各変数のヒストグラムを描画） \n",
    "*  散布図行列を作成するにはseabornモジュール（`sns`と略してインポート）の`pairplot`関数を用いる\n",
    "*  `pairplot`関数の引数には，DataFrameの複数の列データを指定する\n",
    "*  DataFrame自身を引数とすると，すべての列データに対する散布図行列が作成される\n",
    "  \n",
    "**［以下のコードの処理内容］**\n",
    "*  1行目: ファイルのURLを変数`url`に代入\n",
    "*  2行目: pandasの`read_csv`関数を使って，ファイルをDataFrameとして読み込んで，変数`df_exam2`に代入\n",
    "*  3行目: `pairplot`関数を使って散布図行列を作成\n",
    "*  4行目: `show`関数で，それまでに設定した図（散布図行列）を実行画面に表示"
   ]
  },
  {
   "cell_type": "code",
   "execution_count": 18,
   "metadata": {
    "colab": {
     "base_uri": "https://localhost:8080/",
     "height": 1000
    },
    "executionInfo": {
     "elapsed": 9535,
     "status": "ok",
     "timestamp": 1710049655254,
     "user": {
      "displayName": "Takahiro YOSHIDA",
      "userId": "00096252480874798687"
     },
     "user_tz": -540
    },
    "id": "cLO4OjAjevMV",
    "outputId": "f5ff61a3-ad9b-48ba-9635-beece2ca63c2"
   },
   "outputs": [
    {
     "data": {
      "image/png": "[encoded data removed]",
      "text/plain": [
       "<Figure size 1250x1250 with 30 Axes>"
      ]
     },
     "metadata": {},
     "output_type": "display_data"
    }
   ],
   "source": [
    "url = 'https://bit.ly/4kjzBL6'\n",
    "df_exam2 = pd.read_csv(url)\n",
    "sns.pairplot(df_exam2)\n",
    "plt.show()"
   ]
  },
  {
   "cell_type": "markdown",
   "metadata": {
    "id": "tWOOoNOshOBM"
   },
   "source": [
    "## 分散共分散行列の計算\n",
    "* 分散（標本分散／不偏分散）と共分散を行列の形式で並べたものを分散共分散行列と呼ぶ\n",
    "* 分散共分散行列は`cov`メソッドで計算でき，引数には計算対象とする列名のリストを指定する\n",
    "* 引数`ddof`で分散と共分散の分母を指定することができる\n",
    ">*  `ddof = 0` ⇒ $n$で割った標本分散と共分散（標本共分散）を計算\n",
    ">*  `ddof = 1` ⇒ $n-1$で割った不偏分散と不偏共分散を計算\n",
    "  \n",
    "**［以下のコードの処理内容］**\n",
    "*  1行目: ファイルのURLを変数`url`に代入\n",
    "*  2行目: pandasの`read_csv`関数を使って，ファイルをDataFrameとして読み込んで，変数`df_exam2`に代入\n",
    "*  3行目: `cov`メソッドで，国語と数学（`df_exam2[['国語', '数学']]`）の分散共分散行列を計算し，`display`関数で表示\n",
    ">*  `ddof = 0`なので，分母をnとした標本分散と共分散（標本共分散）を計算している"
   ]
  },
  {
   "cell_type": "code",
   "execution_count": 19,
   "metadata": {
    "colab": {
     "base_uri": "https://localhost:8080/",
     "height": 112
    },
    "executionInfo": {
     "elapsed": 1992,
     "status": "ok",
     "timestamp": 1710050458341,
     "user": {
      "displayName": "Takahiro YOSHIDA",
      "userId": "00096252480874798687"
     },
     "user_tz": -540
    },
    "id": "KSvg-SNcn1n0",
    "outputId": "0213d7d6-0f75-485a-9e73-069a05ad1b1e"
   },
   "outputs": [
    {
     "data": {
      "text/html": [
       "<div>\n",
       "<style scoped>\n",
       "    .dataframe tbody tr th:only-of-type {\n",
       "        vertical-align: middle;\n",
       "    }\n",
       "\n",
       "    .dataframe tbody tr th {\n",
       "        vertical-align: top;\n",
       "    }\n",
       "\n",
       "    .dataframe thead th {\n",
       "        text-align: right;\n",
       "    }\n",
       "</style>\n",
       "<table border=\"1\" class=\"dataframe\">\n",
       "  <thead>\n",
       "    <tr style=\"text-align: right;\">\n",
       "      <th></th>\n",
       "      <th>国語</th>\n",
       "      <th>数学</th>\n",
       "    </tr>\n",
       "  </thead>\n",
       "  <tbody>\n",
       "    <tr>\n",
       "      <th>国語</th>\n",
       "      <td>29.210</td>\n",
       "      <td>11.840</td>\n",
       "    </tr>\n",
       "    <tr>\n",
       "      <th>数学</th>\n",
       "      <td>11.840</td>\n",
       "      <td>51.660</td>\n",
       "    </tr>\n",
       "  </tbody>\n",
       "</table>\n",
       "</div>"
      ],
      "text/plain": [
       "       国語     数学\n",
       "国語 29.210 11.840\n",
       "数学 11.840 51.660"
      ]
     },
     "metadata": {},
     "output_type": "display_data"
    }
   ],
   "source": [
    "url = 'https://bit.ly/4kjzBL6'\n",
    "df_exam2 = pd.read_csv(url)\n",
    "display(df_exam2[['国語', '数学']].cov(ddof = 0))"
   ]
  },
  {
   "cell_type": "markdown",
   "metadata": {},
   "source": [
    "*  3つ以上の列データを指定するとすべての組み合わせの共分散が計算できる\n",
    "*  対角成分は各データの標本分散または不偏分散\n",
    "\n",
    "\n",
    "**［以下のコードの処理内容］**\n",
    "*  1行目: ファイルのURLを変数`url`に代入\n",
    "*  2行目: pandasの`read_csv`関数を使って，ファイルをDataFrameとして読み込んで，変数`df_exam2`に代入\n",
    "*  3行目: `cov`メソッドで，5科目すべて（`df_exam2`）の分散共分散行列を計算し，`display`関数で表示\n",
    ">*  `ddof = 0`なので，分母をnとした標本分散と共分散（標本共分散）を計算している"
   ]
  },
  {
   "cell_type": "code",
   "execution_count": 20,
   "metadata": {
    "colab": {
     "base_uri": "https://localhost:8080/",
     "height": 206
    },
    "executionInfo": {
     "elapsed": 876,
     "status": "ok",
     "timestamp": 1710050523012,
     "user": {
      "displayName": "Takahiro YOSHIDA",
      "userId": "00096252480874798687"
     },
     "user_tz": -540
    },
    "id": "y6U8sd9npNrD",
    "outputId": "22fa8d1e-2059-4536-b6db-206b77ac3c1e"
   },
   "outputs": [
    {
     "data": {
      "text/html": [
       "<div>\n",
       "<style scoped>\n",
       "    .dataframe tbody tr th:only-of-type {\n",
       "        vertical-align: middle;\n",
       "    }\n",
       "\n",
       "    .dataframe tbody tr th {\n",
       "        vertical-align: top;\n",
       "    }\n",
       "\n",
       "    .dataframe thead th {\n",
       "        text-align: right;\n",
       "    }\n",
       "</style>\n",
       "<table border=\"1\" class=\"dataframe\">\n",
       "  <thead>\n",
       "    <tr style=\"text-align: right;\">\n",
       "      <th></th>\n",
       "      <th>国語</th>\n",
       "      <th>数学</th>\n",
       "      <th>英語</th>\n",
       "      <th>理科</th>\n",
       "      <th>社会</th>\n",
       "    </tr>\n",
       "  </thead>\n",
       "  <tbody>\n",
       "    <tr>\n",
       "      <th>国語</th>\n",
       "      <td>29.210</td>\n",
       "      <td>11.840</td>\n",
       "      <td>21.955</td>\n",
       "      <td>3.965</td>\n",
       "      <td>25.105</td>\n",
       "    </tr>\n",
       "    <tr>\n",
       "      <th>数学</th>\n",
       "      <td>11.840</td>\n",
       "      <td>51.660</td>\n",
       "      <td>11.270</td>\n",
       "      <td>33.710</td>\n",
       "      <td>7.020</td>\n",
       "    </tr>\n",
       "    <tr>\n",
       "      <th>英語</th>\n",
       "      <td>21.955</td>\n",
       "      <td>11.270</td>\n",
       "      <td>25.528</td>\n",
       "      <td>4.508</td>\n",
       "      <td>16.853</td>\n",
       "    </tr>\n",
       "    <tr>\n",
       "      <th>理科</th>\n",
       "      <td>3.965</td>\n",
       "      <td>33.710</td>\n",
       "      <td>4.508</td>\n",
       "      <td>27.348</td>\n",
       "      <td>0.683</td>\n",
       "    </tr>\n",
       "    <tr>\n",
       "      <th>社会</th>\n",
       "      <td>25.105</td>\n",
       "      <td>7.020</td>\n",
       "      <td>16.853</td>\n",
       "      <td>0.683</td>\n",
       "      <td>37.928</td>\n",
       "    </tr>\n",
       "  </tbody>\n",
       "</table>\n",
       "</div>"
      ],
      "text/plain": [
       "       国語     数学     英語     理科     社会\n",
       "国語 29.210 11.840 21.955  3.965 25.105\n",
       "数学 11.840 51.660 11.270 33.710  7.020\n",
       "英語 21.955 11.270 25.528  4.508 16.853\n",
       "理科  3.965 33.710  4.508 27.348  0.683\n",
       "社会 25.105  7.020 16.853  0.683 37.928"
      ]
     },
     "metadata": {},
     "output_type": "display_data"
    }
   ],
   "source": [
    "url = 'https://bit.ly/4kjzBL6'\n",
    "df_exam2 = pd.read_csv(url)\n",
    "display(df_exam2.cov(ddof = 0))"
   ]
  },
  {
   "cell_type": "markdown",
   "metadata": {
    "id": "uLh97ZXt3T3L"
   },
   "source": [
    "## 相関係数の計算\n",
    "*  相関係数はDataFrameの`corr`メソッドで計算でき，引数には計算対象とする列名のリストを指定する\n",
    "*  結果は，`cov`メソッドと同様に行列形式で表示される\n",
    "*  対角成分は，同じ変数同士の相関係数を計算しているので，常に1となる\n",
    "  \n",
    "**［以下のコードの処理内容］**\n",
    "*  1行目: ファイルのURLを変数`url`に代入\n",
    "*  2行目: pandasの`read_csv`関数を使って，ファイルをDataFrameとして読み込んで，変数`df_exam2`に代入\n",
    "*  3行目: `cov`メソッドで，国語と数学（`df_exam2[['国語', '数学']]`）の相関係数を計算し，`display`関数で表示"
   ]
  },
  {
   "cell_type": "code",
   "execution_count": 21,
   "metadata": {
    "colab": {
     "base_uri": "https://localhost:8080/",
     "height": 112
    },
    "executionInfo": {
     "elapsed": 824,
     "status": "ok",
     "timestamp": 1710050617580,
     "user": {
      "displayName": "Takahiro YOSHIDA",
      "userId": "00096252480874798687"
     },
     "user_tz": -540
    },
    "id": "Xsg-Ji41pg9j",
    "outputId": "dd7c222c-47a3-47e7-f7ff-49d75d9cb34f"
   },
   "outputs": [
    {
     "data": {
      "text/html": [
       "<div>\n",
       "<style scoped>\n",
       "    .dataframe tbody tr th:only-of-type {\n",
       "        vertical-align: middle;\n",
       "    }\n",
       "\n",
       "    .dataframe tbody tr th {\n",
       "        vertical-align: top;\n",
       "    }\n",
       "\n",
       "    .dataframe thead th {\n",
       "        text-align: right;\n",
       "    }\n",
       "</style>\n",
       "<table border=\"1\" class=\"dataframe\">\n",
       "  <thead>\n",
       "    <tr style=\"text-align: right;\">\n",
       "      <th></th>\n",
       "      <th>国語</th>\n",
       "      <th>数学</th>\n",
       "    </tr>\n",
       "  </thead>\n",
       "  <tbody>\n",
       "    <tr>\n",
       "      <th>国語</th>\n",
       "      <td>1.000</td>\n",
       "      <td>0.305</td>\n",
       "    </tr>\n",
       "    <tr>\n",
       "      <th>数学</th>\n",
       "      <td>0.305</td>\n",
       "      <td>1.000</td>\n",
       "    </tr>\n",
       "  </tbody>\n",
       "</table>\n",
       "</div>"
      ],
      "text/plain": [
       "      国語    数学\n",
       "国語 1.000 0.305\n",
       "数学 0.305 1.000"
      ]
     },
     "metadata": {},
     "output_type": "display_data"
    }
   ],
   "source": [
    "url = 'https://bit.ly/4kjzBL6'\n",
    "df_exam2 = pd.read_csv(url)\n",
    "display(df_exam2[['国語', '数学']].corr())"
   ]
  },
  {
   "cell_type": "markdown",
   "metadata": {},
   "source": [
    "*  分散共分散行列と同様に相関係数も複数データに対して，まとめて計算・表示することができる\n",
    "  \n",
    "**［以下のコードの処理内容］**\n",
    "*  1行目: ファイルのURLを変数`url`に代入\n",
    "*  2行目: pandasの`read_csv`関数を使って，ファイルをDataFrameとして読み込んで，変数`df_exam2`に代入\n",
    "*  3行目: `cov`メソッドで，5科目すべて（`df_exam2`）の相関係数を計算し，`display`関数で表示"
   ]
  },
  {
   "cell_type": "code",
   "execution_count": 22,
   "metadata": {
    "colab": {
     "base_uri": "https://localhost:8080/",
     "height": 206
    },
    "executionInfo": {
     "elapsed": 1074,
     "status": "ok",
     "timestamp": 1710050854724,
     "user": {
      "displayName": "Takahiro YOSHIDA",
      "userId": "00096252480874798687"
     },
     "user_tz": -540
    },
    "id": "_-Ce2IvsqqhL",
    "outputId": "80f72e29-87a2-431f-90e4-0a74ed01ec2e"
   },
   "outputs": [
    {
     "data": {
      "text/html": [
       "<div>\n",
       "<style scoped>\n",
       "    .dataframe tbody tr th:only-of-type {\n",
       "        vertical-align: middle;\n",
       "    }\n",
       "\n",
       "    .dataframe tbody tr th {\n",
       "        vertical-align: top;\n",
       "    }\n",
       "\n",
       "    .dataframe thead th {\n",
       "        text-align: right;\n",
       "    }\n",
       "</style>\n",
       "<table border=\"1\" class=\"dataframe\">\n",
       "  <thead>\n",
       "    <tr style=\"text-align: right;\">\n",
       "      <th></th>\n",
       "      <th>国語</th>\n",
       "      <th>数学</th>\n",
       "      <th>英語</th>\n",
       "      <th>理科</th>\n",
       "      <th>社会</th>\n",
       "    </tr>\n",
       "  </thead>\n",
       "  <tbody>\n",
       "    <tr>\n",
       "      <th>国語</th>\n",
       "      <td>1.000</td>\n",
       "      <td>0.305</td>\n",
       "      <td>0.804</td>\n",
       "      <td>0.140</td>\n",
       "      <td>0.754</td>\n",
       "    </tr>\n",
       "    <tr>\n",
       "      <th>数学</th>\n",
       "      <td>0.305</td>\n",
       "      <td>1.000</td>\n",
       "      <td>0.310</td>\n",
       "      <td>0.897</td>\n",
       "      <td>0.159</td>\n",
       "    </tr>\n",
       "    <tr>\n",
       "      <th>英語</th>\n",
       "      <td>0.804</td>\n",
       "      <td>0.310</td>\n",
       "      <td>1.000</td>\n",
       "      <td>0.171</td>\n",
       "      <td>0.542</td>\n",
       "    </tr>\n",
       "    <tr>\n",
       "      <th>理科</th>\n",
       "      <td>0.140</td>\n",
       "      <td>0.897</td>\n",
       "      <td>0.171</td>\n",
       "      <td>1.000</td>\n",
       "      <td>0.021</td>\n",
       "    </tr>\n",
       "    <tr>\n",
       "      <th>社会</th>\n",
       "      <td>0.754</td>\n",
       "      <td>0.159</td>\n",
       "      <td>0.542</td>\n",
       "      <td>0.021</td>\n",
       "      <td>1.000</td>\n",
       "    </tr>\n",
       "  </tbody>\n",
       "</table>\n",
       "</div>"
      ],
      "text/plain": [
       "      国語    数学    英語    理科    社会\n",
       "国語 1.000 0.305 0.804 0.140 0.754\n",
       "数学 0.305 1.000 0.310 0.897 0.159\n",
       "英語 0.804 0.310 1.000 0.171 0.542\n",
       "理科 0.140 0.897 0.171 1.000 0.021\n",
       "社会 0.754 0.159 0.542 0.021 1.000"
      ]
     },
     "metadata": {},
     "output_type": "display_data"
    }
   ],
   "source": [
    "url = 'https://bit.ly/4kjzBL6'\n",
    "df_exam2 = pd.read_csv(url)\n",
    "display(df_exam2.corr())"
   ]
  },
  {
   "cell_type": "markdown",
   "metadata": {
    "id": "21WPwNzUDCPA"
   },
   "source": [
    "## ヒートマップの作成\n",
    "*  ヒートマップとは数値データ（ここでは相関係数）の大小を色で視覚化する方法である\n",
    "*  相関係数のヒートマップは，seabornの`heatmap`関数で作成でき，引数に`corr`メソッドで求めた相関係数の行列（ヒートマップで表したいデータ）を指定する  \n",
    "*  その他の引数は以下のとおり:\n",
    ">*  `annot = True`: 数値を表示，指定しないとFalse（非表示）\n",
    ">*  `vmin`: データの最小値を指定\n",
    ">*  `vmax`: データの最大値を指定\n",
    "  \n",
    "**［以下のコードの処理内容］**\n",
    "*  1行目: ファイルのURLを変数`url`に代入\n",
    "*  2行目: pandasの`read_csv`関数を使って，ファイルをDataFrameとして読み込んで，変数`df_exam2`に代入\n",
    "*  3行目: `cov`メソッドで，5科目すべて（`df_exam2`）の相関係数を計算し，変数`r`に代入\n",
    "*  4行目: `heatmap`関数を使って，相関係数`r`のヒートマップを作成\n",
    ">*  1つ目の引数に相関係数が代入されている変数`r`を指定\n",
    ">*  `annot=True` ⇒ 数値を表示，指定しないと False（非表示）\n",
    ">*  `vmin`, `vmax` ⇒ データの最小値`-1`と最大値`1`を指定\n",
    "*  4行目: `show`関数で，それまでに設定した図（ヒートマップ）を実行画面に表示"
   ]
  },
  {
   "cell_type": "code",
   "execution_count": 3,
   "metadata": {
    "colab": {
     "base_uri": "https://localhost:8080/",
     "height": 441
    },
    "executionInfo": {
     "elapsed": 1444,
     "status": "ok",
     "timestamp": 1710051272108,
     "user": {
      "displayName": "Takahiro YOSHIDA",
      "userId": "00096252480874798687"
     },
     "user_tz": -540
    },
    "id": "U549R0gmt8FB",
    "outputId": "af0e7c96-ea2d-4c16-a850-7906fe155a57"
   },
   "outputs": [
    {
     "data": {
      "image/png": "[encoded data removed]",
      "text/plain": [
       "<Figure size 640x480 with 2 Axes>"
      ]
     },
     "metadata": {},
     "output_type": "display_data"
    }
   ],
   "source": [
    "url = 'https://bit.ly/4kjzBL6'\n",
    "df_exam2 = pd.read_csv(url)\n",
    "r = df_exam2.corr()\n",
    "sns.heatmap(r, annot=True, vmin = -1, vmax = 1)\n",
    "plt.show()"
   ]
  }
 ],
 "metadata": {
  "colab": {
   "authorship_tag": "ABX9TyOvzA+TVm5vyCkZQE5s3dTW",
   "provenance": [],
   "toc_visible": true
  },
  "kernelspec": {
   "display_name": "pythonv311",
   "language": "python",
   "name": "python3"
  },
  "language_info": {
   "codemirror_mode": {
    "name": "ipython",
    "version": 3
   },
   "file_extension": ".py",
   "mimetype": "text/x-python",
   "name": "python",
   "nbconvert_exporter": "python",
   "pygments_lexer": "ipython3",
   "version": "3.11.5"
  }
 },
 "nbformat": 4,
 "nbformat_minor": 0
}
